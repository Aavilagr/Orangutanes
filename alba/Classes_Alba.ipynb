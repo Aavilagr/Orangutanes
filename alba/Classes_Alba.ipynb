{
 "cells": [
  {
   "cell_type": "code",
   "execution_count": null,
   "id": "3849bb13",
   "metadata": {},
   "outputs": [],
   "source": []
  },
  {
   "cell_type": "code",
   "execution_count": null,
   "id": "f6b47a95",
   "metadata": {},
   "outputs": [],
   "source": [
    "from lib2to3.pgen2.pgen import DFAState\n",
    "import pandas as pd\n",
    "import numpy as np\n",
    "\n",
    "DATE = 'date'\n",
    "SUBJECT = 'subject'\n",
    "PERIOD = 'period'\n",
    "REG='reg'\n",
    "BEHAVIOR='behavior'\n",
    "FRECUENCY='frecuency'\n",
    "RECEPTOR='receptor'\n",
    "DURATION='duration'\n",
    "\n",
    "class DataManager():\n",
    "    def __init__(self, df):\n",
    "        self.df = df\n",
    "\n",
    "    def process_df(self):\n",
    "        return self.df\n",
    "\n",
    "class CleanDF(DataManager):\n",
    "    def __init__(self, df):\n",
    "        super(CleanDF, self).__init__(df)\n",
    "\n",
    "    def process_df(self):\n",
    "        self.drop_columns()\n",
    "        self.columns_to_english()\n",
    "        self.freq_to_duration()\n",
    "        super().process_df()\n",
    "    \n",
    "    def columns_to_english(self):\n",
    "        columns = {'Fecha': DATE,\n",
    "                   'Sujeto': SUBJECT,\n",
    "                   'Periodo':PERIOD,\n",
    "                   'Registro diario': 'reg',\n",
    "                   'Conducta': 'behavior',\n",
    "                   'Frecuencia':'frencuency',\n",
    "                   'Receptor': 'receptor',\n",
    "                   'Duración': 'duration'}\n",
    "        self.df = self.df.rename(columns=columns)\n",
    "\n",
    "    def freq_to_duration(self):\n",
    "        pass\n",
    "    \n",
    "    def drop_columns(self):\n",
    "        self.df = self.df.drop(labels=[\"Observaciones\",\"Ubicacion\"], axis=1)"
   ]
  }
 ],
 "metadata": {
  "kernelspec": {
   "display_name": "Python 3 (ipykernel)",
   "language": "python",
   "name": "python3"
  },
  "language_info": {
   "codemirror_mode": {
    "name": "ipython",
    "version": 3
   },
   "file_extension": ".py",
   "mimetype": "text/x-python",
   "name": "python",
   "nbconvert_exporter": "python",
   "pygments_lexer": "ipython3",
   "version": "3.9.12"
  }
 },
 "nbformat": 4,
 "nbformat_minor": 5
}
