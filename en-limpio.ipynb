{
 "cells": [
  {
   "cell_type": "markdown",
   "metadata": {},
   "source": [
    "# EDA on orangutans behavior dataset\n",
    "\n",
    "> Explicar un poco el dataset y el estudio\n",
    "## Data preparation\n",
    "> Explicar cómo está estructurado el dataset, y cómo pensamos modificarlo\n",
    "\n",
    "    - Cambiar Sujeto a números\n",
    "    - Cambiar Receptor a números\n",
    "    - Cambiar Periodo a números\n",
    "    - Rellenar Frecuencia NaN con 0\n",
    "    - Drop las columnas Ubicación y Observaciones\n"
   ]
  },
  {
   "cell_type": "code",
   "execution_count": 22,
   "metadata": {},
   "outputs": [
    {
     "data": {
      "text/html": [
       "<div>\n",
       "<style scoped>\n",
       "    .dataframe tbody tr th:only-of-type {\n",
       "        vertical-align: middle;\n",
       "    }\n",
       "\n",
       "    .dataframe tbody tr th {\n",
       "        vertical-align: top;\n",
       "    }\n",
       "\n",
       "    .dataframe thead th {\n",
       "        text-align: right;\n",
       "    }\n",
       "</style>\n",
       "<table border=\"1\" class=\"dataframe\">\n",
       "  <thead>\n",
       "    <tr style=\"text-align: right;\">\n",
       "      <th></th>\n",
       "      <th>Fecha</th>\n",
       "      <th>Sujeto</th>\n",
       "      <th>Periodo</th>\n",
       "      <th>Registro diario</th>\n",
       "      <th>Conducta</th>\n",
       "      <th>Receptor</th>\n",
       "      <th>Frecuencia</th>\n",
       "      <th>Duración</th>\n",
       "      <th>Ubicacion</th>\n",
       "      <th>Observaciones</th>\n",
       "    </tr>\n",
       "  </thead>\n",
       "  <tbody>\n",
       "    <tr>\n",
       "      <th>0</th>\n",
       "      <td>2019-04-15</td>\n",
       "      <td>Karl</td>\n",
       "      <td>Prejuego</td>\n",
       "      <td>1</td>\n",
       "      <td>Cam</td>\n",
       "      <td>NaN</td>\n",
       "      <td>NaN</td>\n",
       "      <td>00:00:15</td>\n",
       "      <td>vg2</td>\n",
       "      <td>NaN</td>\n",
       "    </tr>\n",
       "    <tr>\n",
       "      <th>1</th>\n",
       "      <td>2019-04-15</td>\n",
       "      <td>Karl</td>\n",
       "      <td>Prejuego</td>\n",
       "      <td>1</td>\n",
       "      <td>Forr</td>\n",
       "      <td>NaN</td>\n",
       "      <td>NaN</td>\n",
       "      <td>00:00:34</td>\n",
       "      <td>vg2</td>\n",
       "      <td>NaN</td>\n",
       "    </tr>\n",
       "    <tr>\n",
       "      <th>2</th>\n",
       "      <td>2019-04-15</td>\n",
       "      <td>Karl</td>\n",
       "      <td>Prejuego</td>\n",
       "      <td>1</td>\n",
       "      <td>Sen</td>\n",
       "      <td>NaN</td>\n",
       "      <td>NaN</td>\n",
       "      <td>00:00:52</td>\n",
       "      <td>vg4</td>\n",
       "      <td>NaN</td>\n",
       "    </tr>\n",
       "    <tr>\n",
       "      <th>3</th>\n",
       "      <td>2019-04-15</td>\n",
       "      <td>Karl</td>\n",
       "      <td>Prejuego</td>\n",
       "      <td>1</td>\n",
       "      <td>Cam</td>\n",
       "      <td>NaN</td>\n",
       "      <td>NaN</td>\n",
       "      <td>00:00:05</td>\n",
       "      <td>vg4</td>\n",
       "      <td>NaN</td>\n",
       "    </tr>\n",
       "    <tr>\n",
       "      <th>4</th>\n",
       "      <td>2019-04-15</td>\n",
       "      <td>Karl</td>\n",
       "      <td>Prejuego</td>\n",
       "      <td>1</td>\n",
       "      <td>Sen</td>\n",
       "      <td>NaN</td>\n",
       "      <td>NaN</td>\n",
       "      <td>00:00:34</td>\n",
       "      <td>vg4</td>\n",
       "      <td>NaN</td>\n",
       "    </tr>\n",
       "  </tbody>\n",
       "</table>\n",
       "</div>"
      ],
      "text/plain": [
       "       Fecha Sujeto   Periodo  Registro diario Conducta Receptor Frecuencia  \\\n",
       "0 2019-04-15   Karl  Prejuego                1      Cam      NaN        NaN   \n",
       "1 2019-04-15   Karl  Prejuego                1     Forr      NaN        NaN   \n",
       "2 2019-04-15   Karl  Prejuego                1      Sen      NaN        NaN   \n",
       "3 2019-04-15   Karl  Prejuego                1      Cam      NaN        NaN   \n",
       "4 2019-04-15   Karl  Prejuego                1      Sen      NaN        NaN   \n",
       "\n",
       "   Duración Ubicacion Observaciones  \n",
       "0  00:00:15       vg2           NaN  \n",
       "1  00:00:34       vg2           NaN  \n",
       "2  00:00:52       vg4           NaN  \n",
       "3  00:00:05       vg4           NaN  \n",
       "4  00:00:34       vg4           NaN  "
      ]
     },
     "execution_count": 22,
     "metadata": {},
     "output_type": "execute_result"
    }
   ],
   "source": [
    "import pandas as pd\n",
    "import numpy as np\n",
    "\n",
    "xls = pd.ExcelFile(r'./Registro orangutanes Barcelona.xlsx')\n",
    "df_raw = pd.read_excel(xls,'Grupo')\n",
    "df_raw.head()"
   ]
  },
  {
   "cell_type": "markdown",
   "metadata": {},
   "source": [
    "- Drop las columnas Ubicación y Observaciones"
   ]
  },
  {
   "cell_type": "code",
   "execution_count": 23,
   "metadata": {},
   "outputs": [],
   "source": [
    "df_raw=df_raw.drop(labels=[\"Observaciones\",\"Ubicacion\"], axis=1)"
   ]
  },
  {
   "cell_type": "markdown",
   "metadata": {},
   "source": [
    "- Quitar asteriscos y cosas raras de 'Receptor'"
   ]
  },
  {
   "cell_type": "code",
   "execution_count": 24,
   "metadata": {},
   "outputs": [
    {
     "data": {
      "text/plain": [
       "Hadia                 552\n",
       "Storma                527\n",
       "Jawie                 520\n",
       "Locky                 446\n",
       "Popo                  391\n",
       "                       68\n",
       "Gibon                  40\n",
       "Locky Storma           25\n",
       "Karl                   21\n",
       "Popo Hadia             20\n",
       "Storma Hadia           19\n",
       "Jawie Hadia            17\n",
       "Storma Popo            15\n",
       "Locky Popo             15\n",
       "Jawie Storma           11\n",
       "Jawie Popo              9\n",
       "Storma Jawie            7\n",
       "Locky Hadia             5\n",
       "Locky Jawie             3\n",
       "Storma Jawie Hadia      3\n",
       "Locky Popo Hadia        2\n",
       "Storma Popo Hadia       2\n",
       "Locky Storma Jawie      2\n",
       "Popo Gibon              1\n",
       "Todos                   1\n",
       "Popo Hadia*             1\n",
       "Storma Jawie*           1\n",
       "Storma  Jawie Popo      1\n",
       "Locky Storma Hadia      1\n",
       "locky Storma            1\n",
       "Locky Jawie Storma      1\n",
       "Name: Receptor, dtype: int64"
      ]
     },
     "execution_count": 24,
     "metadata": {},
     "output_type": "execute_result"
    }
   ],
   "source": [
    "df_raw.loc[df_raw['Receptor'] == 'Gibon*', 'Receptor'] = 'Gibon'\n",
    "df_raw.loc[df_raw['Receptor'] == 'Storma*', 'Receptor'] = 'Storma'\n",
    "df_raw.loc[df_raw['Receptor'] == 'Locky*', 'Receptor'] = 'Locky'\n",
    "df_raw.loc[df_raw['Receptor'] == 'Hadia*', 'Receptor'] = 'Hadia'\n",
    "df_raw.loc[df_raw['Receptor'] == 'Popo*', 'Receptor'] = 'Popo'\n",
    "df_raw.loc[df_raw['Receptor'] == 'Jawie*', 'Receptor'] = 'Jawie'\n",
    "df_raw.loc[df_raw['Receptor'] == 'jawie', 'Receptor'] = 'Jawie'\n",
    "\n",
    "\n",
    "df_raw['Receptor'].value_counts()"
   ]
  },
  {
   "cell_type": "markdown",
   "metadata": {},
   "source": [
    "- Pasar de cadenas a listas de nombres"
   ]
  },
  {
   "cell_type": "code",
   "execution_count": 25,
   "metadata": {},
   "outputs": [
    {
     "data": {
      "text/plain": [
       "[]                        5454\n",
       "[Hadia]                    552\n",
       "[Storma]                   527\n",
       "[Jawie]                    520\n",
       "[Locky]                    446\n",
       "[Popo]                     391\n",
       "[Gibon]                     40\n",
       "[Locky, Storma]             25\n",
       "[Karl]                      21\n",
       "[Popo, Hadia]               20\n",
       "[Storma, Hadia]             19\n",
       "[Jawie, Hadia]              17\n",
       "[Locky, Popo]               15\n",
       "[Storma, Popo]              15\n",
       "[Jawie, Storma]             11\n",
       "[Jawie, Popo]                9\n",
       "[Storma, Jawie]              7\n",
       "[Locky, Hadia]               5\n",
       "[Locky, Jawie]               3\n",
       "[Storma, Jawie, Hadia]       3\n",
       "[Locky, Popo, Hadia]         2\n",
       "[Storma, Popo, Hadia]        2\n",
       "[Locky, Storma, Jawie]       2\n",
       "[Popo, Gibon]                1\n",
       "[Todos]                      1\n",
       "[Popo, Hadia*]               1\n",
       "[Storma, Jawie*]             1\n",
       "[Storma, Jawie, Popo]        1\n",
       "[Locky, Storma, Hadia]       1\n",
       "[locky, Storma]              1\n",
       "[Locky, Jawie, Storma]       1\n",
       "Name: Receptor, dtype: int64"
      ]
     },
     "execution_count": 25,
     "metadata": {},
     "output_type": "execute_result"
    }
   ],
   "source": [
    "df_raw['Receptor'] = df_raw['Receptor'].fillna('')\n",
    "df_raw['Receptor'] = df_raw.Receptor.apply(lambda x : x.split())\n",
    "df_raw['Receptor'].value_counts()"
   ]
  },
  {
   "cell_type": "markdown",
   "metadata": {},
   "source": [
    "- convertir los sujetos de string a int"
   ]
  },
  {
   "cell_type": "code",
   "execution_count": 26,
   "metadata": {},
   "outputs": [],
   "source": [
    "df_raw.loc[df_raw['Sujeto'] == 'Karl', 'Sujeto'] = 0\n",
    "df_raw.loc[df_raw['Sujeto'] == 'Locky', 'Sujeto'] = 1\n",
    "df_raw.loc[df_raw['Sujeto'] == 'Jawie', 'Sujeto'] = 2\n",
    "df_raw.loc[df_raw['Sujeto'] == 'Storma', 'Sujeto'] = 3\n",
    "df_raw.loc[df_raw['Sujeto'] == 'Popo', 'Sujeto'] = 4\n",
    "df_raw.loc[df_raw['Sujeto'] == 'Hadia', 'Sujeto'] = 5"
   ]
  },
  {
   "cell_type": "markdown",
   "metadata": {},
   "source": [
    "- Convertir los valores Nan de la columna frecuencia a 0"
   ]
  },
  {
   "cell_type": "code",
   "execution_count": 27,
   "metadata": {},
   "outputs": [],
   "source": [
    "df_raw['Frecuencia'] = df_raw['Frecuencia'].fillna(0)"
   ]
  },
  {
   "cell_type": "markdown",
   "metadata": {},
   "source": [
    "- Limpiar duración y pasarlo todo a datetime\n",
    "  "
   ]
  },
  {
   "cell_type": "code",
   "execution_count": 28,
   "metadata": {},
   "outputs": [
    {
     "data": {
      "text/plain": [
       "Timedelta('3 days 17:05:14.088300')"
      ]
     },
     "execution_count": 28,
     "metadata": {},
     "output_type": "execute_result"
    }
   ],
   "source": [
    "import datetime as dt\n",
    "\n",
    "df_raw.drop(df_raw[df_raw['Duración'] == 'd'].index, inplace=True)\n",
    "df_raw['Duración'] = df_raw['Duración'].fillna(dt.time(0, 0))\n",
    "df_raw[ \"Duración\"] = np.where(df_raw[\"Duración\"].astype(str).str.fullmatch(r'\\s*'),\n",
    "                               dt.time(0,0),\n",
    "                               df_raw['Duración'])\n",
    "def to_seconds(t):\n",
    "    try:\n",
    "        return pd.to_timedelta(str(t))\n",
    "    except:\n",
    "        return np.nan\n",
    "\n",
    "df_raw['Duración'].apply(to_seconds).sum()"
   ]
  },
  {
   "cell_type": "code",
   "execution_count": 29,
   "metadata": {},
   "outputs": [
    {
     "data": {
      "text/html": [
       "<div>\n",
       "<style scoped>\n",
       "    .dataframe tbody tr th:only-of-type {\n",
       "        vertical-align: middle;\n",
       "    }\n",
       "\n",
       "    .dataframe tbody tr th {\n",
       "        vertical-align: top;\n",
       "    }\n",
       "\n",
       "    .dataframe thead th {\n",
       "        text-align: right;\n",
       "    }\n",
       "</style>\n",
       "<table border=\"1\" class=\"dataframe\">\n",
       "  <thead>\n",
       "    <tr style=\"text-align: right;\">\n",
       "      <th></th>\n",
       "      <th>Fecha</th>\n",
       "      <th>Sujeto</th>\n",
       "      <th>Periodo</th>\n",
       "      <th>Registro diario</th>\n",
       "      <th>Conducta</th>\n",
       "      <th>Receptor</th>\n",
       "      <th>Frecuencia</th>\n",
       "      <th>Duración</th>\n",
       "    </tr>\n",
       "  </thead>\n",
       "  <tbody>\n",
       "    <tr>\n",
       "      <th>0</th>\n",
       "      <td>2019-04-15</td>\n",
       "      <td>0</td>\n",
       "      <td>Prejuego</td>\n",
       "      <td>1</td>\n",
       "      <td>Cam</td>\n",
       "      <td>[]</td>\n",
       "      <td>0</td>\n",
       "      <td>00:00:15</td>\n",
       "    </tr>\n",
       "    <tr>\n",
       "      <th>1</th>\n",
       "      <td>2019-04-15</td>\n",
       "      <td>0</td>\n",
       "      <td>Prejuego</td>\n",
       "      <td>1</td>\n",
       "      <td>Forr</td>\n",
       "      <td>[]</td>\n",
       "      <td>0</td>\n",
       "      <td>00:00:34</td>\n",
       "    </tr>\n",
       "    <tr>\n",
       "      <th>2</th>\n",
       "      <td>2019-04-15</td>\n",
       "      <td>0</td>\n",
       "      <td>Prejuego</td>\n",
       "      <td>1</td>\n",
       "      <td>Sen</td>\n",
       "      <td>[]</td>\n",
       "      <td>0</td>\n",
       "      <td>00:00:52</td>\n",
       "    </tr>\n",
       "    <tr>\n",
       "      <th>3</th>\n",
       "      <td>2019-04-15</td>\n",
       "      <td>0</td>\n",
       "      <td>Prejuego</td>\n",
       "      <td>1</td>\n",
       "      <td>Cam</td>\n",
       "      <td>[]</td>\n",
       "      <td>0</td>\n",
       "      <td>00:00:05</td>\n",
       "    </tr>\n",
       "    <tr>\n",
       "      <th>4</th>\n",
       "      <td>2019-04-15</td>\n",
       "      <td>0</td>\n",
       "      <td>Prejuego</td>\n",
       "      <td>1</td>\n",
       "      <td>Sen</td>\n",
       "      <td>[]</td>\n",
       "      <td>0</td>\n",
       "      <td>00:00:34</td>\n",
       "    </tr>\n",
       "    <tr>\n",
       "      <th>...</th>\n",
       "      <td>...</td>\n",
       "      <td>...</td>\n",
       "      <td>...</td>\n",
       "      <td>...</td>\n",
       "      <td>...</td>\n",
       "      <td>...</td>\n",
       "      <td>...</td>\n",
       "      <td>...</td>\n",
       "    </tr>\n",
       "    <tr>\n",
       "      <th>8109</th>\n",
       "      <td>2019-07-19</td>\n",
       "      <td>5</td>\n",
       "      <td>Postjuego</td>\n",
       "      <td>2</td>\n",
       "      <td>Tre</td>\n",
       "      <td>[]</td>\n",
       "      <td>0</td>\n",
       "      <td>00:00:09</td>\n",
       "    </tr>\n",
       "    <tr>\n",
       "      <th>8110</th>\n",
       "      <td>2019-07-19</td>\n",
       "      <td>5</td>\n",
       "      <td>Postjuego</td>\n",
       "      <td>2</td>\n",
       "      <td>Alim</td>\n",
       "      <td>[]</td>\n",
       "      <td>0</td>\n",
       "      <td>00:01:34</td>\n",
       "    </tr>\n",
       "    <tr>\n",
       "      <th>8111</th>\n",
       "      <td>2019-07-19</td>\n",
       "      <td>5</td>\n",
       "      <td>Postjuego</td>\n",
       "      <td>2</td>\n",
       "      <td>Jacrob</td>\n",
       "      <td>[]</td>\n",
       "      <td>0</td>\n",
       "      <td>00:00:21</td>\n",
       "    </tr>\n",
       "    <tr>\n",
       "      <th>8112</th>\n",
       "      <td>2019-07-19</td>\n",
       "      <td>5</td>\n",
       "      <td>Postjuego</td>\n",
       "      <td>2</td>\n",
       "      <td>Bra</td>\n",
       "      <td>[]</td>\n",
       "      <td>0</td>\n",
       "      <td>00:00:03</td>\n",
       "    </tr>\n",
       "    <tr>\n",
       "      <th>8113</th>\n",
       "      <td>2019-07-19</td>\n",
       "      <td>5</td>\n",
       "      <td>Postjuego</td>\n",
       "      <td>2</td>\n",
       "      <td>Alim</td>\n",
       "      <td>[]</td>\n",
       "      <td>0</td>\n",
       "      <td>00:03:12</td>\n",
       "    </tr>\n",
       "  </tbody>\n",
       "</table>\n",
       "<p>8113 rows × 8 columns</p>\n",
       "</div>"
      ],
      "text/plain": [
       "          Fecha Sujeto    Periodo  Registro diario Conducta Receptor  \\\n",
       "0    2019-04-15      0   Prejuego                1      Cam       []   \n",
       "1    2019-04-15      0   Prejuego                1     Forr       []   \n",
       "2    2019-04-15      0   Prejuego                1      Sen       []   \n",
       "3    2019-04-15      0   Prejuego                1      Cam       []   \n",
       "4    2019-04-15      0   Prejuego                1      Sen       []   \n",
       "...         ...    ...        ...              ...      ...      ...   \n",
       "8109 2019-07-19      5  Postjuego                2      Tre       []   \n",
       "8110 2019-07-19      5  Postjuego                2     Alim       []   \n",
       "8111 2019-07-19      5  Postjuego                2   Jacrob       []   \n",
       "8112 2019-07-19      5  Postjuego                2      Bra       []   \n",
       "8113 2019-07-19      5  Postjuego                2     Alim       []   \n",
       "\n",
       "     Frecuencia  Duración  \n",
       "0             0  00:00:15  \n",
       "1             0  00:00:34  \n",
       "2             0  00:00:52  \n",
       "3             0  00:00:05  \n",
       "4             0  00:00:34  \n",
       "...         ...       ...  \n",
       "8109          0  00:00:09  \n",
       "8110          0  00:01:34  \n",
       "8111          0  00:00:21  \n",
       "8112          0  00:00:03  \n",
       "8113          0  00:03:12  \n",
       "\n",
       "[8113 rows x 8 columns]"
      ]
     },
     "execution_count": 29,
     "metadata": {},
     "output_type": "execute_result"
    }
   ],
   "source": [
    "df_raw"
   ]
  },
  {
   "cell_type": "code",
   "execution_count": null,
   "metadata": {},
   "outputs": [],
   "source": []
  }
 ],
 "metadata": {
  "kernelspec": {
   "display_name": "Python 3 (ipykernel)",
   "language": "python",
   "name": "python3"
  },
  "language_info": {
   "codemirror_mode": {
    "name": "ipython",
    "version": 3
   },
   "file_extension": ".py",
   "mimetype": "text/x-python",
   "name": "python",
   "nbconvert_exporter": "python",
   "pygments_lexer": "ipython3",
   "version": "3.9.12"
  },
  "vscode": {
   "interpreter": {
    "hash": "51fb76d8006b5ab0e0c4fcd365bc9e8f1c8f496fafcc4f75d4d513b2517b500d"
   }
  }
 },
 "nbformat": 4,
 "nbformat_minor": 2
}
