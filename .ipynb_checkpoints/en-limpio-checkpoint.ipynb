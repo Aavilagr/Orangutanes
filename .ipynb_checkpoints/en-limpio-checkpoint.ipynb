{
 "cells": [
  {
   "cell_type": "markdown",
   "metadata": {},
   "source": [
    "# EDA on orangutans behavior dataset\n",
    "\n",
    "> Explicar un poco el dataset y el estudio\n",
    "## Data preparation\n",
    "> Explicar cómo está estructurado el dataset, y cómo pensamos modificarlo\n",
    "    - \n"
   ]
  },
  {
   "cell_type": "code",
   "execution_count": 2,
   "metadata": {},
   "outputs": [
    {
     "data": {
      "text/html": [
       "<div>\n",
       "<style scoped>\n",
       "    .dataframe tbody tr th:only-of-type {\n",
       "        vertical-align: middle;\n",
       "    }\n",
       "\n",
       "    .dataframe tbody tr th {\n",
       "        vertical-align: top;\n",
       "    }\n",
       "\n",
       "    .dataframe thead th {\n",
       "        text-align: right;\n",
       "    }\n",
       "</style>\n",
       "<table border=\"1\" class=\"dataframe\">\n",
       "  <thead>\n",
       "    <tr style=\"text-align: right;\">\n",
       "      <th></th>\n",
       "      <th>Fecha</th>\n",
       "      <th>Sujeto</th>\n",
       "      <th>Periodo</th>\n",
       "      <th>Registro diario</th>\n",
       "      <th>Conducta</th>\n",
       "      <th>Receptor</th>\n",
       "      <th>Frecuencia</th>\n",
       "      <th>Duración</th>\n",
       "      <th>Ubicacion</th>\n",
       "      <th>Observaciones</th>\n",
       "    </tr>\n",
       "  </thead>\n",
       "  <tbody>\n",
       "    <tr>\n",
       "      <th>0</th>\n",
       "      <td>2019-04-15</td>\n",
       "      <td>Karl</td>\n",
       "      <td>Prejuego</td>\n",
       "      <td>1.0</td>\n",
       "      <td>Cam</td>\n",
       "      <td>NaN</td>\n",
       "      <td>NaN</td>\n",
       "      <td>00:00:15</td>\n",
       "      <td>vg2</td>\n",
       "      <td>NaN</td>\n",
       "    </tr>\n",
       "    <tr>\n",
       "      <th>1</th>\n",
       "      <td>2019-04-15</td>\n",
       "      <td>Karl</td>\n",
       "      <td>Prejuego</td>\n",
       "      <td>1.0</td>\n",
       "      <td>Forr</td>\n",
       "      <td>NaN</td>\n",
       "      <td>NaN</td>\n",
       "      <td>00:00:34</td>\n",
       "      <td>vg2</td>\n",
       "      <td>NaN</td>\n",
       "    </tr>\n",
       "    <tr>\n",
       "      <th>2</th>\n",
       "      <td>2019-04-15</td>\n",
       "      <td>Karl</td>\n",
       "      <td>Prejuego</td>\n",
       "      <td>1.0</td>\n",
       "      <td>Sen</td>\n",
       "      <td>NaN</td>\n",
       "      <td>NaN</td>\n",
       "      <td>00:00:52</td>\n",
       "      <td>vg4</td>\n",
       "      <td>NaN</td>\n",
       "    </tr>\n",
       "    <tr>\n",
       "      <th>3</th>\n",
       "      <td>2019-04-15</td>\n",
       "      <td>Karl</td>\n",
       "      <td>Prejuego</td>\n",
       "      <td>1.0</td>\n",
       "      <td>Cam</td>\n",
       "      <td>NaN</td>\n",
       "      <td>NaN</td>\n",
       "      <td>00:00:05</td>\n",
       "      <td>vg4</td>\n",
       "      <td>NaN</td>\n",
       "    </tr>\n",
       "    <tr>\n",
       "      <th>4</th>\n",
       "      <td>2019-04-15</td>\n",
       "      <td>Karl</td>\n",
       "      <td>Prejuego</td>\n",
       "      <td>1.0</td>\n",
       "      <td>Sen</td>\n",
       "      <td>NaN</td>\n",
       "      <td>NaN</td>\n",
       "      <td>00:00:34</td>\n",
       "      <td>vg4</td>\n",
       "      <td>NaN</td>\n",
       "    </tr>\n",
       "  </tbody>\n",
       "</table>\n",
       "</div>"
      ],
      "text/plain": [
       "       Fecha Sujeto   Periodo  Registro diario Conducta Receptor Frecuencia  \\\n",
       "0 2019-04-15   Karl  Prejuego              1.0      Cam      NaN        NaN   \n",
       "1 2019-04-15   Karl  Prejuego              1.0     Forr      NaN        NaN   \n",
       "2 2019-04-15   Karl  Prejuego              1.0      Sen      NaN        NaN   \n",
       "3 2019-04-15   Karl  Prejuego              1.0      Cam      NaN        NaN   \n",
       "4 2019-04-15   Karl  Prejuego              1.0      Sen      NaN        NaN   \n",
       "\n",
       "   Duración Ubicacion Observaciones  \n",
       "0  00:00:15       vg2           NaN  \n",
       "1  00:00:34       vg2           NaN  \n",
       "2  00:00:52       vg4           NaN  \n",
       "3  00:00:05       vg4           NaN  \n",
       "4  00:00:34       vg4           NaN  "
      ]
     },
     "execution_count": 2,
     "metadata": {},
     "output_type": "execute_result"
    }
   ],
   "source": [
    "import pandas as pd\n",
    "import numpy as np\n",
    "\n",
    "xls = pd.ExcelFile(r'./Registro orangutanes Barcelona.xlsx')\n",
    "df_raw = pd.read_excel(xls,'Grupo')\n",
    "df_raw.head()"
   ]
  },
  {
   "cell_type": "markdown",
   "metadata": {},
   "source": []
  }
 ],
 "metadata": {
  "kernelspec": {
   "display_name": "Python 3 (ipykernel)",
   "language": "python",
   "name": "python3"
  },
  "language_info": {
   "codemirror_mode": {
    "name": "ipython",
    "version": 3
   },
   "file_extension": ".py",
   "mimetype": "text/x-python",
   "name": "python",
   "nbconvert_exporter": "python",
   "pygments_lexer": "ipython3",
   "version": "3.9.12"
  },
  "vscode": {
   "interpreter": {
    "hash": "51fb76d8006b5ab0e0c4fcd365bc9e8f1c8f496fafcc4f75d4d513b2517b500d"
   }
  }
 },
 "nbformat": 4,
 "nbformat_minor": 2
}
