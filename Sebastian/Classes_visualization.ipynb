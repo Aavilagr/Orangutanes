{
 "cells": [
  {
   "cell_type": "code",
   "execution_count": 1,
   "id": "6ac68663",
   "metadata": {},
   "outputs": [],
   "source": [
    "from lib2to3.pgen2.pgen import DFAState\n",
    "import pandas as pd\n",
    "import numpy as np\n",
    "import datetime as dt\n",
    "\n",
    "df = pd.read_csv(r'../clean_df.csv',dtype = {'subject': str, 'period' : str, 'duration': float, 'behavior': str,})\n",
    "DATE = 'date'\n",
    "SUBJECT = 'subject'\n",
    "PERIOD = 'period'\n",
    "REG='reg'\n",
    "BEHAVIOR='behavior'\n",
    "FRECUENCY='frecuency'\n",
    "RECEPTOR='receptor'\n",
    "DURATION='duration'\n",
    "\n",
    "\n",
    "#where(df['period'] == Prejuego)"
   ]
  },
  {
   "cell_type": "code",
   "execution_count": 2,
   "id": "5f1b96e9",
   "metadata": {},
   "outputs": [
    {
     "data": {
      "text/html": [
       "<div>\n",
       "<style scoped>\n",
       "    .dataframe tbody tr th:only-of-type {\n",
       "        vertical-align: middle;\n",
       "    }\n",
       "\n",
       "    .dataframe tbody tr th {\n",
       "        vertical-align: top;\n",
       "    }\n",
       "\n",
       "    .dataframe thead th {\n",
       "        text-align: right;\n",
       "    }\n",
       "</style>\n",
       "<table border=\"1\" class=\"dataframe\">\n",
       "  <thead>\n",
       "    <tr style=\"text-align: right;\">\n",
       "      <th></th>\n",
       "      <th>Unnamed: 0</th>\n",
       "      <th>date</th>\n",
       "      <th>subject</th>\n",
       "      <th>period</th>\n",
       "      <th>reg</th>\n",
       "      <th>behavior</th>\n",
       "      <th>receptor</th>\n",
       "      <th>duration</th>\n",
       "    </tr>\n",
       "  </thead>\n",
       "  <tbody>\n",
       "    <tr>\n",
       "      <th>0</th>\n",
       "      <td>0</td>\n",
       "      <td>2019-04-15</td>\n",
       "      <td>Karl</td>\n",
       "      <td>Prejuego</td>\n",
       "      <td>1</td>\n",
       "      <td>cam</td>\n",
       "      <td>[]</td>\n",
       "      <td>15.0</td>\n",
       "    </tr>\n",
       "    <tr>\n",
       "      <th>1</th>\n",
       "      <td>1</td>\n",
       "      <td>2019-04-15</td>\n",
       "      <td>Karl</td>\n",
       "      <td>Prejuego</td>\n",
       "      <td>1</td>\n",
       "      <td>forr</td>\n",
       "      <td>[]</td>\n",
       "      <td>34.0</td>\n",
       "    </tr>\n",
       "    <tr>\n",
       "      <th>2</th>\n",
       "      <td>2</td>\n",
       "      <td>2019-04-15</td>\n",
       "      <td>Karl</td>\n",
       "      <td>Prejuego</td>\n",
       "      <td>1</td>\n",
       "      <td>sen</td>\n",
       "      <td>[]</td>\n",
       "      <td>52.0</td>\n",
       "    </tr>\n",
       "    <tr>\n",
       "      <th>3</th>\n",
       "      <td>3</td>\n",
       "      <td>2019-04-15</td>\n",
       "      <td>Karl</td>\n",
       "      <td>Prejuego</td>\n",
       "      <td>1</td>\n",
       "      <td>cam</td>\n",
       "      <td>[]</td>\n",
       "      <td>5.0</td>\n",
       "    </tr>\n",
       "    <tr>\n",
       "      <th>4</th>\n",
       "      <td>4</td>\n",
       "      <td>2019-04-15</td>\n",
       "      <td>Karl</td>\n",
       "      <td>Prejuego</td>\n",
       "      <td>1</td>\n",
       "      <td>sen</td>\n",
       "      <td>[]</td>\n",
       "      <td>34.0</td>\n",
       "    </tr>\n",
       "    <tr>\n",
       "      <th>...</th>\n",
       "      <td>...</td>\n",
       "      <td>...</td>\n",
       "      <td>...</td>\n",
       "      <td>...</td>\n",
       "      <td>...</td>\n",
       "      <td>...</td>\n",
       "      <td>...</td>\n",
       "      <td>...</td>\n",
       "    </tr>\n",
       "    <tr>\n",
       "      <th>8108</th>\n",
       "      <td>8109</td>\n",
       "      <td>2019-07-19</td>\n",
       "      <td>Hadia</td>\n",
       "      <td>Postjuego</td>\n",
       "      <td>2</td>\n",
       "      <td>tre</td>\n",
       "      <td>[]</td>\n",
       "      <td>9.0</td>\n",
       "    </tr>\n",
       "    <tr>\n",
       "      <th>8109</th>\n",
       "      <td>8110</td>\n",
       "      <td>2019-07-19</td>\n",
       "      <td>Hadia</td>\n",
       "      <td>Postjuego</td>\n",
       "      <td>2</td>\n",
       "      <td>alim</td>\n",
       "      <td>[]</td>\n",
       "      <td>94.0</td>\n",
       "    </tr>\n",
       "    <tr>\n",
       "      <th>8110</th>\n",
       "      <td>8111</td>\n",
       "      <td>2019-07-19</td>\n",
       "      <td>Hadia</td>\n",
       "      <td>Postjuego</td>\n",
       "      <td>2</td>\n",
       "      <td>jacrob</td>\n",
       "      <td>[]</td>\n",
       "      <td>21.0</td>\n",
       "    </tr>\n",
       "    <tr>\n",
       "      <th>8111</th>\n",
       "      <td>8112</td>\n",
       "      <td>2019-07-19</td>\n",
       "      <td>Hadia</td>\n",
       "      <td>Postjuego</td>\n",
       "      <td>2</td>\n",
       "      <td>bra</td>\n",
       "      <td>[]</td>\n",
       "      <td>3.0</td>\n",
       "    </tr>\n",
       "    <tr>\n",
       "      <th>8112</th>\n",
       "      <td>8113</td>\n",
       "      <td>2019-07-19</td>\n",
       "      <td>Hadia</td>\n",
       "      <td>Postjuego</td>\n",
       "      <td>2</td>\n",
       "      <td>alim</td>\n",
       "      <td>[]</td>\n",
       "      <td>192.0</td>\n",
       "    </tr>\n",
       "  </tbody>\n",
       "</table>\n",
       "<p>8113 rows × 8 columns</p>\n",
       "</div>"
      ],
      "text/plain": [
       "      Unnamed: 0        date subject     period  reg behavior receptor  \\\n",
       "0              0  2019-04-15    Karl   Prejuego    1      cam       []   \n",
       "1              1  2019-04-15    Karl   Prejuego    1     forr       []   \n",
       "2              2  2019-04-15    Karl   Prejuego    1      sen       []   \n",
       "3              3  2019-04-15    Karl   Prejuego    1      cam       []   \n",
       "4              4  2019-04-15    Karl   Prejuego    1      sen       []   \n",
       "...          ...         ...     ...        ...  ...      ...      ...   \n",
       "8108        8109  2019-07-19   Hadia  Postjuego    2      tre       []   \n",
       "8109        8110  2019-07-19   Hadia  Postjuego    2     alim       []   \n",
       "8110        8111  2019-07-19   Hadia  Postjuego    2   jacrob       []   \n",
       "8111        8112  2019-07-19   Hadia  Postjuego    2      bra       []   \n",
       "8112        8113  2019-07-19   Hadia  Postjuego    2     alim       []   \n",
       "\n",
       "      duration  \n",
       "0         15.0  \n",
       "1         34.0  \n",
       "2         52.0  \n",
       "3          5.0  \n",
       "4         34.0  \n",
       "...        ...  \n",
       "8108       9.0  \n",
       "8109      94.0  \n",
       "8110      21.0  \n",
       "8111       3.0  \n",
       "8112     192.0  \n",
       "\n",
       "[8113 rows x 8 columns]"
      ]
     },
     "execution_count": 2,
     "metadata": {},
     "output_type": "execute_result"
    }
   ],
   "source": [
    "df"
   ]
  },
  {
   "cell_type": "code",
   "execution_count": 3,
   "id": "045c4b93",
   "metadata": {},
   "outputs": [],
   "source": [
    "hola=df.groupby(['period']).duration.sum()"
   ]
  },
  {
   "cell_type": "code",
   "execution_count": 4,
   "id": "6c2c22c4",
   "metadata": {},
   "outputs": [],
   "source": [
    "#df.loc[(df['period'] == \"Juego\") & (df['behavior'] == \"bra\")]\n",
    "#df.loc[df['behavior'].isin(['cam','corr','tre','bra'])]\n",
    "#df.loc[(df['column_name'] >= A) & (df['column_name'] <= B)]\n",
    "\n"
   ]
  },
  {
   "cell_type": "markdown",
   "id": "42287d61",
   "metadata": {},
   "source": [
    " Positivas:\n",
    "    - Conductas lúdicas\n",
    "    - Lúdico-sociales\n",
    "   D - Afiliativas\n",
    "  - Neutras:\n",
    "    D- Reposo\n",
    "    D- Locomoción\n",
    "    - Alimentación\n",
    "    - Higiene\n",
    "    - Conductas de exploración\n",
    "  - Negativas:\n",
    "  D  - Agonísticas\n",
    "   D  - Interacción con el público\n",
    "  - Sexuales"
   ]
  },
  {
   "cell_type": "code",
   "execution_count": 5,
   "id": "9d5388fe",
   "metadata": {},
   "outputs": [],
   "source": [
    "locomocio=df.loc[df['behavior'].isin([\"bra\",\"cam\",\"corr\",\"tre\"])]\n",
    "locdf=locomocio.groupby(['period']).duration.sum().to_frame('duracion_locomocio')\n"
   ]
  },
  {
   "cell_type": "code",
   "execution_count": 21,
   "id": "007f2576",
   "metadata": {},
   "outputs": [
    {
     "data": {
      "text/html": [
       "<div>\n",
       "<style scoped>\n",
       "    .dataframe tbody tr th:only-of-type {\n",
       "        vertical-align: middle;\n",
       "    }\n",
       "\n",
       "    .dataframe tbody tr th {\n",
       "        vertical-align: top;\n",
       "    }\n",
       "\n",
       "    .dataframe thead th {\n",
       "        text-align: right;\n",
       "    }\n",
       "</style>\n",
       "<table border=\"1\" class=\"dataframe\">\n",
       "  <thead>\n",
       "    <tr style=\"text-align: right;\">\n",
       "      <th></th>\n",
       "      <th>Unnamed: 0</th>\n",
       "      <th>date</th>\n",
       "      <th>subject</th>\n",
       "      <th>period</th>\n",
       "      <th>reg</th>\n",
       "      <th>behavior</th>\n",
       "      <th>receptor</th>\n",
       "      <th>duration</th>\n",
       "    </tr>\n",
       "  </thead>\n",
       "  <tbody>\n",
       "    <tr>\n",
       "      <th>2</th>\n",
       "      <td>2</td>\n",
       "      <td>2019-04-15</td>\n",
       "      <td>Karl</td>\n",
       "      <td>Prejuego</td>\n",
       "      <td>1</td>\n",
       "      <td>sen</td>\n",
       "      <td>[]</td>\n",
       "      <td>52.0</td>\n",
       "    </tr>\n",
       "    <tr>\n",
       "      <th>4</th>\n",
       "      <td>4</td>\n",
       "      <td>2019-04-15</td>\n",
       "      <td>Karl</td>\n",
       "      <td>Prejuego</td>\n",
       "      <td>1</td>\n",
       "      <td>sen</td>\n",
       "      <td>[]</td>\n",
       "      <td>34.0</td>\n",
       "    </tr>\n",
       "    <tr>\n",
       "      <th>8</th>\n",
       "      <td>8</td>\n",
       "      <td>2019-04-15</td>\n",
       "      <td>Karl</td>\n",
       "      <td>Prejuego</td>\n",
       "      <td>1</td>\n",
       "      <td>sen</td>\n",
       "      <td>[]</td>\n",
       "      <td>44.0</td>\n",
       "    </tr>\n",
       "    <tr>\n",
       "      <th>10</th>\n",
       "      <td>10</td>\n",
       "      <td>2019-04-15</td>\n",
       "      <td>Karl</td>\n",
       "      <td>Prejuego</td>\n",
       "      <td>1</td>\n",
       "      <td>sen</td>\n",
       "      <td>[]</td>\n",
       "      <td>28.0</td>\n",
       "    </tr>\n",
       "    <tr>\n",
       "      <th>12</th>\n",
       "      <td>12</td>\n",
       "      <td>2019-04-15</td>\n",
       "      <td>Karl</td>\n",
       "      <td>Prejuego</td>\n",
       "      <td>1</td>\n",
       "      <td>sen</td>\n",
       "      <td>[]</td>\n",
       "      <td>32.0</td>\n",
       "    </tr>\n",
       "    <tr>\n",
       "      <th>...</th>\n",
       "      <td>...</td>\n",
       "      <td>...</td>\n",
       "      <td>...</td>\n",
       "      <td>...</td>\n",
       "      <td>...</td>\n",
       "      <td>...</td>\n",
       "      <td>...</td>\n",
       "      <td>...</td>\n",
       "    </tr>\n",
       "    <tr>\n",
       "      <th>8074</th>\n",
       "      <td>8075</td>\n",
       "      <td>2019-07-18</td>\n",
       "      <td>Hadia</td>\n",
       "      <td>Postjuego</td>\n",
       "      <td>2</td>\n",
       "      <td>sen</td>\n",
       "      <td>[]</td>\n",
       "      <td>12.0</td>\n",
       "    </tr>\n",
       "    <tr>\n",
       "      <th>8086</th>\n",
       "      <td>8087</td>\n",
       "      <td>2019-07-19</td>\n",
       "      <td>Hadia</td>\n",
       "      <td>Postjuego</td>\n",
       "      <td>1</td>\n",
       "      <td>tum</td>\n",
       "      <td>[]</td>\n",
       "      <td>69.0</td>\n",
       "    </tr>\n",
       "    <tr>\n",
       "      <th>8087</th>\n",
       "      <td>8088</td>\n",
       "      <td>2019-07-19</td>\n",
       "      <td>Hadia</td>\n",
       "      <td>Postjuego</td>\n",
       "      <td>1</td>\n",
       "      <td>sen</td>\n",
       "      <td>[]</td>\n",
       "      <td>7.0</td>\n",
       "    </tr>\n",
       "    <tr>\n",
       "      <th>8088</th>\n",
       "      <td>8089</td>\n",
       "      <td>2019-07-19</td>\n",
       "      <td>Hadia</td>\n",
       "      <td>Postjuego</td>\n",
       "      <td>1</td>\n",
       "      <td>tum</td>\n",
       "      <td>[]</td>\n",
       "      <td>16.0</td>\n",
       "    </tr>\n",
       "    <tr>\n",
       "      <th>8090</th>\n",
       "      <td>8091</td>\n",
       "      <td>2019-07-19</td>\n",
       "      <td>Hadia</td>\n",
       "      <td>Postjuego</td>\n",
       "      <td>1</td>\n",
       "      <td>sen</td>\n",
       "      <td>[]</td>\n",
       "      <td>15.0</td>\n",
       "    </tr>\n",
       "  </tbody>\n",
       "</table>\n",
       "<p>1337 rows × 8 columns</p>\n",
       "</div>"
      ],
      "text/plain": [
       "      Unnamed: 0        date subject     period  reg behavior receptor  \\\n",
       "2              2  2019-04-15    Karl   Prejuego    1      sen       []   \n",
       "4              4  2019-04-15    Karl   Prejuego    1      sen       []   \n",
       "8              8  2019-04-15    Karl   Prejuego    1      sen       []   \n",
       "10            10  2019-04-15    Karl   Prejuego    1      sen       []   \n",
       "12            12  2019-04-15    Karl   Prejuego    1      sen       []   \n",
       "...          ...         ...     ...        ...  ...      ...      ...   \n",
       "8074        8075  2019-07-18   Hadia  Postjuego    2      sen       []   \n",
       "8086        8087  2019-07-19   Hadia  Postjuego    1      tum       []   \n",
       "8087        8088  2019-07-19   Hadia  Postjuego    1      sen       []   \n",
       "8088        8089  2019-07-19   Hadia  Postjuego    1      tum       []   \n",
       "8090        8091  2019-07-19   Hadia  Postjuego    1      sen       []   \n",
       "\n",
       "      duration  \n",
       "2         52.0  \n",
       "4         34.0  \n",
       "8         44.0  \n",
       "10        28.0  \n",
       "12        32.0  \n",
       "...        ...  \n",
       "8074      12.0  \n",
       "8086      69.0  \n",
       "8087       7.0  \n",
       "8088      16.0  \n",
       "8090      15.0  \n",
       "\n",
       "[1337 rows x 8 columns]"
      ]
     },
     "execution_count": 21,
     "metadata": {},
     "output_type": "execute_result"
    }
   ],
   "source": [
    "reposo= df.loc[df['behavior'].isin([\"sen\",\"quad\",\"tum\"])]\n",
    "repdf=reposo.groupby(['period']).duration.sum().to_frame('duracion_reposo')\n",
    "reposo\n"
   ]
  },
  {
   "cell_type": "code",
   "execution_count": 7,
   "id": "11eb2fe8",
   "metadata": {},
   "outputs": [],
   "source": [
    "alimentacion= df.loc[df['behavior'].isin([\"alim\",\"forr\"])]\n",
    "alidf=alimentacion.groupby(['period']).duration.sum().to_frame('duracion_alimentacion')\n"
   ]
  },
  {
   "cell_type": "code",
   "execution_count": 8,
   "id": "92be96eb",
   "metadata": {},
   "outputs": [],
   "source": [
    "higiene= df.loc[df['behavior'].isin([\"groo\",\"hur\",\"ras\",\"chup\"])]\n",
    "higienedf=higiene.groupby(['period']).duration.sum().to_frame('duracion_higiene')\n"
   ]
  },
  {
   "cell_type": "code",
   "execution_count": 9,
   "id": "9811f258",
   "metadata": {},
   "outputs": [],
   "source": [
    "ludicas= df.loc[df['behavior'].isin([\"jsol\",\"jexp\",\"jacrob\"])]\n",
    "ludicasdf=ludicas.groupby(['period']).duration.sum().to_frame('duracion_ludicas')\n"
   ]
  },
  {
   "cell_type": "code",
   "execution_count": 10,
   "id": "e111b2bc",
   "metadata": {},
   "outputs": [],
   "source": [
    "exploracion= df.loc[df['behavior'].isin([\"ins\"])]\n",
    "expdf=exploracion.groupby(['period']).duration.sum().to_frame('duracion_exploracion')\n"
   ]
  },
  {
   "cell_type": "code",
   "execution_count": 11,
   "id": "86cef64d",
   "metadata": {},
   "outputs": [],
   "source": [
    "sex= df.loc[df['behavior'].isin([\"sex\"])]\n",
    "sexdf=sex.groupby(['period']).duration.sum().to_frame('duracion_sexual')\n"
   ]
  },
  {
   "cell_type": "code",
   "execution_count": 22,
   "id": "90ba8c89",
   "metadata": {},
   "outputs": [
    {
     "data": {
      "text/html": [
       "<div>\n",
       "<style scoped>\n",
       "    .dataframe tbody tr th:only-of-type {\n",
       "        vertical-align: middle;\n",
       "    }\n",
       "\n",
       "    .dataframe tbody tr th {\n",
       "        vertical-align: top;\n",
       "    }\n",
       "\n",
       "    .dataframe thead th {\n",
       "        text-align: right;\n",
       "    }\n",
       "</style>\n",
       "<table border=\"1\" class=\"dataframe\">\n",
       "  <thead>\n",
       "    <tr style=\"text-align: right;\">\n",
       "      <th></th>\n",
       "      <th>duracion_agonisticas</th>\n",
       "    </tr>\n",
       "    <tr>\n",
       "      <th>period</th>\n",
       "      <th></th>\n",
       "    </tr>\n",
       "  </thead>\n",
       "  <tbody>\n",
       "    <tr>\n",
       "      <th>Juego</th>\n",
       "      <td>585.000</td>\n",
       "    </tr>\n",
       "    <tr>\n",
       "      <th>Postjuego</th>\n",
       "      <td>170.053</td>\n",
       "    </tr>\n",
       "    <tr>\n",
       "      <th>Prejuego</th>\n",
       "      <td>313.000</td>\n",
       "    </tr>\n",
       "  </tbody>\n",
       "</table>\n",
       "</div>"
      ],
      "text/plain": [
       "           duracion_agonisticas\n",
       "period                         \n",
       "Juego                   585.000\n",
       "Postjuego               170.053\n",
       "Prejuego                313.000"
      ]
     },
     "execution_count": 22,
     "metadata": {},
     "output_type": "execute_result"
    }
   ],
   "source": [
    "agonistica=df.loc[df['behavior'].isin([\"con\",\"marc\",\"huir\"])]\n",
    "agonisticadf=agonistica.groupby(['period']).duration.sum().to_frame('duracion_agonisticas')\n",
    "fq_prejuego_agonistica=agonistica[agonistica['period']=='Prejuego']['behavior'].value_counts().sum()\n",
    "fq_juego_agonistica=agonistica[agonistica['period']=='Juego']['behavior'].value_counts().sum()\n",
    "fq_postjuego_agonistica=agonistica[agonistica['period']=='Postjuego']['behavior'].value_counts().sum()\n",
    "agonisticadf"
   ]
  },
  {
   "cell_type": "code",
   "execution_count": 13,
   "id": "06908bdb",
   "metadata": {},
   "outputs": [],
   "source": [
    "lud_soc= df.loc[df['behavior'].isin([\"lucha\",\"perj\"])]\n",
    "ludsocdf=lud_soc.groupby(['period']).duration.sum().to_frame('duracion_ludico_social')"
   ]
  },
  {
   "cell_type": "code",
   "execution_count": 14,
   "id": "84125031",
   "metadata": {},
   "outputs": [],
   "source": [
    "publico=df.loc[df['behavior'].isin([\"pub\"])]\n",
    "publicodf=publico.groupby(['period']).duration.sum().to_frame('duracion_publico')"
   ]
  },
  {
   "cell_type": "code",
   "execution_count": 24,
   "id": "a7ab9065",
   "metadata": {},
   "outputs": [
    {
     "name": "stdout",
     "output_type": "stream",
     "text": [
      "713\n"
     ]
    },
    {
     "data": {
      "text/html": [
       "<div>\n",
       "<style scoped>\n",
       "    .dataframe tbody tr th:only-of-type {\n",
       "        vertical-align: middle;\n",
       "    }\n",
       "\n",
       "    .dataframe tbody tr th {\n",
       "        vertical-align: top;\n",
       "    }\n",
       "\n",
       "    .dataframe thead th {\n",
       "        text-align: right;\n",
       "    }\n",
       "</style>\n",
       "<table border=\"1\" class=\"dataframe\">\n",
       "  <thead>\n",
       "    <tr style=\"text-align: right;\">\n",
       "      <th></th>\n",
       "      <th>duracion_afiliativas</th>\n",
       "    </tr>\n",
       "    <tr>\n",
       "      <th>period</th>\n",
       "      <th></th>\n",
       "    </tr>\n",
       "  </thead>\n",
       "  <tbody>\n",
       "    <tr>\n",
       "      <th>Juego</th>\n",
       "      <td>26351.0000</td>\n",
       "    </tr>\n",
       "    <tr>\n",
       "      <th>Postjuego</th>\n",
       "      <td>24018.0000</td>\n",
       "    </tr>\n",
       "    <tr>\n",
       "      <th>Prejuego</th>\n",
       "      <td>35283.0173</td>\n",
       "    </tr>\n",
       "  </tbody>\n",
       "</table>\n",
       "</div>"
      ],
      "text/plain": [
       "           duracion_afiliativas\n",
       "period                         \n",
       "Juego                26351.0000\n",
       "Postjuego            24018.0000\n",
       "Prejuego             35283.0173"
      ]
     },
     "execution_count": 24,
     "metadata": {},
     "output_type": "execute_result"
    }
   ],
   "source": [
    "afiliativas=df.loc[df['behavior'].isin([\"jun\",\"aprox\",\"trans\",\"toca\",\"solj\",\"alogroo\"])]\n",
    "afiliativasdf=afiliativas.groupby(['period']).duration.sum().to_frame('duracion_afiliativas')\n",
    "fq_prejuego_afiliativas=afiliativas[afiliativas['period']=='Prejuego']['behavior'].value_counts().sum()\n",
    "print(fq_prejuego_afiliativas)\n",
    "fq_juego_afiliativas=afiliativas[afiliativas['period']=='Juego']['behavior'].value_counts().sum()\n",
    "fq_postjuego_afiliativas=afiliativas[afiliativas['period']=='Postjuego']['behavior'].value_counts().sum()\n",
    "afiliativasdf"
   ]
  },
  {
   "cell_type": "code",
   "execution_count": 16,
   "id": "8180b3e9",
   "metadata": {},
   "outputs": [
    {
     "name": "stdout",
     "output_type": "stream",
     "text": [
      "2652\n"
     ]
    }
   ],
   "source": [
    "fq_total_prejuego=df[df['period']=='Prejuego']['behavior'].value_counts().sum()\n",
    "fq_total_juego=df[df['period']=='Juego']['behavior'].value_counts().sum()\n",
    "fq_total_postjuego=df[df['period']=='Postjuego']['behavior'].value_counts().sum()\n",
    "print(fq_total_juego)"
   ]
  },
  {
   "cell_type": "code",
   "execution_count": 25,
   "id": "55c923e6",
   "metadata": {},
   "outputs": [
    {
     "data": {
      "text/html": [
       "<div>\n",
       "<style scoped>\n",
       "    .dataframe tbody tr th:only-of-type {\n",
       "        vertical-align: middle;\n",
       "    }\n",
       "\n",
       "    .dataframe tbody tr th {\n",
       "        vertical-align: top;\n",
       "    }\n",
       "\n",
       "    .dataframe thead th {\n",
       "        text-align: right;\n",
       "    }\n",
       "</style>\n",
       "<table border=\"1\" class=\"dataframe\">\n",
       "  <thead>\n",
       "    <tr style=\"text-align: right;\">\n",
       "      <th></th>\n",
       "      <th>Agonisticas_fq</th>\n",
       "      <th>Afiliativas_list</th>\n",
       "      <th>total_fq</th>\n",
       "      <th>fq_relativa_ago</th>\n",
       "      <th>fq_relativa_afi</th>\n",
       "    </tr>\n",
       "  </thead>\n",
       "  <tbody>\n",
       "    <tr>\n",
       "      <th>prejuego</th>\n",
       "      <td>29</td>\n",
       "      <td>713</td>\n",
       "      <td>2663</td>\n",
       "      <td>0.010890</td>\n",
       "      <td>0.267743</td>\n",
       "    </tr>\n",
       "    <tr>\n",
       "      <th>juego</th>\n",
       "      <td>32</td>\n",
       "      <td>712</td>\n",
       "      <td>2652</td>\n",
       "      <td>0.012066</td>\n",
       "      <td>0.268477</td>\n",
       "    </tr>\n",
       "    <tr>\n",
       "      <th>postjuego</th>\n",
       "      <td>18</td>\n",
       "      <td>772</td>\n",
       "      <td>2798</td>\n",
       "      <td>0.006433</td>\n",
       "      <td>0.275911</td>\n",
       "    </tr>\n",
       "  </tbody>\n",
       "</table>\n",
       "</div>"
      ],
      "text/plain": [
       "           Agonisticas_fq  Afiliativas_list  total_fq  fq_relativa_ago  \\\n",
       "prejuego               29               713      2663         0.010890   \n",
       "juego                  32               712      2652         0.012066   \n",
       "postjuego              18               772      2798         0.006433   \n",
       "\n",
       "           fq_relativa_afi  \n",
       "prejuego          0.267743  \n",
       "juego             0.268477  \n",
       "postjuego         0.275911  "
      ]
     },
     "execution_count": 25,
     "metadata": {},
     "output_type": "execute_result"
    }
   ],
   "source": [
    "datos = {\n",
    "    'Agonisticas_fq' : [fq_prejuego_agonistica,fq_juego_agonistica,fq_postjuego_agonistica],\n",
    "    'Afiliativas_list': [fq_prejuego_afiliativas,fq_juego_afiliativas,fq_postjuego_afiliativas],\n",
    "    'total_fq':[fq_total_prejuego,fq_total_juego,fq_total_postjuego]\n",
    "}\n",
    "df_fq = pd.DataFrame(datos,\n",
    "                  index=['prejuego', 'juego', 'postjuego'])\n",
    "\n",
    "fq_rel_agonisticas=df_fq['Agonisticas_fq'] / df_fq['total_fq']\n",
    "df_fq['fq_relativa_ago'] = fq_rel_agonisticas \n",
    "fq_rel_afiliativas=df_fq['Afiliativas_list'] / df_fq['total_fq']\n",
    "df_fq['fq_relativa_afi'] = fq_rel_afiliativas \n",
    "df_fq"
   ]
  },
  {
   "cell_type": "code",
   "execution_count": 29,
   "id": "64e160fa",
   "metadata": {},
   "outputs": [
    {
     "data": {
      "text/html": [
       "<div>\n",
       "<style scoped>\n",
       "    .dataframe tbody tr th:only-of-type {\n",
       "        vertical-align: middle;\n",
       "    }\n",
       "\n",
       "    .dataframe tbody tr th {\n",
       "        vertical-align: top;\n",
       "    }\n",
       "\n",
       "    .dataframe thead th {\n",
       "        text-align: right;\n",
       "    }\n",
       "</style>\n",
       "<table border=\"1\" class=\"dataframe\">\n",
       "  <thead>\n",
       "    <tr style=\"text-align: right;\">\n",
       "      <th></th>\n",
       "      <th>Agonisticas_fq</th>\n",
       "      <th>Afiliativas_list</th>\n",
       "      <th>total_fq</th>\n",
       "      <th>fq_relativa_ago</th>\n",
       "      <th>fq_relativa_afi</th>\n",
       "    </tr>\n",
       "  </thead>\n",
       "  <tbody>\n",
       "    <tr>\n",
       "      <th>prejuego</th>\n",
       "      <td>0.367089</td>\n",
       "      <td>0.324533</td>\n",
       "      <td>0.328239</td>\n",
       "      <td>0.370540</td>\n",
       "      <td>0.329680</td>\n",
       "    </tr>\n",
       "    <tr>\n",
       "      <th>juego</th>\n",
       "      <td>0.405063</td>\n",
       "      <td>0.324078</td>\n",
       "      <td>0.326883</td>\n",
       "      <td>0.410567</td>\n",
       "      <td>0.330583</td>\n",
       "    </tr>\n",
       "    <tr>\n",
       "      <th>postjuego</th>\n",
       "      <td>0.227848</td>\n",
       "      <td>0.351388</td>\n",
       "      <td>0.344879</td>\n",
       "      <td>0.218893</td>\n",
       "      <td>0.339737</td>\n",
       "    </tr>\n",
       "  </tbody>\n",
       "</table>\n",
       "</div>"
      ],
      "text/plain": [
       "           Agonisticas_fq  Afiliativas_list  total_fq  fq_relativa_ago  \\\n",
       "prejuego         0.367089          0.324533  0.328239         0.370540   \n",
       "juego            0.405063          0.324078  0.326883         0.410567   \n",
       "postjuego        0.227848          0.351388  0.344879         0.218893   \n",
       "\n",
       "           fq_relativa_afi  \n",
       "prejuego          0.329680  \n",
       "juego             0.330583  \n",
       "postjuego         0.339737  "
      ]
     },
     "execution_count": 29,
     "metadata": {},
     "output_type": "execute_result"
    }
   ],
   "source": [
    "df_fq.divide(df_fq.sum(), axis=1)"
   ]
  },
  {
   "cell_type": "code",
   "execution_count": 18,
   "id": "caffec12",
   "metadata": {},
   "outputs": [
    {
     "ename": "NameError",
     "evalue": "name 'px' is not defined",
     "output_type": "error",
     "traceback": [
      "\u001b[0;31m---------------------------------------------------------------------------\u001b[0m",
      "\u001b[0;31mNameError\u001b[0m                                 Traceback (most recent call last)",
      "\u001b[1;32m/Users/wildbass/Documents/DataScience/Orangutanes/Sebastian/Classes_visualization.ipynb Celda 19\u001b[0m in \u001b[0;36m<cell line: 1>\u001b[0;34m()\u001b[0m\n\u001b[0;32m----> <a href='vscode-notebook-cell:/Users/wildbass/Documents/DataScience/Orangutanes/Sebastian/Classes_visualization.ipynb#X24sZmlsZQ%3D%3D?line=0'>1</a>\u001b[0m fig_fre \u001b[39m=\u001b[39m px\u001b[39m.\u001b[39mhistogram(macrodf, x\u001b[39m=\u001b[39m\u001b[39m\"\u001b[39m\u001b[39mperiod\u001b[39m\u001b[39m\"\u001b[39m, y\u001b[39m=\u001b[39m[df_fq[\u001b[39m'\u001b[39m\u001b[39mfq_relativa_ago\u001b[39m\u001b[39m'\u001b[39m],\n\u001b[1;32m      <a href='vscode-notebook-cell:/Users/wildbass/Documents/DataScience/Orangutanes/Sebastian/Classes_visualization.ipynb#X24sZmlsZQ%3D%3D?line=1'>2</a>\u001b[0m                                                df_fq[\u001b[39m'\u001b[39m\u001b[39mfq_relativa_afi\u001b[39m\u001b[39m'\u001b[39m]],\n\u001b[1;32m      <a href='vscode-notebook-cell:/Users/wildbass/Documents/DataScience/Orangutanes/Sebastian/Classes_visualization.ipynb#X24sZmlsZQ%3D%3D?line=2'>3</a>\u001b[0m                        barmode\u001b[39m=\u001b[39m\u001b[39m'\u001b[39m\u001b[39mgroup\u001b[39m\u001b[39m'\u001b[39m,color_discrete_sequence\u001b[39m=\u001b[39mpx\u001b[39m.\u001b[39mcolors\u001b[39m.\u001b[39mqualitative\u001b[39m.\u001b[39mPastel)\n\u001b[1;32m      <a href='vscode-notebook-cell:/Users/wildbass/Documents/DataScience/Orangutanes/Sebastian/Classes_visualization.ipynb#X24sZmlsZQ%3D%3D?line=3'>4</a>\u001b[0m fig_fre\u001b[39m.\u001b[39mupdate_layout(\n\u001b[1;32m      <a href='vscode-notebook-cell:/Users/wildbass/Documents/DataScience/Orangutanes/Sebastian/Classes_visualization.ipynb#X24sZmlsZQ%3D%3D?line=4'>5</a>\u001b[0m     title\u001b[39m=\u001b[39m\u001b[39m\"\u001b[39m\u001b[39mRelative Frecuency\u001b[39m\u001b[39m\"\u001b[39m,\n\u001b[1;32m      <a href='vscode-notebook-cell:/Users/wildbass/Documents/DataScience/Orangutanes/Sebastian/Classes_visualization.ipynb#X24sZmlsZQ%3D%3D?line=5'>6</a>\u001b[0m     xaxis_title\u001b[39m=\u001b[39m\u001b[39m\"\u001b[39m\u001b[39mperiod\u001b[39m\u001b[39m\"\u001b[39m,\n\u001b[1;32m      <a href='vscode-notebook-cell:/Users/wildbass/Documents/DataScience/Orangutanes/Sebastian/Classes_visualization.ipynb#X24sZmlsZQ%3D%3D?line=6'>7</a>\u001b[0m     yaxis_title\u001b[39m=\u001b[39m\u001b[39m\"\u001b[39m\u001b[39mrelative frequency\u001b[39m\u001b[39m\"\u001b[39m,\n\u001b[1;32m      <a href='vscode-notebook-cell:/Users/wildbass/Documents/DataScience/Orangutanes/Sebastian/Classes_visualization.ipynb#X24sZmlsZQ%3D%3D?line=7'>8</a>\u001b[0m     legend_title\u001b[39m=\u001b[39m\u001b[39m\"\u001b[39m\u001b[39mbehaviors\u001b[39m\u001b[39m\"\u001b[39m)\n\u001b[1;32m     <a href='vscode-notebook-cell:/Users/wildbass/Documents/DataScience/Orangutanes/Sebastian/Classes_visualization.ipynb#X24sZmlsZQ%3D%3D?line=9'>10</a>\u001b[0m fig_fre\u001b[39m.\u001b[39mfor_each_trace(\u001b[39mlambda\u001b[39;00m t: t\u001b[39m.\u001b[39mupdate(name \u001b[39m=\u001b[39m {\u001b[39m\"\u001b[39m\u001b[39mwide_variable_0\u001b[39m\u001b[39m\"\u001b[39m: \u001b[39m\"\u001b[39m\u001b[39magonisticas\u001b[39m\u001b[39m\"\u001b[39m, \u001b[39m\"\u001b[39m\u001b[39mwide_variable_1\u001b[39m\u001b[39m\"\u001b[39m: \u001b[39m\"\u001b[39m\u001b[39mafiliativas\u001b[39m\u001b[39m\"\u001b[39m}[t\u001b[39m.\u001b[39mname]))\n",
      "\u001b[0;31mNameError\u001b[0m: name 'px' is not defined"
     ]
    }
   ],
   "source": [
    "import plotly.express as px\n",
    "fig_fre = px.histogram(macrodf, x=\"period\", y=[df_fq['fq_relativa_ago'],\n",
    "                                               df_fq['fq_relativa_afi']],\n",
    "                       barmode='group',color_discrete_sequence=px.colors.qualitative.Pastel)\n",
    "fig_fre.update_layout(\n",
    "    title=\"Relative Frecuency\",\n",
    "    xaxis_title=\"period\",\n",
    "    yaxis_title=\"relative frequency\",\n",
    "    legend_title=\"behaviors\")\n",
    "    \n",
    "fig_fre.for_each_trace(lambda t: t.update(name = {\"wide_variable_0\": \"agonisticas\", \"wide_variable_1\": \"afiliativas\"}[t.name]))\n",
    "\n",
    "fig_fre"
   ]
  },
  {
   "cell_type": "code",
   "execution_count": null,
   "id": "51c057d5",
   "metadata": {},
   "outputs": [],
   "source": [
    "macrodf = pd.concat([agonisticadf, publicodf,afiliativasdf,ludsocdf,sexdf,ludicasdf,higienedf,locdf,repdf,expdf,alidf], axis=1)"
   ]
  },
  {
   "cell_type": "code",
   "execution_count": null,
   "id": "70861f10",
   "metadata": {},
   "outputs": [
    {
     "data": {
      "text/html": [
       "<div>\n",
       "<style scoped>\n",
       "    .dataframe tbody tr th:only-of-type {\n",
       "        vertical-align: middle;\n",
       "    }\n",
       "\n",
       "    .dataframe tbody tr th {\n",
       "        vertical-align: top;\n",
       "    }\n",
       "\n",
       "    .dataframe thead th {\n",
       "        text-align: right;\n",
       "    }\n",
       "</style>\n",
       "<table border=\"1\" class=\"dataframe\">\n",
       "  <thead>\n",
       "    <tr style=\"text-align: right;\">\n",
       "      <th></th>\n",
       "      <th>duracion_agonisticas</th>\n",
       "      <th>duracion_publico</th>\n",
       "      <th>duracion_afiliativas</th>\n",
       "      <th>duracion_ludico_social</th>\n",
       "      <th>duracion_sexual</th>\n",
       "      <th>duracion_ludicas</th>\n",
       "      <th>duracion_higiene</th>\n",
       "      <th>duracion_locomocio</th>\n",
       "      <th>duracion_reposo</th>\n",
       "      <th>duracion_exploracion</th>\n",
       "      <th>duracion_alimentacion</th>\n",
       "    </tr>\n",
       "    <tr>\n",
       "      <th>period</th>\n",
       "      <th></th>\n",
       "      <th></th>\n",
       "      <th></th>\n",
       "      <th></th>\n",
       "      <th></th>\n",
       "      <th></th>\n",
       "      <th></th>\n",
       "      <th></th>\n",
       "      <th></th>\n",
       "      <th></th>\n",
       "      <th></th>\n",
       "    </tr>\n",
       "  </thead>\n",
       "  <tbody>\n",
       "    <tr>\n",
       "      <th>Prejuego</th>\n",
       "      <td>313.000</td>\n",
       "      <td>324.0</td>\n",
       "      <td>35283.0173</td>\n",
       "      <td>7051.0</td>\n",
       "      <td>428.0</td>\n",
       "      <td>5988.0</td>\n",
       "      <td>2352.0</td>\n",
       "      <td>10199.0</td>\n",
       "      <td>30343.0</td>\n",
       "      <td>437.0</td>\n",
       "      <td>13303.000</td>\n",
       "    </tr>\n",
       "    <tr>\n",
       "      <th>Juego</th>\n",
       "      <td>585.000</td>\n",
       "      <td>661.0</td>\n",
       "      <td>26351.0000</td>\n",
       "      <td>3448.0</td>\n",
       "      <td>NaN</td>\n",
       "      <td>9730.0</td>\n",
       "      <td>2350.0</td>\n",
       "      <td>8506.0</td>\n",
       "      <td>39013.0</td>\n",
       "      <td>873.0</td>\n",
       "      <td>14247.018</td>\n",
       "    </tr>\n",
       "    <tr>\n",
       "      <th>Postjuego</th>\n",
       "      <td>170.053</td>\n",
       "      <td>171.0</td>\n",
       "      <td>24018.0000</td>\n",
       "      <td>7808.0</td>\n",
       "      <td>NaN</td>\n",
       "      <td>7367.0</td>\n",
       "      <td>2724.0</td>\n",
       "      <td>7079.0</td>\n",
       "      <td>36718.0</td>\n",
       "      <td>1538.0</td>\n",
       "      <td>16627.000</td>\n",
       "    </tr>\n",
       "  </tbody>\n",
       "</table>\n",
       "</div>"
      ],
      "text/plain": [
       "           duracion_agonisticas  duracion_publico  duracion_afiliativas  \\\n",
       "period                                                                    \n",
       "Prejuego                313.000             324.0            35283.0173   \n",
       "Juego                   585.000             661.0            26351.0000   \n",
       "Postjuego               170.053             171.0            24018.0000   \n",
       "\n",
       "           duracion_ludico_social  duracion_sexual  duracion_ludicas  \\\n",
       "period                                                                 \n",
       "Prejuego                   7051.0            428.0            5988.0   \n",
       "Juego                      3448.0              NaN            9730.0   \n",
       "Postjuego                  7808.0              NaN            7367.0   \n",
       "\n",
       "           duracion_higiene  duracion_locomocio  duracion_reposo  \\\n",
       "period                                                             \n",
       "Prejuego             2352.0             10199.0          30343.0   \n",
       "Juego                2350.0              8506.0          39013.0   \n",
       "Postjuego            2724.0              7079.0          36718.0   \n",
       "\n",
       "           duracion_exploracion  duracion_alimentacion  \n",
       "period                                                  \n",
       "Prejuego                  437.0              13303.000  \n",
       "Juego                     873.0              14247.018  \n",
       "Postjuego                1538.0              16627.000  "
      ]
     },
     "execution_count": 31,
     "metadata": {},
     "output_type": "execute_result"
    }
   ],
   "source": [
    "import numpy as np\n",
    "import matplotlib.pyplot as plt\n",
    "\n",
    "macrodf. reindex([\"Prejuego\",\"Juego\",\"Postjuego\"])"
   ]
  },
  {
   "cell_type": "code",
   "execution_count": null,
   "id": "1d32edc3",
   "metadata": {},
   "outputs": [
    {
     "data": {
      "text/html": [
       "<div>\n",
       "<style scoped>\n",
       "    .dataframe tbody tr th:only-of-type {\n",
       "        vertical-align: middle;\n",
       "    }\n",
       "\n",
       "    .dataframe tbody tr th {\n",
       "        vertical-align: top;\n",
       "    }\n",
       "\n",
       "    .dataframe thead th {\n",
       "        text-align: right;\n",
       "    }\n",
       "</style>\n",
       "<table border=\"1\" class=\"dataframe\">\n",
       "  <thead>\n",
       "    <tr style=\"text-align: right;\">\n",
       "      <th></th>\n",
       "      <th>duracion_agonisticas</th>\n",
       "      <th>duracion_publico</th>\n",
       "      <th>duracion_afiliativas</th>\n",
       "      <th>duracion_ludico_social</th>\n",
       "      <th>duracion_sexual</th>\n",
       "      <th>duracion_ludicas</th>\n",
       "      <th>duracion_higiene</th>\n",
       "      <th>duracion_locomocio</th>\n",
       "      <th>duracion_reposo</th>\n",
       "      <th>duracion_exploracion</th>\n",
       "      <th>duracion_alimentacion</th>\n",
       "    </tr>\n",
       "    <tr>\n",
       "      <th>period</th>\n",
       "      <th></th>\n",
       "      <th></th>\n",
       "      <th></th>\n",
       "      <th></th>\n",
       "      <th></th>\n",
       "      <th></th>\n",
       "      <th></th>\n",
       "      <th></th>\n",
       "      <th></th>\n",
       "      <th></th>\n",
       "      <th></th>\n",
       "    </tr>\n",
       "  </thead>\n",
       "  <tbody>\n",
       "    <tr>\n",
       "      <th>Juego</th>\n",
       "      <td>585.000</td>\n",
       "      <td>661.0</td>\n",
       "      <td>26351.0000</td>\n",
       "      <td>3448.0</td>\n",
       "      <td>0.0</td>\n",
       "      <td>9730.0</td>\n",
       "      <td>2350.0</td>\n",
       "      <td>8506.0</td>\n",
       "      <td>39013.0</td>\n",
       "      <td>873.0</td>\n",
       "      <td>14247.018</td>\n",
       "    </tr>\n",
       "    <tr>\n",
       "      <th>Postjuego</th>\n",
       "      <td>170.053</td>\n",
       "      <td>171.0</td>\n",
       "      <td>24018.0000</td>\n",
       "      <td>7808.0</td>\n",
       "      <td>0.0</td>\n",
       "      <td>7367.0</td>\n",
       "      <td>2724.0</td>\n",
       "      <td>7079.0</td>\n",
       "      <td>36718.0</td>\n",
       "      <td>1538.0</td>\n",
       "      <td>16627.000</td>\n",
       "    </tr>\n",
       "    <tr>\n",
       "      <th>Prejuego</th>\n",
       "      <td>313.000</td>\n",
       "      <td>324.0</td>\n",
       "      <td>35283.0173</td>\n",
       "      <td>7051.0</td>\n",
       "      <td>428.0</td>\n",
       "      <td>5988.0</td>\n",
       "      <td>2352.0</td>\n",
       "      <td>10199.0</td>\n",
       "      <td>30343.0</td>\n",
       "      <td>437.0</td>\n",
       "      <td>13303.000</td>\n",
       "    </tr>\n",
       "  </tbody>\n",
       "</table>\n",
       "</div>"
      ],
      "text/plain": [
       "           duracion_agonisticas  duracion_publico  duracion_afiliativas  \\\n",
       "period                                                                    \n",
       "Juego                   585.000             661.0            26351.0000   \n",
       "Postjuego               170.053             171.0            24018.0000   \n",
       "Prejuego                313.000             324.0            35283.0173   \n",
       "\n",
       "           duracion_ludico_social  duracion_sexual  duracion_ludicas  \\\n",
       "period                                                                 \n",
       "Juego                      3448.0              0.0            9730.0   \n",
       "Postjuego                  7808.0              0.0            7367.0   \n",
       "Prejuego                   7051.0            428.0            5988.0   \n",
       "\n",
       "           duracion_higiene  duracion_locomocio  duracion_reposo  \\\n",
       "period                                                             \n",
       "Juego                2350.0              8506.0          39013.0   \n",
       "Postjuego            2724.0              7079.0          36718.0   \n",
       "Prejuego             2352.0             10199.0          30343.0   \n",
       "\n",
       "           duracion_exploracion  duracion_alimentacion  \n",
       "period                                                  \n",
       "Juego                     873.0              14247.018  \n",
       "Postjuego                1538.0              16627.000  \n",
       "Prejuego                  437.0              13303.000  "
      ]
     },
     "execution_count": 32,
     "metadata": {},
     "output_type": "execute_result"
    }
   ],
   "source": [
    "macrodf.fillna(0,inplace=True)\n",
    "macrodf"
   ]
  },
  {
   "cell_type": "code",
   "execution_count": null,
   "id": "c9795a9e",
   "metadata": {},
   "outputs": [],
   "source": [
    "macrodf = macrodf.divide(macrodf.sum(axis=1), axis=0)\n",
    "macrodf.to_csv('duraciones.csv')"
   ]
  },
  {
   "cell_type": "code",
   "execution_count": null,
   "id": "02f4cc43",
   "metadata": {},
   "outputs": [],
   "source": [
    "period = [\"Juego\",\"Postjuego\",\"Prejuego\"]\n",
    "macrodf['period'] = period \n",
    "macrodf=macrodf. reindex([\"Prejuego\",\"Juego\",\"Postjuego\"])"
   ]
  },
  {
   "cell_type": "code",
   "execution_count": null,
   "id": "baacdb4a",
   "metadata": {},
   "outputs": [
    {
     "data": {
      "text/plain": [
       "Index(['duracion_agonisticas', 'duracion_publico', 'duracion_afiliativas',\n",
       "       'duracion_ludico_social', 'duracion_sexual', 'duracion_ludicas',\n",
       "       'duracion_higiene', 'duracion_locomocio', 'duracion_reposo',\n",
       "       'duracion_exploracion', 'duracion_alimentacion', 'period'],\n",
       "      dtype='object')"
      ]
     },
     "execution_count": 35,
     "metadata": {},
     "output_type": "execute_result"
    }
   ],
   "source": [
    "macrodf.keys()"
   ]
  },
  {
   "cell_type": "code",
   "execution_count": null,
   "id": "3600158f",
   "metadata": {},
   "outputs": [],
   "source": [
    "macrodf.to_csv('macro_df.csv')"
   ]
  },
  {
   "cell_type": "code",
   "execution_count": null,
   "id": "74245941",
   "metadata": {},
   "outputs": [
    {
     "data": {
      "application/vnd.plotly.v1+json": {
       "config": {
        "plotlyServerURL": "https://plot.ly"
       },
       "data": [
        {
         "alignmentgroup": "True",
         "bingroup": "x",
         "histfunc": "sum",
         "hovertemplate": "variable=duracion_agonisticas<br>period=%{x}<br>sum of value=%{y}<extra></extra>",
         "legendgroup": "duracion_agonisticas",
         "marker": {
          "color": "rgb(102, 197, 204)",
          "pattern": {
           "shape": ""
          }
         },
         "name": "duracion_agonisticas",
         "offsetgroup": "duracion_agonisticas",
         "orientation": "v",
         "showlegend": true,
         "type": "histogram",
         "x": [
          "Prejuego",
          "Juego",
          "Postjuego"
         ],
         "xaxis": "x",
         "y": [
          0.002952244828158237,
          0.005531181691678923,
          0.0016316725534576346
         ],
         "yaxis": "y"
        },
        {
         "alignmentgroup": "True",
         "bingroup": "x",
         "histfunc": "sum",
         "hovertemplate": "variable=duracion_publico<br>period=%{x}<br>sum of value=%{y}<extra></extra>",
         "legendgroup": "duracion_publico",
         "marker": {
          "color": "rgb(246, 207, 113)",
          "pattern": {
           "shape": ""
          }
         },
         "name": "duracion_publico",
         "offsetgroup": "duracion_publico",
         "orientation": "v",
         "showlegend": true,
         "type": "histogram",
         "x": [
          "Prejuego",
          "Juego",
          "Postjuego"
         ],
         "xaxis": "x",
         "y": [
          0.0030559978412883987,
          0.006249762561025244,
          0.0016407590965243513
         ],
         "yaxis": "y"
        },
        {
         "alignmentgroup": "True",
         "bingroup": "x",
         "histfunc": "sum",
         "hovertemplate": "variable=duracion_afiliativas<br>period=%{x}<br>sum of value=%{y}<extra></extra>",
         "legendgroup": "duracion_afiliativas",
         "marker": {
          "color": "rgb(248, 156, 116)",
          "pattern": {
           "shape": ""
          }
         },
         "name": "duracion_afiliativas",
         "offsetgroup": "duracion_afiliativas",
         "orientation": "v",
         "showlegend": true,
         "type": "histogram",
         "x": [
          "Prejuego",
          "Juego",
          "Postjuego"
         ],
         "xaxis": "x",
         "y": [
          0.33279266883623837,
          0.24914900642295948,
          0.23045468994340274
         ],
         "yaxis": "y"
        },
        {
         "alignmentgroup": "True",
         "bingroup": "x",
         "histfunc": "sum",
         "hovertemplate": "variable=duracion_ludico_social<br>period=%{x}<br>sum of value=%{y}<extra></extra>",
         "legendgroup": "duracion_ludico_social",
         "marker": {
          "color": "rgb(220, 176, 242)",
          "pattern": {
           "shape": ""
          }
         },
         "name": "duracion_ludico_social",
         "offsetgroup": "duracion_ludico_social",
         "orientation": "v",
         "showlegend": true,
         "type": "histogram",
         "x": [
          "Prejuego",
          "Juego",
          "Postjuego"
         ],
         "xaxis": "x",
         "y": [
          0.06650568141643363,
          0.03260087944086996,
          0.07491840365884289
         ],
         "yaxis": "y"
        },
        {
         "alignmentgroup": "True",
         "bingroup": "x",
         "histfunc": "sum",
         "hovertemplate": "variable=duracion_sexual<br>period=%{x}<br>sum of value=%{y}<extra></extra>",
         "legendgroup": "duracion_sexual",
         "marker": {
          "color": "rgb(135, 197, 95)",
          "pattern": {
           "shape": ""
          }
         },
         "name": "duracion_sexual",
         "offsetgroup": "duracion_sexual",
         "orientation": "v",
         "showlegend": true,
         "type": "histogram",
         "x": [
          "Prejuego",
          "Juego",
          "Postjuego"
         ],
         "xaxis": "x",
         "y": [
          0.004036935419973564,
          0,
          0
         ],
         "yaxis": "y"
        },
        {
         "alignmentgroup": "True",
         "bingroup": "x",
         "histfunc": "sum",
         "hovertemplate": "variable=duracion_ludicas<br>period=%{x}<br>sum of value=%{y}<extra></extra>",
         "legendgroup": "duracion_ludicas",
         "marker": {
          "color": "rgb(158, 185, 243)",
          "pattern": {
           "shape": ""
          }
         },
         "name": "duracion_ludicas",
         "offsetgroup": "duracion_ludicas",
         "orientation": "v",
         "showlegend": true,
         "type": "histogram",
         "x": [
          "Prejuego",
          "Juego",
          "Postjuego"
         ],
         "xaxis": "x",
         "y": [
          0.056479367511218924,
          0.0919972612992067,
          0.07068697230464852
         ],
         "yaxis": "y"
        }
       ],
       "layout": {
        "barmode": "group",
        "legend": {
         "title": {
          "text": "behaviors"
         },
         "tracegroupgap": 0
        },
        "margin": {
         "t": 60
        },
        "template": {
         "data": {
          "bar": [
           {
            "error_x": {
             "color": "#2a3f5f"
            },
            "error_y": {
             "color": "#2a3f5f"
            },
            "marker": {
             "line": {
              "color": "#E5ECF6",
              "width": 0.5
             },
             "pattern": {
              "fillmode": "overlay",
              "size": 10,
              "solidity": 0.2
             }
            },
            "type": "bar"
           }
          ],
          "barpolar": [
           {
            "marker": {
             "line": {
              "color": "#E5ECF6",
              "width": 0.5
             },
             "pattern": {
              "fillmode": "overlay",
              "size": 10,
              "solidity": 0.2
             }
            },
            "type": "barpolar"
           }
          ],
          "carpet": [
           {
            "aaxis": {
             "endlinecolor": "#2a3f5f",
             "gridcolor": "white",
             "linecolor": "white",
             "minorgridcolor": "white",
             "startlinecolor": "#2a3f5f"
            },
            "baxis": {
             "endlinecolor": "#2a3f5f",
             "gridcolor": "white",
             "linecolor": "white",
             "minorgridcolor": "white",
             "startlinecolor": "#2a3f5f"
            },
            "type": "carpet"
           }
          ],
          "choropleth": [
           {
            "colorbar": {
             "outlinewidth": 0,
             "ticks": ""
            },
            "type": "choropleth"
           }
          ],
          "contour": [
           {
            "colorbar": {
             "outlinewidth": 0,
             "ticks": ""
            },
            "colorscale": [
             [
              0,
              "#0d0887"
             ],
             [
              0.1111111111111111,
              "#46039f"
             ],
             [
              0.2222222222222222,
              "#7201a8"
             ],
             [
              0.3333333333333333,
              "#9c179e"
             ],
             [
              0.4444444444444444,
              "#bd3786"
             ],
             [
              0.5555555555555556,
              "#d8576b"
             ],
             [
              0.6666666666666666,
              "#ed7953"
             ],
             [
              0.7777777777777778,
              "#fb9f3a"
             ],
             [
              0.8888888888888888,
              "#fdca26"
             ],
             [
              1,
              "#f0f921"
             ]
            ],
            "type": "contour"
           }
          ],
          "contourcarpet": [
           {
            "colorbar": {
             "outlinewidth": 0,
             "ticks": ""
            },
            "type": "contourcarpet"
           }
          ],
          "heatmap": [
           {
            "colorbar": {
             "outlinewidth": 0,
             "ticks": ""
            },
            "colorscale": [
             [
              0,
              "#0d0887"
             ],
             [
              0.1111111111111111,
              "#46039f"
             ],
             [
              0.2222222222222222,
              "#7201a8"
             ],
             [
              0.3333333333333333,
              "#9c179e"
             ],
             [
              0.4444444444444444,
              "#bd3786"
             ],
             [
              0.5555555555555556,
              "#d8576b"
             ],
             [
              0.6666666666666666,
              "#ed7953"
             ],
             [
              0.7777777777777778,
              "#fb9f3a"
             ],
             [
              0.8888888888888888,
              "#fdca26"
             ],
             [
              1,
              "#f0f921"
             ]
            ],
            "type": "heatmap"
           }
          ],
          "heatmapgl": [
           {
            "colorbar": {
             "outlinewidth": 0,
             "ticks": ""
            },
            "colorscale": [
             [
              0,
              "#0d0887"
             ],
             [
              0.1111111111111111,
              "#46039f"
             ],
             [
              0.2222222222222222,
              "#7201a8"
             ],
             [
              0.3333333333333333,
              "#9c179e"
             ],
             [
              0.4444444444444444,
              "#bd3786"
             ],
             [
              0.5555555555555556,
              "#d8576b"
             ],
             [
              0.6666666666666666,
              "#ed7953"
             ],
             [
              0.7777777777777778,
              "#fb9f3a"
             ],
             [
              0.8888888888888888,
              "#fdca26"
             ],
             [
              1,
              "#f0f921"
             ]
            ],
            "type": "heatmapgl"
           }
          ],
          "histogram": [
           {
            "marker": {
             "pattern": {
              "fillmode": "overlay",
              "size": 10,
              "solidity": 0.2
             }
            },
            "type": "histogram"
           }
          ],
          "histogram2d": [
           {
            "colorbar": {
             "outlinewidth": 0,
             "ticks": ""
            },
            "colorscale": [
             [
              0,
              "#0d0887"
             ],
             [
              0.1111111111111111,
              "#46039f"
             ],
             [
              0.2222222222222222,
              "#7201a8"
             ],
             [
              0.3333333333333333,
              "#9c179e"
             ],
             [
              0.4444444444444444,
              "#bd3786"
             ],
             [
              0.5555555555555556,
              "#d8576b"
             ],
             [
              0.6666666666666666,
              "#ed7953"
             ],
             [
              0.7777777777777778,
              "#fb9f3a"
             ],
             [
              0.8888888888888888,
              "#fdca26"
             ],
             [
              1,
              "#f0f921"
             ]
            ],
            "type": "histogram2d"
           }
          ],
          "histogram2dcontour": [
           {
            "colorbar": {
             "outlinewidth": 0,
             "ticks": ""
            },
            "colorscale": [
             [
              0,
              "#0d0887"
             ],
             [
              0.1111111111111111,
              "#46039f"
             ],
             [
              0.2222222222222222,
              "#7201a8"
             ],
             [
              0.3333333333333333,
              "#9c179e"
             ],
             [
              0.4444444444444444,
              "#bd3786"
             ],
             [
              0.5555555555555556,
              "#d8576b"
             ],
             [
              0.6666666666666666,
              "#ed7953"
             ],
             [
              0.7777777777777778,
              "#fb9f3a"
             ],
             [
              0.8888888888888888,
              "#fdca26"
             ],
             [
              1,
              "#f0f921"
             ]
            ],
            "type": "histogram2dcontour"
           }
          ],
          "mesh3d": [
           {
            "colorbar": {
             "outlinewidth": 0,
             "ticks": ""
            },
            "type": "mesh3d"
           }
          ],
          "parcoords": [
           {
            "line": {
             "colorbar": {
              "outlinewidth": 0,
              "ticks": ""
             }
            },
            "type": "parcoords"
           }
          ],
          "pie": [
           {
            "automargin": true,
            "type": "pie"
           }
          ],
          "scatter": [
           {
            "marker": {
             "colorbar": {
              "outlinewidth": 0,
              "ticks": ""
             }
            },
            "type": "scatter"
           }
          ],
          "scatter3d": [
           {
            "line": {
             "colorbar": {
              "outlinewidth": 0,
              "ticks": ""
             }
            },
            "marker": {
             "colorbar": {
              "outlinewidth": 0,
              "ticks": ""
             }
            },
            "type": "scatter3d"
           }
          ],
          "scattercarpet": [
           {
            "marker": {
             "colorbar": {
              "outlinewidth": 0,
              "ticks": ""
             }
            },
            "type": "scattercarpet"
           }
          ],
          "scattergeo": [
           {
            "marker": {
             "colorbar": {
              "outlinewidth": 0,
              "ticks": ""
             }
            },
            "type": "scattergeo"
           }
          ],
          "scattergl": [
           {
            "marker": {
             "colorbar": {
              "outlinewidth": 0,
              "ticks": ""
             }
            },
            "type": "scattergl"
           }
          ],
          "scattermapbox": [
           {
            "marker": {
             "colorbar": {
              "outlinewidth": 0,
              "ticks": ""
             }
            },
            "type": "scattermapbox"
           }
          ],
          "scatterpolar": [
           {
            "marker": {
             "colorbar": {
              "outlinewidth": 0,
              "ticks": ""
             }
            },
            "type": "scatterpolar"
           }
          ],
          "scatterpolargl": [
           {
            "marker": {
             "colorbar": {
              "outlinewidth": 0,
              "ticks": ""
             }
            },
            "type": "scatterpolargl"
           }
          ],
          "scatterternary": [
           {
            "marker": {
             "colorbar": {
              "outlinewidth": 0,
              "ticks": ""
             }
            },
            "type": "scatterternary"
           }
          ],
          "surface": [
           {
            "colorbar": {
             "outlinewidth": 0,
             "ticks": ""
            },
            "colorscale": [
             [
              0,
              "#0d0887"
             ],
             [
              0.1111111111111111,
              "#46039f"
             ],
             [
              0.2222222222222222,
              "#7201a8"
             ],
             [
              0.3333333333333333,
              "#9c179e"
             ],
             [
              0.4444444444444444,
              "#bd3786"
             ],
             [
              0.5555555555555556,
              "#d8576b"
             ],
             [
              0.6666666666666666,
              "#ed7953"
             ],
             [
              0.7777777777777778,
              "#fb9f3a"
             ],
             [
              0.8888888888888888,
              "#fdca26"
             ],
             [
              1,
              "#f0f921"
             ]
            ],
            "type": "surface"
           }
          ],
          "table": [
           {
            "cells": {
             "fill": {
              "color": "#EBF0F8"
             },
             "line": {
              "color": "white"
             }
            },
            "header": {
             "fill": {
              "color": "#C8D4E3"
             },
             "line": {
              "color": "white"
             }
            },
            "type": "table"
           }
          ]
         },
         "layout": {
          "annotationdefaults": {
           "arrowcolor": "#2a3f5f",
           "arrowhead": 0,
           "arrowwidth": 1
          },
          "autotypenumbers": "strict",
          "coloraxis": {
           "colorbar": {
            "outlinewidth": 0,
            "ticks": ""
           }
          },
          "colorscale": {
           "diverging": [
            [
             0,
             "#8e0152"
            ],
            [
             0.1,
             "#c51b7d"
            ],
            [
             0.2,
             "#de77ae"
            ],
            [
             0.3,
             "#f1b6da"
            ],
            [
             0.4,
             "#fde0ef"
            ],
            [
             0.5,
             "#f7f7f7"
            ],
            [
             0.6,
             "#e6f5d0"
            ],
            [
             0.7,
             "#b8e186"
            ],
            [
             0.8,
             "#7fbc41"
            ],
            [
             0.9,
             "#4d9221"
            ],
            [
             1,
             "#276419"
            ]
           ],
           "sequential": [
            [
             0,
             "#0d0887"
            ],
            [
             0.1111111111111111,
             "#46039f"
            ],
            [
             0.2222222222222222,
             "#7201a8"
            ],
            [
             0.3333333333333333,
             "#9c179e"
            ],
            [
             0.4444444444444444,
             "#bd3786"
            ],
            [
             0.5555555555555556,
             "#d8576b"
            ],
            [
             0.6666666666666666,
             "#ed7953"
            ],
            [
             0.7777777777777778,
             "#fb9f3a"
            ],
            [
             0.8888888888888888,
             "#fdca26"
            ],
            [
             1,
             "#f0f921"
            ]
           ],
           "sequentialminus": [
            [
             0,
             "#0d0887"
            ],
            [
             0.1111111111111111,
             "#46039f"
            ],
            [
             0.2222222222222222,
             "#7201a8"
            ],
            [
             0.3333333333333333,
             "#9c179e"
            ],
            [
             0.4444444444444444,
             "#bd3786"
            ],
            [
             0.5555555555555556,
             "#d8576b"
            ],
            [
             0.6666666666666666,
             "#ed7953"
            ],
            [
             0.7777777777777778,
             "#fb9f3a"
            ],
            [
             0.8888888888888888,
             "#fdca26"
            ],
            [
             1,
             "#f0f921"
            ]
           ]
          },
          "colorway": [
           "#636efa",
           "#EF553B",
           "#00cc96",
           "#ab63fa",
           "#FFA15A",
           "#19d3f3",
           "#FF6692",
           "#B6E880",
           "#FF97FF",
           "#FECB52"
          ],
          "font": {
           "color": "#2a3f5f"
          },
          "geo": {
           "bgcolor": "white",
           "lakecolor": "white",
           "landcolor": "#E5ECF6",
           "showlakes": true,
           "showland": true,
           "subunitcolor": "white"
          },
          "hoverlabel": {
           "align": "left"
          },
          "hovermode": "closest",
          "mapbox": {
           "style": "light"
          },
          "paper_bgcolor": "white",
          "plot_bgcolor": "#E5ECF6",
          "polar": {
           "angularaxis": {
            "gridcolor": "white",
            "linecolor": "white",
            "ticks": ""
           },
           "bgcolor": "#E5ECF6",
           "radialaxis": {
            "gridcolor": "white",
            "linecolor": "white",
            "ticks": ""
           }
          },
          "scene": {
           "xaxis": {
            "backgroundcolor": "#E5ECF6",
            "gridcolor": "white",
            "gridwidth": 2,
            "linecolor": "white",
            "showbackground": true,
            "ticks": "",
            "zerolinecolor": "white"
           },
           "yaxis": {
            "backgroundcolor": "#E5ECF6",
            "gridcolor": "white",
            "gridwidth": 2,
            "linecolor": "white",
            "showbackground": true,
            "ticks": "",
            "zerolinecolor": "white"
           },
           "zaxis": {
            "backgroundcolor": "#E5ECF6",
            "gridcolor": "white",
            "gridwidth": 2,
            "linecolor": "white",
            "showbackground": true,
            "ticks": "",
            "zerolinecolor": "white"
           }
          },
          "shapedefaults": {
           "line": {
            "color": "#2a3f5f"
           }
          },
          "ternary": {
           "aaxis": {
            "gridcolor": "white",
            "linecolor": "white",
            "ticks": ""
           },
           "baxis": {
            "gridcolor": "white",
            "linecolor": "white",
            "ticks": ""
           },
           "bgcolor": "#E5ECF6",
           "caxis": {
            "gridcolor": "white",
            "linecolor": "white",
            "ticks": ""
           }
          },
          "title": {
           "x": 0.05
          },
          "xaxis": {
           "automargin": true,
           "gridcolor": "white",
           "linecolor": "white",
           "ticks": "",
           "title": {
            "standoff": 15
           },
           "zerolinecolor": "white",
           "zerolinewidth": 2
          },
          "yaxis": {
           "automargin": true,
           "gridcolor": "white",
           "linecolor": "white",
           "ticks": "",
           "title": {
            "standoff": 15
           },
           "zerolinecolor": "white",
           "zerolinewidth": 2
          }
         }
        },
        "title": {
         "text": "Duration"
        },
        "xaxis": {
         "anchor": "y",
         "categoryarray": [
          "Prejuego",
          "Juego",
          "Postjuego"
         ],
         "categoryorder": "array",
         "domain": [
          0,
          1
         ],
         "title": {
          "text": "period"
         }
        },
        "yaxis": {
         "anchor": "x",
         "domain": [
          0,
          1
         ],
         "title": {
          "text": "% duration"
         }
        }
       }
      },
      "text/html": [
       "<div>                            <div id=\"32e107a4-8ddc-4441-b23c-21b5dc29587d\" class=\"plotly-graph-div\" style=\"height:525px; width:100%;\"></div>            <script type=\"text/javascript\">                require([\"plotly\"], function(Plotly) {                    window.PLOTLYENV=window.PLOTLYENV || {};                                    if (document.getElementById(\"32e107a4-8ddc-4441-b23c-21b5dc29587d\")) {                    Plotly.newPlot(                        \"32e107a4-8ddc-4441-b23c-21b5dc29587d\",                        [{\"alignmentgroup\":\"True\",\"bingroup\":\"x\",\"histfunc\":\"sum\",\"hovertemplate\":\"variable=duracion_agonisticas<br>period=%{x}<br>sum of value=%{y}<extra></extra>\",\"legendgroup\":\"duracion_agonisticas\",\"marker\":{\"color\":\"rgb(102, 197, 204)\",\"pattern\":{\"shape\":\"\"}},\"name\":\"duracion_agonisticas\",\"offsetgroup\":\"duracion_agonisticas\",\"orientation\":\"v\",\"showlegend\":true,\"x\":[\"Prejuego\",\"Juego\",\"Postjuego\"],\"xaxis\":\"x\",\"y\":[0.002952244828158237,0.005531181691678923,0.0016316725534576346],\"yaxis\":\"y\",\"type\":\"histogram\"},{\"alignmentgroup\":\"True\",\"bingroup\":\"x\",\"histfunc\":\"sum\",\"hovertemplate\":\"variable=duracion_publico<br>period=%{x}<br>sum of value=%{y}<extra></extra>\",\"legendgroup\":\"duracion_publico\",\"marker\":{\"color\":\"rgb(246, 207, 113)\",\"pattern\":{\"shape\":\"\"}},\"name\":\"duracion_publico\",\"offsetgroup\":\"duracion_publico\",\"orientation\":\"v\",\"showlegend\":true,\"x\":[\"Prejuego\",\"Juego\",\"Postjuego\"],\"xaxis\":\"x\",\"y\":[0.0030559978412883987,0.006249762561025244,0.0016407590965243513],\"yaxis\":\"y\",\"type\":\"histogram\"},{\"alignmentgroup\":\"True\",\"bingroup\":\"x\",\"histfunc\":\"sum\",\"hovertemplate\":\"variable=duracion_afiliativas<br>period=%{x}<br>sum of value=%{y}<extra></extra>\",\"legendgroup\":\"duracion_afiliativas\",\"marker\":{\"color\":\"rgb(248, 156, 116)\",\"pattern\":{\"shape\":\"\"}},\"name\":\"duracion_afiliativas\",\"offsetgroup\":\"duracion_afiliativas\",\"orientation\":\"v\",\"showlegend\":true,\"x\":[\"Prejuego\",\"Juego\",\"Postjuego\"],\"xaxis\":\"x\",\"y\":[0.33279266883623837,0.24914900642295948,0.23045468994340274],\"yaxis\":\"y\",\"type\":\"histogram\"},{\"alignmentgroup\":\"True\",\"bingroup\":\"x\",\"histfunc\":\"sum\",\"hovertemplate\":\"variable=duracion_ludico_social<br>period=%{x}<br>sum of value=%{y}<extra></extra>\",\"legendgroup\":\"duracion_ludico_social\",\"marker\":{\"color\":\"rgb(220, 176, 242)\",\"pattern\":{\"shape\":\"\"}},\"name\":\"duracion_ludico_social\",\"offsetgroup\":\"duracion_ludico_social\",\"orientation\":\"v\",\"showlegend\":true,\"x\":[\"Prejuego\",\"Juego\",\"Postjuego\"],\"xaxis\":\"x\",\"y\":[0.06650568141643363,0.03260087944086996,0.07491840365884289],\"yaxis\":\"y\",\"type\":\"histogram\"},{\"alignmentgroup\":\"True\",\"bingroup\":\"x\",\"histfunc\":\"sum\",\"hovertemplate\":\"variable=duracion_sexual<br>period=%{x}<br>sum of value=%{y}<extra></extra>\",\"legendgroup\":\"duracion_sexual\",\"marker\":{\"color\":\"rgb(135, 197, 95)\",\"pattern\":{\"shape\":\"\"}},\"name\":\"duracion_sexual\",\"offsetgroup\":\"duracion_sexual\",\"orientation\":\"v\",\"showlegend\":true,\"x\":[\"Prejuego\",\"Juego\",\"Postjuego\"],\"xaxis\":\"x\",\"y\":[0.004036935419973564,0.0,0.0],\"yaxis\":\"y\",\"type\":\"histogram\"},{\"alignmentgroup\":\"True\",\"bingroup\":\"x\",\"histfunc\":\"sum\",\"hovertemplate\":\"variable=duracion_ludicas<br>period=%{x}<br>sum of value=%{y}<extra></extra>\",\"legendgroup\":\"duracion_ludicas\",\"marker\":{\"color\":\"rgb(158, 185, 243)\",\"pattern\":{\"shape\":\"\"}},\"name\":\"duracion_ludicas\",\"offsetgroup\":\"duracion_ludicas\",\"orientation\":\"v\",\"showlegend\":true,\"x\":[\"Prejuego\",\"Juego\",\"Postjuego\"],\"xaxis\":\"x\",\"y\":[0.056479367511218924,0.0919972612992067,0.07068697230464852],\"yaxis\":\"y\",\"type\":\"histogram\"}],                        {\"template\":{\"data\":{\"bar\":[{\"error_x\":{\"color\":\"#2a3f5f\"},\"error_y\":{\"color\":\"#2a3f5f\"},\"marker\":{\"line\":{\"color\":\"#E5ECF6\",\"width\":0.5},\"pattern\":{\"fillmode\":\"overlay\",\"size\":10,\"solidity\":0.2}},\"type\":\"bar\"}],\"barpolar\":[{\"marker\":{\"line\":{\"color\":\"#E5ECF6\",\"width\":0.5},\"pattern\":{\"fillmode\":\"overlay\",\"size\":10,\"solidity\":0.2}},\"type\":\"barpolar\"}],\"carpet\":[{\"aaxis\":{\"endlinecolor\":\"#2a3f5f\",\"gridcolor\":\"white\",\"linecolor\":\"white\",\"minorgridcolor\":\"white\",\"startlinecolor\":\"#2a3f5f\"},\"baxis\":{\"endlinecolor\":\"#2a3f5f\",\"gridcolor\":\"white\",\"linecolor\":\"white\",\"minorgridcolor\":\"white\",\"startlinecolor\":\"#2a3f5f\"},\"type\":\"carpet\"}],\"choropleth\":[{\"colorbar\":{\"outlinewidth\":0,\"ticks\":\"\"},\"type\":\"choropleth\"}],\"contour\":[{\"colorbar\":{\"outlinewidth\":0,\"ticks\":\"\"},\"colorscale\":[[0.0,\"#0d0887\"],[0.1111111111111111,\"#46039f\"],[0.2222222222222222,\"#7201a8\"],[0.3333333333333333,\"#9c179e\"],[0.4444444444444444,\"#bd3786\"],[0.5555555555555556,\"#d8576b\"],[0.6666666666666666,\"#ed7953\"],[0.7777777777777778,\"#fb9f3a\"],[0.8888888888888888,\"#fdca26\"],[1.0,\"#f0f921\"]],\"type\":\"contour\"}],\"contourcarpet\":[{\"colorbar\":{\"outlinewidth\":0,\"ticks\":\"\"},\"type\":\"contourcarpet\"}],\"heatmap\":[{\"colorbar\":{\"outlinewidth\":0,\"ticks\":\"\"},\"colorscale\":[[0.0,\"#0d0887\"],[0.1111111111111111,\"#46039f\"],[0.2222222222222222,\"#7201a8\"],[0.3333333333333333,\"#9c179e\"],[0.4444444444444444,\"#bd3786\"],[0.5555555555555556,\"#d8576b\"],[0.6666666666666666,\"#ed7953\"],[0.7777777777777778,\"#fb9f3a\"],[0.8888888888888888,\"#fdca26\"],[1.0,\"#f0f921\"]],\"type\":\"heatmap\"}],\"heatmapgl\":[{\"colorbar\":{\"outlinewidth\":0,\"ticks\":\"\"},\"colorscale\":[[0.0,\"#0d0887\"],[0.1111111111111111,\"#46039f\"],[0.2222222222222222,\"#7201a8\"],[0.3333333333333333,\"#9c179e\"],[0.4444444444444444,\"#bd3786\"],[0.5555555555555556,\"#d8576b\"],[0.6666666666666666,\"#ed7953\"],[0.7777777777777778,\"#fb9f3a\"],[0.8888888888888888,\"#fdca26\"],[1.0,\"#f0f921\"]],\"type\":\"heatmapgl\"}],\"histogram\":[{\"marker\":{\"pattern\":{\"fillmode\":\"overlay\",\"size\":10,\"solidity\":0.2}},\"type\":\"histogram\"}],\"histogram2d\":[{\"colorbar\":{\"outlinewidth\":0,\"ticks\":\"\"},\"colorscale\":[[0.0,\"#0d0887\"],[0.1111111111111111,\"#46039f\"],[0.2222222222222222,\"#7201a8\"],[0.3333333333333333,\"#9c179e\"],[0.4444444444444444,\"#bd3786\"],[0.5555555555555556,\"#d8576b\"],[0.6666666666666666,\"#ed7953\"],[0.7777777777777778,\"#fb9f3a\"],[0.8888888888888888,\"#fdca26\"],[1.0,\"#f0f921\"]],\"type\":\"histogram2d\"}],\"histogram2dcontour\":[{\"colorbar\":{\"outlinewidth\":0,\"ticks\":\"\"},\"colorscale\":[[0.0,\"#0d0887\"],[0.1111111111111111,\"#46039f\"],[0.2222222222222222,\"#7201a8\"],[0.3333333333333333,\"#9c179e\"],[0.4444444444444444,\"#bd3786\"],[0.5555555555555556,\"#d8576b\"],[0.6666666666666666,\"#ed7953\"],[0.7777777777777778,\"#fb9f3a\"],[0.8888888888888888,\"#fdca26\"],[1.0,\"#f0f921\"]],\"type\":\"histogram2dcontour\"}],\"mesh3d\":[{\"colorbar\":{\"outlinewidth\":0,\"ticks\":\"\"},\"type\":\"mesh3d\"}],\"parcoords\":[{\"line\":{\"colorbar\":{\"outlinewidth\":0,\"ticks\":\"\"}},\"type\":\"parcoords\"}],\"pie\":[{\"automargin\":true,\"type\":\"pie\"}],\"scatter\":[{\"marker\":{\"colorbar\":{\"outlinewidth\":0,\"ticks\":\"\"}},\"type\":\"scatter\"}],\"scatter3d\":[{\"line\":{\"colorbar\":{\"outlinewidth\":0,\"ticks\":\"\"}},\"marker\":{\"colorbar\":{\"outlinewidth\":0,\"ticks\":\"\"}},\"type\":\"scatter3d\"}],\"scattercarpet\":[{\"marker\":{\"colorbar\":{\"outlinewidth\":0,\"ticks\":\"\"}},\"type\":\"scattercarpet\"}],\"scattergeo\":[{\"marker\":{\"colorbar\":{\"outlinewidth\":0,\"ticks\":\"\"}},\"type\":\"scattergeo\"}],\"scattergl\":[{\"marker\":{\"colorbar\":{\"outlinewidth\":0,\"ticks\":\"\"}},\"type\":\"scattergl\"}],\"scattermapbox\":[{\"marker\":{\"colorbar\":{\"outlinewidth\":0,\"ticks\":\"\"}},\"type\":\"scattermapbox\"}],\"scatterpolar\":[{\"marker\":{\"colorbar\":{\"outlinewidth\":0,\"ticks\":\"\"}},\"type\":\"scatterpolar\"}],\"scatterpolargl\":[{\"marker\":{\"colorbar\":{\"outlinewidth\":0,\"ticks\":\"\"}},\"type\":\"scatterpolargl\"}],\"scatterternary\":[{\"marker\":{\"colorbar\":{\"outlinewidth\":0,\"ticks\":\"\"}},\"type\":\"scatterternary\"}],\"surface\":[{\"colorbar\":{\"outlinewidth\":0,\"ticks\":\"\"},\"colorscale\":[[0.0,\"#0d0887\"],[0.1111111111111111,\"#46039f\"],[0.2222222222222222,\"#7201a8\"],[0.3333333333333333,\"#9c179e\"],[0.4444444444444444,\"#bd3786\"],[0.5555555555555556,\"#d8576b\"],[0.6666666666666666,\"#ed7953\"],[0.7777777777777778,\"#fb9f3a\"],[0.8888888888888888,\"#fdca26\"],[1.0,\"#f0f921\"]],\"type\":\"surface\"}],\"table\":[{\"cells\":{\"fill\":{\"color\":\"#EBF0F8\"},\"line\":{\"color\":\"white\"}},\"header\":{\"fill\":{\"color\":\"#C8D4E3\"},\"line\":{\"color\":\"white\"}},\"type\":\"table\"}]},\"layout\":{\"annotationdefaults\":{\"arrowcolor\":\"#2a3f5f\",\"arrowhead\":0,\"arrowwidth\":1},\"autotypenumbers\":\"strict\",\"coloraxis\":{\"colorbar\":{\"outlinewidth\":0,\"ticks\":\"\"}},\"colorscale\":{\"diverging\":[[0,\"#8e0152\"],[0.1,\"#c51b7d\"],[0.2,\"#de77ae\"],[0.3,\"#f1b6da\"],[0.4,\"#fde0ef\"],[0.5,\"#f7f7f7\"],[0.6,\"#e6f5d0\"],[0.7,\"#b8e186\"],[0.8,\"#7fbc41\"],[0.9,\"#4d9221\"],[1,\"#276419\"]],\"sequential\":[[0.0,\"#0d0887\"],[0.1111111111111111,\"#46039f\"],[0.2222222222222222,\"#7201a8\"],[0.3333333333333333,\"#9c179e\"],[0.4444444444444444,\"#bd3786\"],[0.5555555555555556,\"#d8576b\"],[0.6666666666666666,\"#ed7953\"],[0.7777777777777778,\"#fb9f3a\"],[0.8888888888888888,\"#fdca26\"],[1.0,\"#f0f921\"]],\"sequentialminus\":[[0.0,\"#0d0887\"],[0.1111111111111111,\"#46039f\"],[0.2222222222222222,\"#7201a8\"],[0.3333333333333333,\"#9c179e\"],[0.4444444444444444,\"#bd3786\"],[0.5555555555555556,\"#d8576b\"],[0.6666666666666666,\"#ed7953\"],[0.7777777777777778,\"#fb9f3a\"],[0.8888888888888888,\"#fdca26\"],[1.0,\"#f0f921\"]]},\"colorway\":[\"#636efa\",\"#EF553B\",\"#00cc96\",\"#ab63fa\",\"#FFA15A\",\"#19d3f3\",\"#FF6692\",\"#B6E880\",\"#FF97FF\",\"#FECB52\"],\"font\":{\"color\":\"#2a3f5f\"},\"geo\":{\"bgcolor\":\"white\",\"lakecolor\":\"white\",\"landcolor\":\"#E5ECF6\",\"showlakes\":true,\"showland\":true,\"subunitcolor\":\"white\"},\"hoverlabel\":{\"align\":\"left\"},\"hovermode\":\"closest\",\"mapbox\":{\"style\":\"light\"},\"paper_bgcolor\":\"white\",\"plot_bgcolor\":\"#E5ECF6\",\"polar\":{\"angularaxis\":{\"gridcolor\":\"white\",\"linecolor\":\"white\",\"ticks\":\"\"},\"bgcolor\":\"#E5ECF6\",\"radialaxis\":{\"gridcolor\":\"white\",\"linecolor\":\"white\",\"ticks\":\"\"}},\"scene\":{\"xaxis\":{\"backgroundcolor\":\"#E5ECF6\",\"gridcolor\":\"white\",\"gridwidth\":2,\"linecolor\":\"white\",\"showbackground\":true,\"ticks\":\"\",\"zerolinecolor\":\"white\"},\"yaxis\":{\"backgroundcolor\":\"#E5ECF6\",\"gridcolor\":\"white\",\"gridwidth\":2,\"linecolor\":\"white\",\"showbackground\":true,\"ticks\":\"\",\"zerolinecolor\":\"white\"},\"zaxis\":{\"backgroundcolor\":\"#E5ECF6\",\"gridcolor\":\"white\",\"gridwidth\":2,\"linecolor\":\"white\",\"showbackground\":true,\"ticks\":\"\",\"zerolinecolor\":\"white\"}},\"shapedefaults\":{\"line\":{\"color\":\"#2a3f5f\"}},\"ternary\":{\"aaxis\":{\"gridcolor\":\"white\",\"linecolor\":\"white\",\"ticks\":\"\"},\"baxis\":{\"gridcolor\":\"white\",\"linecolor\":\"white\",\"ticks\":\"\"},\"bgcolor\":\"#E5ECF6\",\"caxis\":{\"gridcolor\":\"white\",\"linecolor\":\"white\",\"ticks\":\"\"}},\"title\":{\"x\":0.05},\"xaxis\":{\"automargin\":true,\"gridcolor\":\"white\",\"linecolor\":\"white\",\"ticks\":\"\",\"title\":{\"standoff\":15},\"zerolinecolor\":\"white\",\"zerolinewidth\":2},\"yaxis\":{\"automargin\":true,\"gridcolor\":\"white\",\"linecolor\":\"white\",\"ticks\":\"\",\"title\":{\"standoff\":15},\"zerolinecolor\":\"white\",\"zerolinewidth\":2}}},\"xaxis\":{\"anchor\":\"y\",\"domain\":[0.0,1.0],\"title\":{\"text\":\"period\"},\"categoryorder\":\"array\",\"categoryarray\":[\"Prejuego\",\"Juego\",\"Postjuego\"]},\"yaxis\":{\"anchor\":\"x\",\"domain\":[0.0,1.0],\"title\":{\"text\":\"% duration\"}},\"legend\":{\"title\":{\"text\":\"behaviors\"},\"tracegroupgap\":0},\"margin\":{\"t\":60},\"barmode\":\"group\",\"title\":{\"text\":\"Duration\"}},                        {\"responsive\": true}                    ).then(function(){\n",
       "                            \n",
       "var gd = document.getElementById('32e107a4-8ddc-4441-b23c-21b5dc29587d');\n",
       "var x = new MutationObserver(function (mutations, observer) {{\n",
       "        var display = window.getComputedStyle(gd).display;\n",
       "        if (!display || display === 'none') {{\n",
       "            console.log([gd, 'removed!']);\n",
       "            Plotly.purge(gd);\n",
       "            observer.disconnect();\n",
       "        }}\n",
       "}});\n",
       "\n",
       "// Listen for the removal of the full notebook cells\n",
       "var notebookContainer = gd.closest('#notebook-container');\n",
       "if (notebookContainer) {{\n",
       "    x.observe(notebookContainer, {childList: true});\n",
       "}}\n",
       "\n",
       "// Listen for the clearing of the current output cell\n",
       "var outputEl = gd.closest('.output');\n",
       "if (outputEl) {{\n",
       "    x.observe(outputEl, {childList: true});\n",
       "}}\n",
       "\n",
       "                        })                };                });            </script>        </div>"
      ]
     },
     "metadata": {},
     "output_type": "display_data"
    }
   ],
   "source": [
    "import plotly.express as px\n",
    "\n",
    "fig = px.histogram(macrodf, x=\"period\", y=['duracion_agonisticas', 'duracion_publico', 'duracion_afiliativas',\n",
    "       'duracion_ludico_social', 'duracion_sexual', 'duracion_ludicas'], barmode='group',color_discrete_sequence=px.colors.qualitative.Pastel,category_orders={\"period\": [\"Prejuego\",\"Juego\",\"Postjuego\"]})\n",
    "fig.update_layout(\n",
    "    title=\"Duration\",\n",
    "    xaxis_title=\"period\",\n",
    "    yaxis_title=\"% duration\",\n",
    "    legend_title=\"behaviors\")\n",
    "fig.show()"
   ]
  },
  {
   "cell_type": "code",
   "execution_count": null,
   "id": "b1a0c501",
   "metadata": {},
   "outputs": [],
   "source": [
    "(df['behavior'].apply(lambda x: x in [\"jun\",\"aprox\",\"trans\",\"toca\",\"solj\",\"alogroo\"])).sum()"
   ]
  },
  {
   "cell_type": "code",
   "execution_count": null,
   "id": "9bfc7ca2",
   "metadata": {},
   "outputs": [],
   "source": [
    "afiliativas=df.loc[df['behavior'].isin([\"jun\",\"aprox\",\"trans\",\"toca\",\"solj\",\"alogroo\"])]\n",
    "afiliativas.head()\n",
    "afiliativas[afiliativas['period']=='Juego']['behavior'].value_counts(normalize=True)"
   ]
  },
  {
   "cell_type": "code",
   "execution_count": null,
   "id": "b4fac940",
   "metadata": {},
   "outputs": [],
   "source": [
    "#fig1 = px.histogram(macrodf, x=\"period\", y=['fq_prejuego_agonistica'])"
   ]
  },
  {
   "cell_type": "code",
   "execution_count": null,
   "id": "bfdd8663",
   "metadata": {},
   "outputs": [],
   "source": []
  }
 ],
 "metadata": {
  "kernelspec": {
   "display_name": "Python 3.10.4 ('ds')",
   "language": "python",
   "name": "python3"
  },
  "language_info": {
   "codemirror_mode": {
    "name": "ipython",
    "version": 3
   },
   "file_extension": ".py",
   "mimetype": "text/x-python",
   "name": "python",
   "nbconvert_exporter": "python",
   "pygments_lexer": "ipython3",
   "version": "3.10.4"
  },
  "vscode": {
   "interpreter": {
    "hash": "51fb76d8006b5ab0e0c4fcd365bc9e8f1c8f496fafcc4f75d4d513b2517b500d"
   }
  }
 },
 "nbformat": 4,
 "nbformat_minor": 5
}
