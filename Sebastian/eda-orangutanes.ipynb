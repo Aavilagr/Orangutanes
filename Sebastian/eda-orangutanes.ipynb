{
 "cells": [
  {
   "cell_type": "code",
   "execution_count": null,
   "metadata": {},
   "outputs": [],
   "source": []
  },
  {
   "cell_type": "code",
   "execution_count": 2,
   "metadata": {},
   "outputs": [
    {
     "data": {
      "text/html": [
       "<div>\n",
       "<style scoped>\n",
       "    .dataframe tbody tr th:only-of-type {\n",
       "        vertical-align: middle;\n",
       "    }\n",
       "\n",
       "    .dataframe tbody tr th {\n",
       "        vertical-align: top;\n",
       "    }\n",
       "\n",
       "    .dataframe thead th {\n",
       "        text-align: right;\n",
       "    }\n",
       "</style>\n",
       "<table border=\"1\" class=\"dataframe\">\n",
       "  <thead>\n",
       "    <tr style=\"text-align: right;\">\n",
       "      <th></th>\n",
       "      <th>Unnamed: 0</th>\n",
       "      <th>date</th>\n",
       "      <th>subject</th>\n",
       "      <th>period</th>\n",
       "      <th>reg</th>\n",
       "      <th>behavior</th>\n",
       "      <th>receptor</th>\n",
       "      <th>duration</th>\n",
       "    </tr>\n",
       "  </thead>\n",
       "  <tbody>\n",
       "    <tr>\n",
       "      <th>0</th>\n",
       "      <td>0</td>\n",
       "      <td>2019-04-15</td>\n",
       "      <td>Karl</td>\n",
       "      <td>Prejuego</td>\n",
       "      <td>1</td>\n",
       "      <td>cam</td>\n",
       "      <td>[]</td>\n",
       "      <td>15.0</td>\n",
       "    </tr>\n",
       "    <tr>\n",
       "      <th>1</th>\n",
       "      <td>1</td>\n",
       "      <td>2019-04-15</td>\n",
       "      <td>Karl</td>\n",
       "      <td>Prejuego</td>\n",
       "      <td>1</td>\n",
       "      <td>forr</td>\n",
       "      <td>[]</td>\n",
       "      <td>34.0</td>\n",
       "    </tr>\n",
       "    <tr>\n",
       "      <th>2</th>\n",
       "      <td>2</td>\n",
       "      <td>2019-04-15</td>\n",
       "      <td>Karl</td>\n",
       "      <td>Prejuego</td>\n",
       "      <td>1</td>\n",
       "      <td>sen</td>\n",
       "      <td>[]</td>\n",
       "      <td>52.0</td>\n",
       "    </tr>\n",
       "    <tr>\n",
       "      <th>3</th>\n",
       "      <td>3</td>\n",
       "      <td>2019-04-15</td>\n",
       "      <td>Karl</td>\n",
       "      <td>Prejuego</td>\n",
       "      <td>1</td>\n",
       "      <td>cam</td>\n",
       "      <td>[]</td>\n",
       "      <td>5.0</td>\n",
       "    </tr>\n",
       "    <tr>\n",
       "      <th>4</th>\n",
       "      <td>4</td>\n",
       "      <td>2019-04-15</td>\n",
       "      <td>Karl</td>\n",
       "      <td>Prejuego</td>\n",
       "      <td>1</td>\n",
       "      <td>sen</td>\n",
       "      <td>[]</td>\n",
       "      <td>34.0</td>\n",
       "    </tr>\n",
       "  </tbody>\n",
       "</table>\n",
       "</div>"
      ],
      "text/plain": [
       "   Unnamed: 0        date subject    period  reg behavior receptor  duration\n",
       "0           0  2019-04-15    Karl  Prejuego    1      cam       []      15.0\n",
       "1           1  2019-04-15    Karl  Prejuego    1     forr       []      34.0\n",
       "2           2  2019-04-15    Karl  Prejuego    1      sen       []      52.0\n",
       "3           3  2019-04-15    Karl  Prejuego    1      cam       []       5.0\n",
       "4           4  2019-04-15    Karl  Prejuego    1      sen       []      34.0"
      ]
     },
     "execution_count": 2,
     "metadata": {},
     "output_type": "execute_result"
    }
   ],
   "source": [
    "import pandas as pd\n",
    "import numpy as np\n",
    "\n",
    "df = pd.read_csv('../clean_df.csv')\n",
    "df.head()"
   ]
  },
  {
   "cell_type": "code",
   "execution_count": 6,
   "metadata": {},
   "outputs": [
    {
     "data": {
      "text/html": [
       "<div>\n",
       "<style scoped>\n",
       "    .dataframe tbody tr th:only-of-type {\n",
       "        vertical-align: middle;\n",
       "    }\n",
       "\n",
       "    .dataframe tbody tr th {\n",
       "        vertical-align: top;\n",
       "    }\n",
       "\n",
       "    .dataframe thead th {\n",
       "        text-align: right;\n",
       "    }\n",
       "</style>\n",
       "<table border=\"1\" class=\"dataframe\">\n",
       "  <thead>\n",
       "    <tr style=\"text-align: right;\">\n",
       "      <th></th>\n",
       "      <th>Fecha</th>\n",
       "      <th>Sujeto</th>\n",
       "      <th>Periodo</th>\n",
       "      <th>Registro diario</th>\n",
       "      <th>Conducta</th>\n",
       "      <th>Receptor</th>\n",
       "      <th>Frecuencia</th>\n",
       "      <th>Duración</th>\n",
       "      <th>Ubicacion</th>\n",
       "      <th>Observaciones</th>\n",
       "    </tr>\n",
       "  </thead>\n",
       "  <tbody>\n",
       "    <tr>\n",
       "      <th>0</th>\n",
       "      <td>2019-04-15</td>\n",
       "      <td>Karl</td>\n",
       "      <td>Prejuego</td>\n",
       "      <td>1</td>\n",
       "      <td>Cam</td>\n",
       "      <td>NaN</td>\n",
       "      <td>NaN</td>\n",
       "      <td>00:00:15</td>\n",
       "      <td>vg2</td>\n",
       "      <td>NaN</td>\n",
       "    </tr>\n",
       "    <tr>\n",
       "      <th>1</th>\n",
       "      <td>2019-04-15</td>\n",
       "      <td>Karl</td>\n",
       "      <td>Prejuego</td>\n",
       "      <td>1</td>\n",
       "      <td>Forr</td>\n",
       "      <td>NaN</td>\n",
       "      <td>NaN</td>\n",
       "      <td>00:00:34</td>\n",
       "      <td>vg2</td>\n",
       "      <td>NaN</td>\n",
       "    </tr>\n",
       "    <tr>\n",
       "      <th>2</th>\n",
       "      <td>2019-04-15</td>\n",
       "      <td>Karl</td>\n",
       "      <td>Prejuego</td>\n",
       "      <td>1</td>\n",
       "      <td>Sen</td>\n",
       "      <td>NaN</td>\n",
       "      <td>NaN</td>\n",
       "      <td>00:00:52</td>\n",
       "      <td>vg4</td>\n",
       "      <td>NaN</td>\n",
       "    </tr>\n",
       "    <tr>\n",
       "      <th>3</th>\n",
       "      <td>2019-04-15</td>\n",
       "      <td>Karl</td>\n",
       "      <td>Prejuego</td>\n",
       "      <td>1</td>\n",
       "      <td>Cam</td>\n",
       "      <td>NaN</td>\n",
       "      <td>NaN</td>\n",
       "      <td>00:00:05</td>\n",
       "      <td>vg4</td>\n",
       "      <td>NaN</td>\n",
       "    </tr>\n",
       "    <tr>\n",
       "      <th>4</th>\n",
       "      <td>2019-04-15</td>\n",
       "      <td>Karl</td>\n",
       "      <td>Prejuego</td>\n",
       "      <td>1</td>\n",
       "      <td>Sen</td>\n",
       "      <td>NaN</td>\n",
       "      <td>NaN</td>\n",
       "      <td>00:00:34</td>\n",
       "      <td>vg4</td>\n",
       "      <td>NaN</td>\n",
       "    </tr>\n",
       "    <tr>\n",
       "      <th>...</th>\n",
       "      <td>...</td>\n",
       "      <td>...</td>\n",
       "      <td>...</td>\n",
       "      <td>...</td>\n",
       "      <td>...</td>\n",
       "      <td>...</td>\n",
       "      <td>...</td>\n",
       "      <td>...</td>\n",
       "      <td>...</td>\n",
       "      <td>...</td>\n",
       "    </tr>\n",
       "    <tr>\n",
       "      <th>8109</th>\n",
       "      <td>2019-07-19</td>\n",
       "      <td>Hadia</td>\n",
       "      <td>Postjuego</td>\n",
       "      <td>2</td>\n",
       "      <td>Tre</td>\n",
       "      <td>NaN</td>\n",
       "      <td>NaN</td>\n",
       "      <td>00:00:09</td>\n",
       "      <td>pg4</td>\n",
       "      <td>NaN</td>\n",
       "    </tr>\n",
       "    <tr>\n",
       "      <th>8110</th>\n",
       "      <td>2019-07-19</td>\n",
       "      <td>Hadia</td>\n",
       "      <td>Postjuego</td>\n",
       "      <td>2</td>\n",
       "      <td>Alim</td>\n",
       "      <td>NaN</td>\n",
       "      <td>NaN</td>\n",
       "      <td>00:01:34</td>\n",
       "      <td>pg4</td>\n",
       "      <td>NaN</td>\n",
       "    </tr>\n",
       "    <tr>\n",
       "      <th>8111</th>\n",
       "      <td>2019-07-19</td>\n",
       "      <td>Hadia</td>\n",
       "      <td>Postjuego</td>\n",
       "      <td>2</td>\n",
       "      <td>Jacrob</td>\n",
       "      <td>NaN</td>\n",
       "      <td>NaN</td>\n",
       "      <td>00:00:21</td>\n",
       "      <td>pg4</td>\n",
       "      <td>NaN</td>\n",
       "    </tr>\n",
       "    <tr>\n",
       "      <th>8112</th>\n",
       "      <td>2019-07-19</td>\n",
       "      <td>Hadia</td>\n",
       "      <td>Postjuego</td>\n",
       "      <td>2</td>\n",
       "      <td>Bra</td>\n",
       "      <td>NaN</td>\n",
       "      <td>NaN</td>\n",
       "      <td>00:00:03</td>\n",
       "      <td>pg4</td>\n",
       "      <td>NaN</td>\n",
       "    </tr>\n",
       "    <tr>\n",
       "      <th>8113</th>\n",
       "      <td>2019-07-19</td>\n",
       "      <td>Hadia</td>\n",
       "      <td>Postjuego</td>\n",
       "      <td>2</td>\n",
       "      <td>Alim</td>\n",
       "      <td>NaN</td>\n",
       "      <td>NaN</td>\n",
       "      <td>00:03:12</td>\n",
       "      <td>pg3</td>\n",
       "      <td>NaN</td>\n",
       "    </tr>\n",
       "  </tbody>\n",
       "</table>\n",
       "<p>8114 rows × 10 columns</p>\n",
       "</div>"
      ],
      "text/plain": [
       "          Fecha Sujeto    Periodo  Registro diario Conducta Receptor  \\\n",
       "0    2019-04-15   Karl   Prejuego                1      Cam      NaN   \n",
       "1    2019-04-15   Karl   Prejuego                1     Forr      NaN   \n",
       "2    2019-04-15   Karl   Prejuego                1      Sen      NaN   \n",
       "3    2019-04-15   Karl   Prejuego                1      Cam      NaN   \n",
       "4    2019-04-15   Karl   Prejuego                1      Sen      NaN   \n",
       "...         ...    ...        ...              ...      ...      ...   \n",
       "8109 2019-07-19  Hadia  Postjuego                2      Tre      NaN   \n",
       "8110 2019-07-19  Hadia  Postjuego                2     Alim      NaN   \n",
       "8111 2019-07-19  Hadia  Postjuego                2   Jacrob      NaN   \n",
       "8112 2019-07-19  Hadia  Postjuego                2      Bra      NaN   \n",
       "8113 2019-07-19  Hadia  Postjuego                2     Alim      NaN   \n",
       "\n",
       "     Frecuencia  Duración Ubicacion Observaciones  \n",
       "0           NaN  00:00:15       vg2           NaN  \n",
       "1           NaN  00:00:34       vg2           NaN  \n",
       "2           NaN  00:00:52       vg4           NaN  \n",
       "3           NaN  00:00:05       vg4           NaN  \n",
       "4           NaN  00:00:34       vg4           NaN  \n",
       "...         ...       ...       ...           ...  \n",
       "8109        NaN  00:00:09       pg4           NaN  \n",
       "8110        NaN  00:01:34       pg4           NaN  \n",
       "8111        NaN  00:00:21       pg4           NaN  \n",
       "8112        NaN  00:00:03       pg4           NaN  \n",
       "8113        NaN  00:03:12       pg3           NaN  \n",
       "\n",
       "[8114 rows x 10 columns]"
      ]
     },
     "execution_count": 6,
     "metadata": {},
     "output_type": "execute_result"
    }
   ],
   "source": [
    "xls = pd.ExcelFile('./Registro orangutanes Barcelona.xlsx')\n",
    "df_raw=pd.read_excel(xls,'Grupo')\n",
    "df_raw"
   ]
  },
  {
   "cell_type": "code",
   "execution_count": 119,
   "metadata": {},
   "outputs": [
    {
     "data": {
      "text/plain": [
       "jun        1052\n",
       "cam         991\n",
       "sen         957\n",
       "alim        668\n",
       "aprox       585\n",
       "forr        435\n",
       "tum         380\n",
       "bra         369\n",
       "solj        326\n",
       "jexp        321\n",
       "jacrob      305\n",
       "tre         262\n",
       "lucha       251\n",
       "alogroo     232\n",
       "ras         228\n",
       "groo        176\n",
       "ins         106\n",
       "mama        100\n",
       "cuad         97\n",
       "pub          80\n",
       "con          46\n",
       "hur          46\n",
       "roba         36\n",
       "marc         19\n",
       "chup         16\n",
       "huir         14\n",
       "sex           6\n",
       "corr          3\n",
       "perj          2\n",
       "jsol          2\n",
       "trans         1\n",
       "toca          1\n",
       "Name: behavior, dtype: int64"
      ]
     },
     "execution_count": 119,
     "metadata": {},
     "output_type": "execute_result"
    }
   ],
   "source": [
    "df['behavior'].value_counts()"
   ]
  },
  {
   "cell_type": "code",
   "execution_count": 121,
   "metadata": {},
   "outputs": [],
   "source": [
    "DATE = 'date'\n",
    "SUBJECT = 'subject'\n",
    "PERIOD = 'period'\n",
    "REG='reg'\n",
    "BEHAVIOR='behavior'\n",
    "FRECUENCY='frecuency'\n",
    "RECEPTOR='receptor'\n",
    "DURATION='duration'\n",
    "df = df.groupby([PERIOD, DATE, REG, SUBJECT, BEHAVIOR])[DURATION] \\\n",
    "            .sum() \\\n",
    "            .unstack(BEHAVIOR) \\\n",
    "            .fillna(pd.Timedelta(seconds=0)) \\\n",
    "            .reset_index()\n",
    "df.columns.name =''"
   ]
  },
  {
   "cell_type": "code",
   "execution_count": 122,
   "metadata": {},
   "outputs": [],
   "source": [
    "df.columns.name =''"
   ]
  },
  {
   "cell_type": "code",
   "execution_count": 123,
   "metadata": {},
   "outputs": [
    {
     "data": {
      "text/html": [
       "<div>\n",
       "<style scoped>\n",
       "    .dataframe tbody tr th:only-of-type {\n",
       "        vertical-align: middle;\n",
       "    }\n",
       "\n",
       "    .dataframe tbody tr th {\n",
       "        vertical-align: top;\n",
       "    }\n",
       "\n",
       "    .dataframe thead th {\n",
       "        text-align: right;\n",
       "    }\n",
       "</style>\n",
       "<table border=\"1\" class=\"dataframe\">\n",
       "  <thead>\n",
       "    <tr style=\"text-align: right;\">\n",
       "      <th></th>\n",
       "      <th>period</th>\n",
       "      <th>date</th>\n",
       "      <th>reg</th>\n",
       "      <th>subject</th>\n",
       "      <th>alim</th>\n",
       "      <th>alogroo</th>\n",
       "      <th>aprox</th>\n",
       "      <th>bra</th>\n",
       "      <th>cam</th>\n",
       "      <th>chup</th>\n",
       "      <th>...</th>\n",
       "      <th>pub</th>\n",
       "      <th>ras</th>\n",
       "      <th>roba</th>\n",
       "      <th>sen</th>\n",
       "      <th>sex</th>\n",
       "      <th>solj</th>\n",
       "      <th>toca</th>\n",
       "      <th>trans</th>\n",
       "      <th>tre</th>\n",
       "      <th>tum</th>\n",
       "    </tr>\n",
       "  </thead>\n",
       "  <tbody>\n",
       "    <tr>\n",
       "      <th>0</th>\n",
       "      <td>Juego</td>\n",
       "      <td>2019-05-20</td>\n",
       "      <td>1</td>\n",
       "      <td>Hadia</td>\n",
       "      <td>0 days 00:00:130 days 00:00:390 days 00:03:330...</td>\n",
       "      <td>0 days 00:00:13</td>\n",
       "      <td>0 days 00:00:050 days 00:00:050 days 00:00:05</td>\n",
       "      <td>0 days 00:00:00</td>\n",
       "      <td>0 days 00:00:160 days 00:00:05</td>\n",
       "      <td>0 days 00:00:00</td>\n",
       "      <td>...</td>\n",
       "      <td>0 days 00:00:00</td>\n",
       "      <td>0 days 00:00:00</td>\n",
       "      <td>0 days 00:00:00</td>\n",
       "      <td>0 days 00:00:00</td>\n",
       "      <td>0 days 00:00:00</td>\n",
       "      <td>0 days 00:00:00</td>\n",
       "      <td>0 days 00:00:00</td>\n",
       "      <td>0 days 00:00:00</td>\n",
       "      <td>0 days 00:00:03</td>\n",
       "      <td>0 days 00:00:00</td>\n",
       "    </tr>\n",
       "    <tr>\n",
       "      <th>1</th>\n",
       "      <td>Juego</td>\n",
       "      <td>2019-05-20</td>\n",
       "      <td>1</td>\n",
       "      <td>Jawie</td>\n",
       "      <td>0 days 00:00:00</td>\n",
       "      <td>0 days 00:00:00</td>\n",
       "      <td>0 days 00:00:00</td>\n",
       "      <td>0 days 00:00:00</td>\n",
       "      <td>0 days 00:00:00</td>\n",
       "      <td>0 days 00:00:00</td>\n",
       "      <td>...</td>\n",
       "      <td>0 days 00:00:00</td>\n",
       "      <td>0 days 00:00:00</td>\n",
       "      <td>0 days 00:00:00</td>\n",
       "      <td>0 days 00:00:00</td>\n",
       "      <td>0 days 00:00:00</td>\n",
       "      <td>0 days 00:00:00</td>\n",
       "      <td>0 days 00:00:00</td>\n",
       "      <td>0 days 00:00:19</td>\n",
       "      <td>0 days 00:00:00</td>\n",
       "      <td>0 days 00:00:00</td>\n",
       "    </tr>\n",
       "    <tr>\n",
       "      <th>2</th>\n",
       "      <td>Juego</td>\n",
       "      <td>2019-05-20</td>\n",
       "      <td>1</td>\n",
       "      <td>Karl</td>\n",
       "      <td>0 days 00:00:27</td>\n",
       "      <td>0 days 00:00:00</td>\n",
       "      <td>0 days 00:00:00</td>\n",
       "      <td>0 days 00:00:00</td>\n",
       "      <td>0 days 00:00:00</td>\n",
       "      <td>0 days 00:00:00</td>\n",
       "      <td>...</td>\n",
       "      <td>0 days 00:00:00</td>\n",
       "      <td>0 days 00:00:080 days 00:00:020 days 00:00:04</td>\n",
       "      <td>0 days 00:00:00</td>\n",
       "      <td>0 days 00:00:270 days 00:00:230 days 00:00:030...</td>\n",
       "      <td>0 days 00:00:00</td>\n",
       "      <td>0 days 00:00:00</td>\n",
       "      <td>0 days 00:00:00</td>\n",
       "      <td>0 days 00:00:00</td>\n",
       "      <td>0 days 00:00:00</td>\n",
       "      <td>0 days 00:01:150 days 00:01:080 days 00:01:010...</td>\n",
       "    </tr>\n",
       "    <tr>\n",
       "      <th>3</th>\n",
       "      <td>Juego</td>\n",
       "      <td>2019-05-20</td>\n",
       "      <td>1</td>\n",
       "      <td>Locky</td>\n",
       "      <td>0 days 00:00:00</td>\n",
       "      <td>0 days 00:00:00</td>\n",
       "      <td>0 days 00:00:00</td>\n",
       "      <td>0 days 00:00:00</td>\n",
       "      <td>0 days 00:00:15</td>\n",
       "      <td>0 days 00:00:00</td>\n",
       "      <td>...</td>\n",
       "      <td>0 days 00:00:06</td>\n",
       "      <td>0 days 00:00:04</td>\n",
       "      <td>0 days 00:00:00</td>\n",
       "      <td>0 days 00:00:590 days 00:01:370 days 00:00:13</td>\n",
       "      <td>0 days 00:00:00</td>\n",
       "      <td>0 days 00:00:00</td>\n",
       "      <td>0 days 00:00:00</td>\n",
       "      <td>0 days 00:00:00</td>\n",
       "      <td>0 days 00:00:50</td>\n",
       "      <td>0 days 00:01:110 days 00:11:25</td>\n",
       "    </tr>\n",
       "    <tr>\n",
       "      <th>4</th>\n",
       "      <td>Juego</td>\n",
       "      <td>2019-05-20</td>\n",
       "      <td>1</td>\n",
       "      <td>Popo</td>\n",
       "      <td>0 days 00:00:00</td>\n",
       "      <td>0 days 00:00:00</td>\n",
       "      <td>0 days 00:00:00</td>\n",
       "      <td>0 days 00:00:080 days 00:00:360 days 00:00:470...</td>\n",
       "      <td>0 days 00:00:21</td>\n",
       "      <td>0 days 00:00:00</td>\n",
       "      <td>...</td>\n",
       "      <td>0 days 00:00:00</td>\n",
       "      <td>0 days 00:00:00</td>\n",
       "      <td>0 days 00:00:00</td>\n",
       "      <td>0 days 00:00:00</td>\n",
       "      <td>0 days 00:00:00</td>\n",
       "      <td>0 days 00:00:00</td>\n",
       "      <td>0 days 00:00:00</td>\n",
       "      <td>0 days 00:00:00</td>\n",
       "      <td>0 days 00:00:230 days 00:00:070 days 00:00:050...</td>\n",
       "      <td>0 days 00:00:00</td>\n",
       "    </tr>\n",
       "  </tbody>\n",
       "</table>\n",
       "<p>5 rows × 36 columns</p>\n",
       "</div>"
      ],
      "text/plain": [
       "  period        date  reg subject  \\\n",
       "0  Juego  2019-05-20    1   Hadia   \n",
       "1  Juego  2019-05-20    1   Jawie   \n",
       "2  Juego  2019-05-20    1    Karl   \n",
       "3  Juego  2019-05-20    1   Locky   \n",
       "4  Juego  2019-05-20    1    Popo   \n",
       "\n",
       "                                                alim          alogroo  \\\n",
       "0  0 days 00:00:130 days 00:00:390 days 00:03:330...  0 days 00:00:13   \n",
       "1                                    0 days 00:00:00  0 days 00:00:00   \n",
       "2                                    0 days 00:00:27  0 days 00:00:00   \n",
       "3                                    0 days 00:00:00  0 days 00:00:00   \n",
       "4                                    0 days 00:00:00  0 days 00:00:00   \n",
       "\n",
       "                                           aprox  \\\n",
       "0  0 days 00:00:050 days 00:00:050 days 00:00:05   \n",
       "1                                0 days 00:00:00   \n",
       "2                                0 days 00:00:00   \n",
       "3                                0 days 00:00:00   \n",
       "4                                0 days 00:00:00   \n",
       "\n",
       "                                                 bra  \\\n",
       "0                                    0 days 00:00:00   \n",
       "1                                    0 days 00:00:00   \n",
       "2                                    0 days 00:00:00   \n",
       "3                                    0 days 00:00:00   \n",
       "4  0 days 00:00:080 days 00:00:360 days 00:00:470...   \n",
       "\n",
       "                              cam             chup  ...              pub  \\\n",
       "0  0 days 00:00:160 days 00:00:05  0 days 00:00:00  ...  0 days 00:00:00   \n",
       "1                 0 days 00:00:00  0 days 00:00:00  ...  0 days 00:00:00   \n",
       "2                 0 days 00:00:00  0 days 00:00:00  ...  0 days 00:00:00   \n",
       "3                 0 days 00:00:15  0 days 00:00:00  ...  0 days 00:00:06   \n",
       "4                 0 days 00:00:21  0 days 00:00:00  ...  0 days 00:00:00   \n",
       "\n",
       "                                             ras             roba  \\\n",
       "0                                0 days 00:00:00  0 days 00:00:00   \n",
       "1                                0 days 00:00:00  0 days 00:00:00   \n",
       "2  0 days 00:00:080 days 00:00:020 days 00:00:04  0 days 00:00:00   \n",
       "3                                0 days 00:00:04  0 days 00:00:00   \n",
       "4                                0 days 00:00:00  0 days 00:00:00   \n",
       "\n",
       "                                                 sen              sex  \\\n",
       "0                                    0 days 00:00:00  0 days 00:00:00   \n",
       "1                                    0 days 00:00:00  0 days 00:00:00   \n",
       "2  0 days 00:00:270 days 00:00:230 days 00:00:030...  0 days 00:00:00   \n",
       "3      0 days 00:00:590 days 00:01:370 days 00:00:13  0 days 00:00:00   \n",
       "4                                    0 days 00:00:00  0 days 00:00:00   \n",
       "\n",
       "              solj             toca            trans  \\\n",
       "0  0 days 00:00:00  0 days 00:00:00  0 days 00:00:00   \n",
       "1  0 days 00:00:00  0 days 00:00:00  0 days 00:00:19   \n",
       "2  0 days 00:00:00  0 days 00:00:00  0 days 00:00:00   \n",
       "3  0 days 00:00:00  0 days 00:00:00  0 days 00:00:00   \n",
       "4  0 days 00:00:00  0 days 00:00:00  0 days 00:00:00   \n",
       "\n",
       "                                                 tre  \\\n",
       "0                                    0 days 00:00:03   \n",
       "1                                    0 days 00:00:00   \n",
       "2                                    0 days 00:00:00   \n",
       "3                                    0 days 00:00:50   \n",
       "4  0 days 00:00:230 days 00:00:070 days 00:00:050...   \n",
       "\n",
       "                                                 tum  \n",
       "0                                    0 days 00:00:00  \n",
       "1                                    0 days 00:00:00  \n",
       "2  0 days 00:01:150 days 00:01:080 days 00:01:010...  \n",
       "3                     0 days 00:01:110 days 00:11:25  \n",
       "4                                    0 days 00:00:00  \n",
       "\n",
       "[5 rows x 36 columns]"
      ]
     },
     "execution_count": 123,
     "metadata": {},
     "output_type": "execute_result"
    }
   ],
   "source": [
    "df.head()"
   ]
  },
  {
   "cell_type": "code",
   "execution_count": 105,
   "metadata": {},
   "outputs": [
    {
     "data": {
      "text/html": [
       "<div>\n",
       "<style scoped>\n",
       "    .dataframe tbody tr th:only-of-type {\n",
       "        vertical-align: middle;\n",
       "    }\n",
       "\n",
       "    .dataframe tbody tr th {\n",
       "        vertical-align: top;\n",
       "    }\n",
       "\n",
       "    .dataframe thead th {\n",
       "        text-align: right;\n",
       "    }\n",
       "</style>\n",
       "<table border=\"1\" class=\"dataframe\">\n",
       "  <thead>\n",
       "    <tr style=\"text-align: right;\">\n",
       "      <th></th>\n",
       "      <th>Hadia</th>\n",
       "      <th>Jawie</th>\n",
       "      <th>Karl</th>\n",
       "      <th>Locky</th>\n",
       "      <th>Popo</th>\n",
       "      <th>Storma</th>\n",
       "    </tr>\n",
       "  </thead>\n",
       "  <tbody>\n",
       "    <tr>\n",
       "      <th>0</th>\n",
       "      <td>1</td>\n",
       "      <td>0</td>\n",
       "      <td>0</td>\n",
       "      <td>0</td>\n",
       "      <td>0</td>\n",
       "      <td>0</td>\n",
       "    </tr>\n",
       "    <tr>\n",
       "      <th>1</th>\n",
       "      <td>0</td>\n",
       "      <td>1</td>\n",
       "      <td>0</td>\n",
       "      <td>0</td>\n",
       "      <td>0</td>\n",
       "      <td>0</td>\n",
       "    </tr>\n",
       "    <tr>\n",
       "      <th>2</th>\n",
       "      <td>0</td>\n",
       "      <td>0</td>\n",
       "      <td>1</td>\n",
       "      <td>0</td>\n",
       "      <td>0</td>\n",
       "      <td>0</td>\n",
       "    </tr>\n",
       "    <tr>\n",
       "      <th>3</th>\n",
       "      <td>0</td>\n",
       "      <td>0</td>\n",
       "      <td>0</td>\n",
       "      <td>1</td>\n",
       "      <td>0</td>\n",
       "      <td>0</td>\n",
       "    </tr>\n",
       "    <tr>\n",
       "      <th>4</th>\n",
       "      <td>0</td>\n",
       "      <td>0</td>\n",
       "      <td>0</td>\n",
       "      <td>0</td>\n",
       "      <td>1</td>\n",
       "      <td>0</td>\n",
       "    </tr>\n",
       "    <tr>\n",
       "      <th>...</th>\n",
       "      <td>...</td>\n",
       "      <td>...</td>\n",
       "      <td>...</td>\n",
       "      <td>...</td>\n",
       "      <td>...</td>\n",
       "      <td>...</td>\n",
       "    </tr>\n",
       "    <tr>\n",
       "      <th>533</th>\n",
       "      <td>1</td>\n",
       "      <td>0</td>\n",
       "      <td>0</td>\n",
       "      <td>0</td>\n",
       "      <td>0</td>\n",
       "      <td>0</td>\n",
       "    </tr>\n",
       "    <tr>\n",
       "      <th>534</th>\n",
       "      <td>0</td>\n",
       "      <td>1</td>\n",
       "      <td>0</td>\n",
       "      <td>0</td>\n",
       "      <td>0</td>\n",
       "      <td>0</td>\n",
       "    </tr>\n",
       "    <tr>\n",
       "      <th>535</th>\n",
       "      <td>0</td>\n",
       "      <td>0</td>\n",
       "      <td>1</td>\n",
       "      <td>0</td>\n",
       "      <td>0</td>\n",
       "      <td>0</td>\n",
       "    </tr>\n",
       "    <tr>\n",
       "      <th>536</th>\n",
       "      <td>0</td>\n",
       "      <td>0</td>\n",
       "      <td>0</td>\n",
       "      <td>0</td>\n",
       "      <td>1</td>\n",
       "      <td>0</td>\n",
       "    </tr>\n",
       "    <tr>\n",
       "      <th>537</th>\n",
       "      <td>0</td>\n",
       "      <td>0</td>\n",
       "      <td>0</td>\n",
       "      <td>0</td>\n",
       "      <td>0</td>\n",
       "      <td>1</td>\n",
       "    </tr>\n",
       "  </tbody>\n",
       "</table>\n",
       "<p>538 rows × 6 columns</p>\n",
       "</div>"
      ],
      "text/plain": [
       "     Hadia  Jawie  Karl  Locky  Popo  Storma\n",
       "0        1      0     0      0     0       0\n",
       "1        0      1     0      0     0       0\n",
       "2        0      0     1      0     0       0\n",
       "3        0      0     0      1     0       0\n",
       "4        0      0     0      0     1       0\n",
       "..     ...    ...   ...    ...   ...     ...\n",
       "533      1      0     0      0     0       0\n",
       "534      0      1     0      0     0       0\n",
       "535      0      0     1      0     0       0\n",
       "536      0      0     0      0     1       0\n",
       "537      0      0     0      0     0       1\n",
       "\n",
       "[538 rows x 6 columns]"
      ]
     },
     "execution_count": 105,
     "metadata": {},
     "output_type": "execute_result"
    }
   ],
   "source": [
    "pd.get_dummies(df.subject)"
   ]
  },
  {
   "cell_type": "code",
   "execution_count": 115,
   "metadata": {},
   "outputs": [
    {
     "data": {
      "text/html": [
       "<div>\n",
       "<style scoped>\n",
       "    .dataframe tbody tr th:only-of-type {\n",
       "        vertical-align: middle;\n",
       "    }\n",
       "\n",
       "    .dataframe tbody tr th {\n",
       "        vertical-align: top;\n",
       "    }\n",
       "\n",
       "    .dataframe thead th {\n",
       "        text-align: right;\n",
       "    }\n",
       "</style>\n",
       "<table border=\"1\" class=\"dataframe\">\n",
       "  <thead>\n",
       "    <tr style=\"text-align: right;\">\n",
       "      <th></th>\n",
       "      <th>period</th>\n",
       "      <th>date</th>\n",
       "      <th>reg</th>\n",
       "      <th>subject</th>\n",
       "      <th>Alim</th>\n",
       "      <th>Alogroo</th>\n",
       "      <th>Aprox</th>\n",
       "      <th>Bra</th>\n",
       "      <th>Cam</th>\n",
       "      <th>Chup</th>\n",
       "      <th>...</th>\n",
       "      <th>Tre</th>\n",
       "      <th>Tum</th>\n",
       "      <th>con</th>\n",
       "      <th>tre</th>\n",
       "      <th>Hadia</th>\n",
       "      <th>Jawie</th>\n",
       "      <th>Karl</th>\n",
       "      <th>Locky</th>\n",
       "      <th>Popo</th>\n",
       "      <th>Storma</th>\n",
       "    </tr>\n",
       "  </thead>\n",
       "  <tbody>\n",
       "    <tr>\n",
       "      <th>0</th>\n",
       "      <td>Juego</td>\n",
       "      <td>2019-05-20</td>\n",
       "      <td>1</td>\n",
       "      <td>Hadia</td>\n",
       "      <td>0 days 00:00:130 days 00:00:390 days 00:03:330...</td>\n",
       "      <td>0 days 00:00:13</td>\n",
       "      <td>0 days 00:00:050 days 00:00:050 days 00:00:05</td>\n",
       "      <td>0 days 00:00:00</td>\n",
       "      <td>0 days 00:00:160 days 00:00:05</td>\n",
       "      <td>0 days 00:00:00</td>\n",
       "      <td>...</td>\n",
       "      <td>0 days 00:00:03</td>\n",
       "      <td>0 days 00:00:00</td>\n",
       "      <td>0 days 00:00:00</td>\n",
       "      <td>0 days 00:00:00</td>\n",
       "      <td>1</td>\n",
       "      <td>0</td>\n",
       "      <td>0</td>\n",
       "      <td>0</td>\n",
       "      <td>0</td>\n",
       "      <td>0</td>\n",
       "    </tr>\n",
       "    <tr>\n",
       "      <th>1</th>\n",
       "      <td>Juego</td>\n",
       "      <td>2019-05-20</td>\n",
       "      <td>1</td>\n",
       "      <td>Jawie</td>\n",
       "      <td>0 days 00:00:00</td>\n",
       "      <td>0 days 00:00:00</td>\n",
       "      <td>0 days 00:00:00</td>\n",
       "      <td>0 days 00:00:00</td>\n",
       "      <td>0 days 00:00:00</td>\n",
       "      <td>0 days 00:00:00</td>\n",
       "      <td>...</td>\n",
       "      <td>0 days 00:00:00</td>\n",
       "      <td>0 days 00:00:00</td>\n",
       "      <td>0 days 00:00:00</td>\n",
       "      <td>0 days 00:00:00</td>\n",
       "      <td>0</td>\n",
       "      <td>1</td>\n",
       "      <td>0</td>\n",
       "      <td>0</td>\n",
       "      <td>0</td>\n",
       "      <td>0</td>\n",
       "    </tr>\n",
       "    <tr>\n",
       "      <th>2</th>\n",
       "      <td>Juego</td>\n",
       "      <td>2019-05-20</td>\n",
       "      <td>1</td>\n",
       "      <td>Karl</td>\n",
       "      <td>0 days 00:00:27</td>\n",
       "      <td>0 days 00:00:00</td>\n",
       "      <td>0 days 00:00:00</td>\n",
       "      <td>0 days 00:00:00</td>\n",
       "      <td>0 days 00:00:00</td>\n",
       "      <td>0 days 00:00:00</td>\n",
       "      <td>...</td>\n",
       "      <td>0 days 00:00:00</td>\n",
       "      <td>0 days 00:01:150 days 00:01:080 days 00:01:010...</td>\n",
       "      <td>0 days 00:00:00</td>\n",
       "      <td>0 days 00:00:00</td>\n",
       "      <td>0</td>\n",
       "      <td>0</td>\n",
       "      <td>1</td>\n",
       "      <td>0</td>\n",
       "      <td>0</td>\n",
       "      <td>0</td>\n",
       "    </tr>\n",
       "    <tr>\n",
       "      <th>3</th>\n",
       "      <td>Juego</td>\n",
       "      <td>2019-05-20</td>\n",
       "      <td>1</td>\n",
       "      <td>Locky</td>\n",
       "      <td>0 days 00:00:00</td>\n",
       "      <td>0 days 00:00:00</td>\n",
       "      <td>0 days 00:00:00</td>\n",
       "      <td>0 days 00:00:00</td>\n",
       "      <td>0 days 00:00:15</td>\n",
       "      <td>0 days 00:00:00</td>\n",
       "      <td>...</td>\n",
       "      <td>0 days 00:00:50</td>\n",
       "      <td>0 days 00:01:110 days 00:11:25</td>\n",
       "      <td>0 days 00:00:00</td>\n",
       "      <td>0 days 00:00:00</td>\n",
       "      <td>0</td>\n",
       "      <td>0</td>\n",
       "      <td>0</td>\n",
       "      <td>1</td>\n",
       "      <td>0</td>\n",
       "      <td>0</td>\n",
       "    </tr>\n",
       "    <tr>\n",
       "      <th>4</th>\n",
       "      <td>Juego</td>\n",
       "      <td>2019-05-20</td>\n",
       "      <td>1</td>\n",
       "      <td>Popo</td>\n",
       "      <td>0 days 00:00:00</td>\n",
       "      <td>0 days 00:00:00</td>\n",
       "      <td>0 days 00:00:00</td>\n",
       "      <td>0 days 00:00:080 days 00:00:360 days 00:00:470...</td>\n",
       "      <td>0 days 00:00:21</td>\n",
       "      <td>0 days 00:00:00</td>\n",
       "      <td>...</td>\n",
       "      <td>0 days 00:00:230 days 00:00:070 days 00:00:050...</td>\n",
       "      <td>0 days 00:00:00</td>\n",
       "      <td>0 days 00:00:00</td>\n",
       "      <td>0 days 00:00:00</td>\n",
       "      <td>0</td>\n",
       "      <td>0</td>\n",
       "      <td>0</td>\n",
       "      <td>0</td>\n",
       "      <td>1</td>\n",
       "      <td>0</td>\n",
       "    </tr>\n",
       "  </tbody>\n",
       "</table>\n",
       "<p>5 rows × 44 columns</p>\n",
       "</div>"
      ],
      "text/plain": [
       "  period        date  reg subject  \\\n",
       "0  Juego  2019-05-20    1   Hadia   \n",
       "1  Juego  2019-05-20    1   Jawie   \n",
       "2  Juego  2019-05-20    1    Karl   \n",
       "3  Juego  2019-05-20    1   Locky   \n",
       "4  Juego  2019-05-20    1    Popo   \n",
       "\n",
       "                                                Alim          Alogroo  \\\n",
       "0  0 days 00:00:130 days 00:00:390 days 00:03:330...  0 days 00:00:13   \n",
       "1                                    0 days 00:00:00  0 days 00:00:00   \n",
       "2                                    0 days 00:00:27  0 days 00:00:00   \n",
       "3                                    0 days 00:00:00  0 days 00:00:00   \n",
       "4                                    0 days 00:00:00  0 days 00:00:00   \n",
       "\n",
       "                                           Aprox  \\\n",
       "0  0 days 00:00:050 days 00:00:050 days 00:00:05   \n",
       "1                                0 days 00:00:00   \n",
       "2                                0 days 00:00:00   \n",
       "3                                0 days 00:00:00   \n",
       "4                                0 days 00:00:00   \n",
       "\n",
       "                                                 Bra  \\\n",
       "0                                    0 days 00:00:00   \n",
       "1                                    0 days 00:00:00   \n",
       "2                                    0 days 00:00:00   \n",
       "3                                    0 days 00:00:00   \n",
       "4  0 days 00:00:080 days 00:00:360 days 00:00:470...   \n",
       "\n",
       "                              Cam             Chup  ...  \\\n",
       "0  0 days 00:00:160 days 00:00:05  0 days 00:00:00  ...   \n",
       "1                 0 days 00:00:00  0 days 00:00:00  ...   \n",
       "2                 0 days 00:00:00  0 days 00:00:00  ...   \n",
       "3                 0 days 00:00:15  0 days 00:00:00  ...   \n",
       "4                 0 days 00:00:21  0 days 00:00:00  ...   \n",
       "\n",
       "                                                 Tre  \\\n",
       "0                                    0 days 00:00:03   \n",
       "1                                    0 days 00:00:00   \n",
       "2                                    0 days 00:00:00   \n",
       "3                                    0 days 00:00:50   \n",
       "4  0 days 00:00:230 days 00:00:070 days 00:00:050...   \n",
       "\n",
       "                                                 Tum              con  \\\n",
       "0                                    0 days 00:00:00  0 days 00:00:00   \n",
       "1                                    0 days 00:00:00  0 days 00:00:00   \n",
       "2  0 days 00:01:150 days 00:01:080 days 00:01:010...  0 days 00:00:00   \n",
       "3                     0 days 00:01:110 days 00:11:25  0 days 00:00:00   \n",
       "4                                    0 days 00:00:00  0 days 00:00:00   \n",
       "\n",
       "               tre Hadia Jawie Karl Locky Popo Storma  \n",
       "0  0 days 00:00:00     1     0    0     0    0      0  \n",
       "1  0 days 00:00:00     0     1    0     0    0      0  \n",
       "2  0 days 00:00:00     0     0    1     0    0      0  \n",
       "3  0 days 00:00:00     0     0    0     1    0      0  \n",
       "4  0 days 00:00:00     0     0    0     0    1      0  \n",
       "\n",
       "[5 rows x 44 columns]"
      ]
     },
     "execution_count": 115,
     "metadata": {},
     "output_type": "execute_result"
    }
   ],
   "source": [
    "pd.concat([df, pd.get_dummies(df['subject'])], axis=1).head()\n"
   ]
  },
  {
   "cell_type": "code",
   "execution_count": 2,
   "metadata": {},
   "outputs": [],
   "source": [
    "ml = MLDF(cleandf)\n",
    "mldf = ml.process_df()"
   ]
  },
  {
   "cell_type": "code",
   "execution_count": 76,
   "metadata": {},
   "outputs": [
    {
     "ename": "IndexError",
     "evalue": "index 0 is out of bounds for axis 0 with size 0",
     "output_type": "error",
     "traceback": [
      "\u001b[0;31m---------------------------------------------------------------------------\u001b[0m",
      "\u001b[0;31mIndexError\u001b[0m                                Traceback (most recent call last)",
      "\u001b[1;32m/Users/wildbass/Documents/DataScience/Orangutanes/Sebastian/eda-orangutanes.ipynb Celda 11\u001b[0m in \u001b[0;36m<cell line: 58>\u001b[0;34m()\u001b[0m\n\u001b[1;32m     <a href='vscode-notebook-cell:/Users/wildbass/Documents/DataScience/Orangutanes/Sebastian/eda-orangutanes.ipynb#X14sZmlsZQ%3D%3D?line=53'>54</a>\u001b[0m         graph \u001b[39m/\u001b[39m\u001b[39m=\u001b[39m graph\u001b[39m.\u001b[39msum(axis\u001b[39m=\u001b[39m\u001b[39m1\u001b[39m)\n\u001b[1;32m     <a href='vscode-notebook-cell:/Users/wildbass/Documents/DataScience/Orangutanes/Sebastian/eda-orangutanes.ipynb#X14sZmlsZQ%3D%3D?line=56'>57</a>\u001b[0m g \u001b[39m=\u001b[39m GraphDF(cleandf)\n\u001b[0;32m---> <a href='vscode-notebook-cell:/Users/wildbass/Documents/DataScience/Orangutanes/Sebastian/eda-orangutanes.ipynb#X14sZmlsZQ%3D%3D?line=57'>58</a>\u001b[0m d \u001b[39m=\u001b[39m g\u001b[39m.\u001b[39;49mprocess_df()\n\u001b[1;32m     <a href='vscode-notebook-cell:/Users/wildbass/Documents/DataScience/Orangutanes/Sebastian/eda-orangutanes.ipynb#X14sZmlsZQ%3D%3D?line=58'>59</a>\u001b[0m g\u001b[39m.\u001b[39msave_grafs()\n",
      "\u001b[1;32m/Users/wildbass/Documents/DataScience/Orangutanes/Sebastian/eda-orangutanes.ipynb Celda 11\u001b[0m in \u001b[0;36mGraphDF.process_df\u001b[0;34m(self)\u001b[0m\n\u001b[1;32m      <a href='vscode-notebook-cell:/Users/wildbass/Documents/DataScience/Orangutanes/Sebastian/eda-orangutanes.ipynb#X14sZmlsZQ%3D%3D?line=5'>6</a>\u001b[0m \u001b[39mself\u001b[39m\u001b[39m.\u001b[39mkeep_subject_receptor()\n\u001b[1;32m      <a href='vscode-notebook-cell:/Users/wildbass/Documents/DataScience/Orangutanes/Sebastian/eda-orangutanes.ipynb#X14sZmlsZQ%3D%3D?line=6'>7</a>\u001b[0m \u001b[39mself\u001b[39m\u001b[39m.\u001b[39mdrop_empties_receptor()\n\u001b[0;32m----> <a href='vscode-notebook-cell:/Users/wildbass/Documents/DataScience/Orangutanes/Sebastian/eda-orangutanes.ipynb#X14sZmlsZQ%3D%3D?line=7'>8</a>\u001b[0m \u001b[39mself\u001b[39;49m\u001b[39m.\u001b[39;49munpack_todos()\n\u001b[1;32m      <a href='vscode-notebook-cell:/Users/wildbass/Documents/DataScience/Orangutanes/Sebastian/eda-orangutanes.ipynb#X14sZmlsZQ%3D%3D?line=8'>9</a>\u001b[0m \u001b[39mself\u001b[39m\u001b[39m.\u001b[39mprocess_receptor_column()\n\u001b[1;32m     <a href='vscode-notebook-cell:/Users/wildbass/Documents/DataScience/Orangutanes/Sebastian/eda-orangutanes.ipynb#X14sZmlsZQ%3D%3D?line=9'>10</a>\u001b[0m \u001b[39mself\u001b[39m\u001b[39m.\u001b[39mprejuego_g, \u001b[39mself\u001b[39m\u001b[39m.\u001b[39mjuego_g, \u001b[39mself\u001b[39m\u001b[39m.\u001b[39mpostjuego_g \u001b[39m=\u001b[39m \u001b[39mself\u001b[39m\u001b[39m.\u001b[39mcreate_periods_graphs()\n",
      "\u001b[1;32m/Users/wildbass/Documents/DataScience/Orangutanes/Sebastian/eda-orangutanes.ipynb Celda 11\u001b[0m in \u001b[0;36mGraphDF.unpack_todos\u001b[0;34m(self)\u001b[0m\n\u001b[1;32m     <a href='vscode-notebook-cell:/Users/wildbass/Documents/DataScience/Orangutanes/Sebastian/eda-orangutanes.ipynb#X14sZmlsZQ%3D%3D?line=26'>27</a>\u001b[0m subjects \u001b[39m=\u001b[39m \u001b[39mlist\u001b[39m(df\u001b[39m.\u001b[39msubject\u001b[39m.\u001b[39munique())\n\u001b[1;32m     <a href='vscode-notebook-cell:/Users/wildbass/Documents/DataScience/Orangutanes/Sebastian/eda-orangutanes.ipynb#X14sZmlsZQ%3D%3D?line=27'>28</a>\u001b[0m todos_mask \u001b[39m=\u001b[39m df[RECEPTOR]\u001b[39m.\u001b[39mapply(\u001b[39mlambda\u001b[39;00m x : x[\u001b[39m0\u001b[39m] \u001b[39m==\u001b[39m \u001b[39m'\u001b[39m\u001b[39mTodos\u001b[39m\u001b[39m'\u001b[39m)     \n\u001b[0;32m---> <a href='vscode-notebook-cell:/Users/wildbass/Documents/DataScience/Orangutanes/Sebastian/eda-orangutanes.ipynb#X14sZmlsZQ%3D%3D?line=28'>29</a>\u001b[0m todos_index \u001b[39m=\u001b[39m df[todos_mask]\u001b[39m.\u001b[39;49mindex[\u001b[39m0\u001b[39;49m]\n\u001b[1;32m     <a href='vscode-notebook-cell:/Users/wildbass/Documents/DataScience/Orangutanes/Sebastian/eda-orangutanes.ipynb#X14sZmlsZQ%3D%3D?line=29'>30</a>\u001b[0m df\u001b[39m.\u001b[39mat[todos_index, RECEPTOR] \u001b[39m=\u001b[39m subjects\n",
      "File \u001b[0;32m~/anaconda3/envs/ds/lib/python3.10/site-packages/pandas/core/indexes/base.py:5039\u001b[0m, in \u001b[0;36mIndex.__getitem__\u001b[0;34m(self, key)\u001b[0m\n\u001b[1;32m   5036\u001b[0m \u001b[39mif\u001b[39;00m is_integer(key) \u001b[39mor\u001b[39;00m is_float(key):\n\u001b[1;32m   5037\u001b[0m     \u001b[39m# GH#44051 exclude bool, which would return a 2d ndarray\u001b[39;00m\n\u001b[1;32m   5038\u001b[0m     key \u001b[39m=\u001b[39m com\u001b[39m.\u001b[39mcast_scalar_indexer(key, warn_float\u001b[39m=\u001b[39m\u001b[39mTrue\u001b[39;00m)\n\u001b[0;32m-> 5039\u001b[0m     \u001b[39mreturn\u001b[39;00m getitem(key)\n\u001b[1;32m   5041\u001b[0m \u001b[39mif\u001b[39;00m \u001b[39misinstance\u001b[39m(key, \u001b[39mslice\u001b[39m):\n\u001b[1;32m   5042\u001b[0m     \u001b[39m# This case is separated from the conditional above to avoid\u001b[39;00m\n\u001b[1;32m   5043\u001b[0m     \u001b[39m# pessimization com.is_bool_indexer and ndim checks.\u001b[39;00m\n\u001b[1;32m   5044\u001b[0m     result \u001b[39m=\u001b[39m getitem(key)\n",
      "\u001b[0;31mIndexError\u001b[0m: index 0 is out of bounds for axis 0 with size 0"
     ]
    }
   ],
   "source": [
    "class GraphDF(DataManager):\n",
    "    def __init__(self, df):\n",
    "        super().__init__(df)\n",
    "\n",
    "    def process_df(self):\n",
    "        self.keep_subject_receptor()\n",
    "        self.drop_empties_receptor()\n",
    "        self.unpack_todos()\n",
    "        self.process_receptor_column()\n",
    "        self.prejuego_g, self.juego_g, self.postjuego_g = self.create_periods_graphs()\n",
    "        return super().process_df()\n",
    "    \n",
    "    def save_grafs(self):\n",
    "        self.prejuego_g.to_csv('prejuego_graph.csv')\n",
    "        self.juego_g.to_csv('juego_graph.csv')\n",
    "        self.postjuego_g.to_csv('postjuego_graph.csv')\n",
    "    \n",
    "    def keep_subject_receptor(self):\n",
    "        self.df = self.df.loc[:,[PERIOD, SUBJECT,RECEPTOR]]\n",
    "\n",
    "    def drop_empties_receptor(self):\n",
    "        empties = self.df[RECEPTOR].apply(lambda x : len(x)==0)\n",
    "        index_to_drop = self.df[list(empties)].index\n",
    "        self.df.drop(index_to_drop, inplace=True)\n",
    "\n",
    "    def unpack_todos(self):\n",
    "        subjects = list(df.subject.unique())\n",
    "        todos_mask = df[RECEPTOR].apply(lambda x : x[0] == 'Todos')     \n",
    "        todos_index = df[todos_mask].index[0]\n",
    "        df.at[todos_index, RECEPTOR] = subjects\n",
    "    \n",
    "    def process_receptor_column(self):\n",
    "        self.df = self.df.explode(RECEPTOR)\n",
    "        self.df.loc[self.df[RECEPTOR] == 'Hadia*', RECEPTOR] = 'Hadia'\n",
    "        self.df.loc[self.df[RECEPTOR] == 'Jawie*', RECEPTOR] = 'Jawie'\n",
    "        self.df.loc[self.df[RECEPTOR] == 'locky', RECEPTOR] = 'Locky'\n",
    "    \n",
    "    def create_periods_graphs(self):\n",
    "        self.df[PERIOD] = self.df[PERIOD].str.lower()\n",
    "        a = self.create_graph('prejuego')\n",
    "        b = self.create_graph('juego')\n",
    "        c = self.create_graph('postjuego')\n",
    "        return a, b, c\n",
    "    \n",
    "    def create_graph(self, period):\n",
    "        df[PERIOD] = df[PERIOD].str.lower()\n",
    "        df = df[df[PERIOD] == period]\n",
    "        graph = df.groupby(SUBJECT)[RECEPTOR] \\\n",
    "                    .value_counts() \\\n",
    "                    .unstack(RECEPTOR) \\\n",
    "                    .fillna(0) \\\n",
    "                    .astype(int)\n",
    "        graph.drop(labels='Gibon', inplace=True, axis=1)\n",
    "        graph /= graph.sum(axis=1)\n",
    "\n",
    "\n",
    "g = GraphDF(cleandf)\n",
    "d = g.process_df()\n",
    "g.save_grafs()\n"
   ]
  },
  {
   "cell_type": "code",
   "execution_count": 2,
   "metadata": {},
   "outputs": [
    {
     "data": {
      "text/html": [
       "<div>\n",
       "<style scoped>\n",
       "    .dataframe tbody tr th:only-of-type {\n",
       "        vertical-align: middle;\n",
       "    }\n",
       "\n",
       "    .dataframe tbody tr th {\n",
       "        vertical-align: top;\n",
       "    }\n",
       "\n",
       "    .dataframe thead th {\n",
       "        text-align: right;\n",
       "    }\n",
       "</style>\n",
       "<table border=\"1\" class=\"dataframe\">\n",
       "  <thead>\n",
       "    <tr style=\"text-align: right;\">\n",
       "      <th></th>\n",
       "      <th>date</th>\n",
       "      <th>subject</th>\n",
       "      <th>period</th>\n",
       "      <th>reg</th>\n",
       "      <th>behavior</th>\n",
       "      <th>receptor</th>\n",
       "      <th>duration</th>\n",
       "    </tr>\n",
       "  </thead>\n",
       "  <tbody>\n",
       "    <tr>\n",
       "      <th>0</th>\n",
       "      <td>2019-04-15</td>\n",
       "      <td>Karl</td>\n",
       "      <td>Prejuego</td>\n",
       "      <td>1</td>\n",
       "      <td>cam</td>\n",
       "      <td>[]</td>\n",
       "      <td>15.0</td>\n",
       "    </tr>\n",
       "    <tr>\n",
       "      <th>1</th>\n",
       "      <td>2019-04-15</td>\n",
       "      <td>Karl</td>\n",
       "      <td>Prejuego</td>\n",
       "      <td>1</td>\n",
       "      <td>forr</td>\n",
       "      <td>[]</td>\n",
       "      <td>34.0</td>\n",
       "    </tr>\n",
       "    <tr>\n",
       "      <th>2</th>\n",
       "      <td>2019-04-15</td>\n",
       "      <td>Karl</td>\n",
       "      <td>Prejuego</td>\n",
       "      <td>1</td>\n",
       "      <td>sen</td>\n",
       "      <td>[]</td>\n",
       "      <td>52.0</td>\n",
       "    </tr>\n",
       "    <tr>\n",
       "      <th>3</th>\n",
       "      <td>2019-04-15</td>\n",
       "      <td>Karl</td>\n",
       "      <td>Prejuego</td>\n",
       "      <td>1</td>\n",
       "      <td>cam</td>\n",
       "      <td>[]</td>\n",
       "      <td>5.0</td>\n",
       "    </tr>\n",
       "    <tr>\n",
       "      <th>4</th>\n",
       "      <td>2019-04-15</td>\n",
       "      <td>Karl</td>\n",
       "      <td>Prejuego</td>\n",
       "      <td>1</td>\n",
       "      <td>sen</td>\n",
       "      <td>[]</td>\n",
       "      <td>34.0</td>\n",
       "    </tr>\n",
       "  </tbody>\n",
       "</table>\n",
       "</div>"
      ],
      "text/plain": [
       "        date subject    period  reg behavior receptor  duration\n",
       "0 2019-04-15    Karl  Prejuego    1      cam       []      15.0\n",
       "1 2019-04-15    Karl  Prejuego    1     forr       []      34.0\n",
       "2 2019-04-15    Karl  Prejuego    1      sen       []      52.0\n",
       "3 2019-04-15    Karl  Prejuego    1      cam       []       5.0\n",
       "4 2019-04-15    Karl  Prejuego    1      sen       []      34.0"
      ]
     },
     "execution_count": 2,
     "metadata": {},
     "output_type": "execute_result"
    }
   ],
   "source": [
    "cleandf.head()"
   ]
  },
  {
   "cell_type": "code",
   "execution_count": 3,
   "metadata": {},
   "outputs": [
    {
     "data": {
      "text/plain": [
       "Storma    1829\n",
       "Hadia     1633\n",
       "Popo      1577\n",
       "Jawie     1226\n",
       "Locky     1211\n",
       "Karl       637\n",
       "Name: subject, dtype: int64"
      ]
     },
     "execution_count": 3,
     "metadata": {},
     "output_type": "execute_result"
    }
   ],
   "source": [
    "cleandf.subject.value_counts()"
   ]
  },
  {
   "cell_type": "code",
   "execution_count": 72,
   "metadata": {},
   "outputs": [],
   "source": [
    "subjects = list(cleandf.subject.unique())"
   ]
  },
  {
   "cell_type": "code",
   "execution_count": 15,
   "metadata": {},
   "outputs": [
    {
     "data": {
      "text/html": [
       "<div>\n",
       "<style scoped>\n",
       "    .dataframe tbody tr th:only-of-type {\n",
       "        vertical-align: middle;\n",
       "    }\n",
       "\n",
       "    .dataframe tbody tr th {\n",
       "        vertical-align: top;\n",
       "    }\n",
       "\n",
       "    .dataframe thead th {\n",
       "        text-align: right;\n",
       "    }\n",
       "</style>\n",
       "<table border=\"1\" class=\"dataframe\">\n",
       "  <thead>\n",
       "    <tr style=\"text-align: right;\">\n",
       "      <th></th>\n",
       "      <th>period</th>\n",
       "      <th>subject</th>\n",
       "      <th>receptor</th>\n",
       "    </tr>\n",
       "  </thead>\n",
       "  <tbody>\n",
       "    <tr>\n",
       "      <th>61</th>\n",
       "      <td>Prejuego</td>\n",
       "      <td>Karl</td>\n",
       "      <td>[Hadia]</td>\n",
       "    </tr>\n",
       "    <tr>\n",
       "      <th>62</th>\n",
       "      <td>Prejuego</td>\n",
       "      <td>Karl</td>\n",
       "      <td>[Hadia]</td>\n",
       "    </tr>\n",
       "    <tr>\n",
       "      <th>63</th>\n",
       "      <td>Prejuego</td>\n",
       "      <td>Karl</td>\n",
       "      <td>[Hadia]</td>\n",
       "    </tr>\n",
       "    <tr>\n",
       "      <th>64</th>\n",
       "      <td>Prejuego</td>\n",
       "      <td>Karl</td>\n",
       "      <td>[Hadia]</td>\n",
       "    </tr>\n",
       "    <tr>\n",
       "      <th>77</th>\n",
       "      <td>Prejuego</td>\n",
       "      <td>Karl</td>\n",
       "      <td>[Hadia]</td>\n",
       "    </tr>\n",
       "    <tr>\n",
       "      <th>...</th>\n",
       "      <td>...</td>\n",
       "      <td>...</td>\n",
       "      <td>...</td>\n",
       "    </tr>\n",
       "    <tr>\n",
       "      <th>8046</th>\n",
       "      <td>Postjuego</td>\n",
       "      <td>Hadia</td>\n",
       "      <td>[Popo]</td>\n",
       "    </tr>\n",
       "    <tr>\n",
       "      <th>8047</th>\n",
       "      <td>Postjuego</td>\n",
       "      <td>Hadia</td>\n",
       "      <td>[Popo]</td>\n",
       "    </tr>\n",
       "    <tr>\n",
       "      <th>8051</th>\n",
       "      <td>Postjuego</td>\n",
       "      <td>Hadia</td>\n",
       "      <td>[Popo]</td>\n",
       "    </tr>\n",
       "    <tr>\n",
       "      <th>8100</th>\n",
       "      <td>Postjuego</td>\n",
       "      <td>Hadia</td>\n",
       "      <td>[Karl]</td>\n",
       "    </tr>\n",
       "    <tr>\n",
       "      <th>8103</th>\n",
       "      <td>Postjuego</td>\n",
       "      <td>Hadia</td>\n",
       "      <td>[Karl]</td>\n",
       "    </tr>\n",
       "  </tbody>\n",
       "</table>\n",
       "<p>2660 rows × 3 columns</p>\n",
       "</div>"
      ],
      "text/plain": [
       "         period subject receptor\n",
       "61     Prejuego    Karl  [Hadia]\n",
       "62     Prejuego    Karl  [Hadia]\n",
       "63     Prejuego    Karl  [Hadia]\n",
       "64     Prejuego    Karl  [Hadia]\n",
       "77     Prejuego    Karl  [Hadia]\n",
       "...         ...     ...      ...\n",
       "8046  Postjuego   Hadia   [Popo]\n",
       "8047  Postjuego   Hadia   [Popo]\n",
       "8051  Postjuego   Hadia   [Popo]\n",
       "8100  Postjuego   Hadia   [Karl]\n",
       "8103  Postjuego   Hadia   [Karl]\n",
       "\n",
       "[2660 rows x 3 columns]"
      ]
     },
     "execution_count": 15,
     "metadata": {},
     "output_type": "execute_result"
    }
   ],
   "source": [
    "subjects = cleandf.subject.unique()\n",
    "interactions = cleandf.loc[:,[PERIOD,'subject','receptor']]\n",
    "empties = cleandf['receptor'].apply(lambda x : len(x)==0)\n",
    "interactions.drop(interactions[list(empties)].index, inplace=True)\n",
    "interactions"
   ]
  },
  {
   "cell_type": "code",
   "execution_count": 25,
   "metadata": {},
   "outputs": [
    {
     "name": "stdout",
     "output_type": "stream",
     "text": [
      "Int64Index([], dtype='int64')\n"
     ]
    }
   ],
   "source": [
    "todos_mask = interactions[RECEPTOR].apply(lambda x : x[0] == 'Todos')\n",
    "todos_index = interactions[todos_mask].index\n",
    "print(todos_index)\n",
    "\n"
   ]
  },
  {
   "cell_type": "code",
   "execution_count": null,
   "metadata": {},
   "outputs": [],
   "source": [
    "subjects = list(cleandf.subject.unique())\n",
    "interactions.at[todos_index, RECEPTOR] = subjects"
   ]
  },
  {
   "cell_type": "code",
   "execution_count": 20,
   "metadata": {},
   "outputs": [
    {
     "data": {
      "text/html": [
       "<div>\n",
       "<style scoped>\n",
       "    .dataframe tbody tr th:only-of-type {\n",
       "        vertical-align: middle;\n",
       "    }\n",
       "\n",
       "    .dataframe tbody tr th {\n",
       "        vertical-align: top;\n",
       "    }\n",
       "\n",
       "    .dataframe thead th {\n",
       "        text-align: right;\n",
       "    }\n",
       "</style>\n",
       "<table border=\"1\" class=\"dataframe\">\n",
       "  <thead>\n",
       "    <tr style=\"text-align: right;\">\n",
       "      <th></th>\n",
       "      <th>period</th>\n",
       "      <th>subject</th>\n",
       "      <th>receptor</th>\n",
       "    </tr>\n",
       "  </thead>\n",
       "  <tbody>\n",
       "    <tr>\n",
       "      <th>61</th>\n",
       "      <td>Prejuego</td>\n",
       "      <td>Karl</td>\n",
       "      <td>Hadia</td>\n",
       "    </tr>\n",
       "    <tr>\n",
       "      <th>62</th>\n",
       "      <td>Prejuego</td>\n",
       "      <td>Karl</td>\n",
       "      <td>Hadia</td>\n",
       "    </tr>\n",
       "    <tr>\n",
       "      <th>63</th>\n",
       "      <td>Prejuego</td>\n",
       "      <td>Karl</td>\n",
       "      <td>Hadia</td>\n",
       "    </tr>\n",
       "    <tr>\n",
       "      <th>64</th>\n",
       "      <td>Prejuego</td>\n",
       "      <td>Karl</td>\n",
       "      <td>Hadia</td>\n",
       "    </tr>\n",
       "    <tr>\n",
       "      <th>77</th>\n",
       "      <td>Prejuego</td>\n",
       "      <td>Karl</td>\n",
       "      <td>Hadia</td>\n",
       "    </tr>\n",
       "    <tr>\n",
       "      <th>...</th>\n",
       "      <td>...</td>\n",
       "      <td>...</td>\n",
       "      <td>...</td>\n",
       "    </tr>\n",
       "    <tr>\n",
       "      <th>8046</th>\n",
       "      <td>Postjuego</td>\n",
       "      <td>Hadia</td>\n",
       "      <td>Popo</td>\n",
       "    </tr>\n",
       "    <tr>\n",
       "      <th>8047</th>\n",
       "      <td>Postjuego</td>\n",
       "      <td>Hadia</td>\n",
       "      <td>Popo</td>\n",
       "    </tr>\n",
       "    <tr>\n",
       "      <th>8051</th>\n",
       "      <td>Postjuego</td>\n",
       "      <td>Hadia</td>\n",
       "      <td>Popo</td>\n",
       "    </tr>\n",
       "    <tr>\n",
       "      <th>8100</th>\n",
       "      <td>Postjuego</td>\n",
       "      <td>Hadia</td>\n",
       "      <td>Karl</td>\n",
       "    </tr>\n",
       "    <tr>\n",
       "      <th>8103</th>\n",
       "      <td>Postjuego</td>\n",
       "      <td>Hadia</td>\n",
       "      <td>Karl</td>\n",
       "    </tr>\n",
       "  </tbody>\n",
       "</table>\n",
       "<p>2839 rows × 3 columns</p>\n",
       "</div>"
      ],
      "text/plain": [
       "         period subject receptor\n",
       "61     Prejuego    Karl    Hadia\n",
       "62     Prejuego    Karl    Hadia\n",
       "63     Prejuego    Karl    Hadia\n",
       "64     Prejuego    Karl    Hadia\n",
       "77     Prejuego    Karl    Hadia\n",
       "...         ...     ...      ...\n",
       "8046  Postjuego   Hadia     Popo\n",
       "8047  Postjuego   Hadia     Popo\n",
       "8051  Postjuego   Hadia     Popo\n",
       "8100  Postjuego   Hadia     Karl\n",
       "8103  Postjuego   Hadia     Karl\n",
       "\n",
       "[2839 rows x 3 columns]"
      ]
     },
     "execution_count": 20,
     "metadata": {},
     "output_type": "execute_result"
    }
   ],
   "source": [
    "interactions = interactions.explode(RECEPTOR)\n",
    "interactions.loc[interactions[RECEPTOR] == 'Hadia*', RECEPTOR] = 'Hadia'\n",
    "interactions.loc[interactions[RECEPTOR] == 'Jawie*', RECEPTOR] = 'Jawie'\n",
    "interactions.loc[interactions[RECEPTOR] == 'locky', RECEPTOR] = 'Locky'\n",
    "interactions"
   ]
  },
  {
   "cell_type": "code",
   "execution_count": 21,
   "metadata": {},
   "outputs": [
    {
     "name": "stdout",
     "output_type": "stream",
     "text": [
      "2839\n"
     ]
    }
   ],
   "source": [
    "interactions[PERIOD] = interactions.period.str.lower()\n",
    "\n",
    "prejuego = interactions[interactions[PERIOD] == 'prejuego']\n",
    "juego = interactions[interactions[PERIOD] == 'juego']\n",
    "postjuego = interactions[interactions[PERIOD] == 'postjuego']\n",
    "\n",
    "print(len(juego.index) + len(prejuego.index) + len(postjuego.index))"
   ]
  },
  {
   "cell_type": "code",
   "execution_count": 22,
   "metadata": {},
   "outputs": [
    {
     "data": {
      "text/html": [
       "<div>\n",
       "<style scoped>\n",
       "    .dataframe tbody tr th:only-of-type {\n",
       "        vertical-align: middle;\n",
       "    }\n",
       "\n",
       "    .dataframe tbody tr th {\n",
       "        vertical-align: top;\n",
       "    }\n",
       "\n",
       "    .dataframe thead th {\n",
       "        text-align: right;\n",
       "    }\n",
       "</style>\n",
       "<table border=\"1\" class=\"dataframe\">\n",
       "  <thead>\n",
       "    <tr style=\"text-align: right;\">\n",
       "      <th>receptor</th>\n",
       "      <th>Gibon</th>\n",
       "      <th>Hadia</th>\n",
       "      <th>Jawie</th>\n",
       "      <th>Karl</th>\n",
       "      <th>Locky</th>\n",
       "      <th>Popo</th>\n",
       "      <th>Storma</th>\n",
       "    </tr>\n",
       "    <tr>\n",
       "      <th>subject</th>\n",
       "      <th></th>\n",
       "      <th></th>\n",
       "      <th></th>\n",
       "      <th></th>\n",
       "      <th></th>\n",
       "      <th></th>\n",
       "      <th></th>\n",
       "    </tr>\n",
       "  </thead>\n",
       "  <tbody>\n",
       "    <tr>\n",
       "      <th>Hadia</th>\n",
       "      <td>1</td>\n",
       "      <td>0</td>\n",
       "      <td>114</td>\n",
       "      <td>10</td>\n",
       "      <td>11</td>\n",
       "      <td>44</td>\n",
       "      <td>21</td>\n",
       "    </tr>\n",
       "    <tr>\n",
       "      <th>Jawie</th>\n",
       "      <td>10</td>\n",
       "      <td>85</td>\n",
       "      <td>1</td>\n",
       "      <td>3</td>\n",
       "      <td>7</td>\n",
       "      <td>13</td>\n",
       "      <td>79</td>\n",
       "    </tr>\n",
       "    <tr>\n",
       "      <th>Karl</th>\n",
       "      <td>5</td>\n",
       "      <td>1</td>\n",
       "      <td>1</td>\n",
       "      <td>0</td>\n",
       "      <td>0</td>\n",
       "      <td>0</td>\n",
       "      <td>0</td>\n",
       "    </tr>\n",
       "    <tr>\n",
       "      <th>Locky</th>\n",
       "      <td>1</td>\n",
       "      <td>20</td>\n",
       "      <td>2</td>\n",
       "      <td>0</td>\n",
       "      <td>0</td>\n",
       "      <td>53</td>\n",
       "      <td>85</td>\n",
       "    </tr>\n",
       "    <tr>\n",
       "      <th>Popo</th>\n",
       "      <td>0</td>\n",
       "      <td>46</td>\n",
       "      <td>11</td>\n",
       "      <td>0</td>\n",
       "      <td>87</td>\n",
       "      <td>0</td>\n",
       "      <td>38</td>\n",
       "    </tr>\n",
       "    <tr>\n",
       "      <th>Storma</th>\n",
       "      <td>1</td>\n",
       "      <td>65</td>\n",
       "      <td>53</td>\n",
       "      <td>0</td>\n",
       "      <td>63</td>\n",
       "      <td>61</td>\n",
       "      <td>0</td>\n",
       "    </tr>\n",
       "  </tbody>\n",
       "</table>\n",
       "</div>"
      ],
      "text/plain": [
       "receptor  Gibon  Hadia  Jawie  Karl  Locky  Popo  Storma\n",
       "subject                                                 \n",
       "Hadia         1      0    114    10     11    44      21\n",
       "Jawie        10     85      1     3      7    13      79\n",
       "Karl          5      1      1     0      0     0       0\n",
       "Locky         1     20      2     0      0    53      85\n",
       "Popo          0     46     11     0     87     0      38\n",
       "Storma        1     65     53     0     63    61       0"
      ]
     },
     "execution_count": 22,
     "metadata": {},
     "output_type": "execute_result"
    }
   ],
   "source": [
    "pre = postjuego.groupby('subject')['receptor'].value_counts().unstack('receptor').fillna(0).astype(int)\n",
    "pre\n",
    "# Hacer porcentajes"
   ]
  },
  {
   "cell_type": "code",
   "execution_count": 23,
   "metadata": {},
   "outputs": [
    {
     "name": "stdout",
     "output_type": "stream",
     "text": [
      "Graph named 'Graph from pandas adjacency matrix' with 6 nodes and 13 edges\n"
     ]
    }
   ],
   "source": [
    "import networkx as nx \n",
    "import plotly.graph_objects as go\n",
    "G = nx.from_pandas_adjacency(pre)\n",
    "G.name = \"Graph from pandas adjacency matrix\"\n",
    "print(G)"
   ]
  },
  {
   "cell_type": "code",
   "execution_count": 24,
   "metadata": {},
   "outputs": [
    {
     "name": "stdout",
     "output_type": "stream",
     "text": [
      "Local cdn resources have problems on chrome/safari when used in jupyter-notebook. \n"
     ]
    },
    {
     "data": {
      "text/html": [
       "\n",
       "        <iframe\n",
       "            width=\"100%\"\n",
       "            height=\"600px\"\n",
       "            src=\"prejuego.html\"\n",
       "            frameborder=\"0\"\n",
       "            allowfullscreen\n",
       "            \n",
       "        ></iframe>\n",
       "        "
      ],
      "text/plain": [
       "<IPython.lib.display.IFrame at 0x7fa9b0bfd030>"
      ]
     },
     "execution_count": 24,
     "metadata": {},
     "output_type": "execute_result"
    }
   ],
   "source": [
    "from pyvis.network import Network\n",
    "net = Network(notebook=True)\n",
    "net.from_nx(G)\n",
    "net.show_buttons()\n",
    "net.show('prejuego.html')"
   ]
  },
  {
   "cell_type": "code",
   "execution_count": 94,
   "metadata": {},
   "outputs": [
    {
     "data": {
      "text/html": [
       "<div>\n",
       "<style scoped>\n",
       "    .dataframe tbody tr th:only-of-type {\n",
       "        vertical-align: middle;\n",
       "    }\n",
       "\n",
       "    .dataframe tbody tr th {\n",
       "        vertical-align: top;\n",
       "    }\n",
       "\n",
       "    .dataframe thead th {\n",
       "        text-align: right;\n",
       "    }\n",
       "</style>\n",
       "<table border=\"1\" class=\"dataframe\">\n",
       "  <thead>\n",
       "    <tr style=\"text-align: right;\">\n",
       "      <th></th>\n",
       "      <th>date</th>\n",
       "      <th>subject</th>\n",
       "      <th>period</th>\n",
       "      <th>reg</th>\n",
       "      <th>behavior</th>\n",
       "      <th>receptor</th>\n",
       "      <th>duration</th>\n",
       "    </tr>\n",
       "  </thead>\n",
       "  <tbody>\n",
       "    <tr>\n",
       "      <th>0</th>\n",
       "      <td>2019-04-15</td>\n",
       "      <td>Karl</td>\n",
       "      <td>Prejuego</td>\n",
       "      <td>1</td>\n",
       "      <td>cam</td>\n",
       "      <td>[]</td>\n",
       "      <td>15.0</td>\n",
       "    </tr>\n",
       "    <tr>\n",
       "      <th>1</th>\n",
       "      <td>2019-04-15</td>\n",
       "      <td>Karl</td>\n",
       "      <td>Prejuego</td>\n",
       "      <td>1</td>\n",
       "      <td>forr</td>\n",
       "      <td>[]</td>\n",
       "      <td>34.0</td>\n",
       "    </tr>\n",
       "    <tr>\n",
       "      <th>2</th>\n",
       "      <td>2019-04-15</td>\n",
       "      <td>Karl</td>\n",
       "      <td>Prejuego</td>\n",
       "      <td>1</td>\n",
       "      <td>sen</td>\n",
       "      <td>[]</td>\n",
       "      <td>52.0</td>\n",
       "    </tr>\n",
       "    <tr>\n",
       "      <th>3</th>\n",
       "      <td>2019-04-15</td>\n",
       "      <td>Karl</td>\n",
       "      <td>Prejuego</td>\n",
       "      <td>1</td>\n",
       "      <td>cam</td>\n",
       "      <td>[]</td>\n",
       "      <td>5.0</td>\n",
       "    </tr>\n",
       "    <tr>\n",
       "      <th>4</th>\n",
       "      <td>2019-04-15</td>\n",
       "      <td>Karl</td>\n",
       "      <td>Prejuego</td>\n",
       "      <td>1</td>\n",
       "      <td>sen</td>\n",
       "      <td>[]</td>\n",
       "      <td>34.0</td>\n",
       "    </tr>\n",
       "  </tbody>\n",
       "</table>\n",
       "</div>"
      ],
      "text/plain": [
       "        date subject    period  reg behavior receptor  duration\n",
       "0 2019-04-15    Karl  Prejuego    1      cam       []      15.0\n",
       "1 2019-04-15    Karl  Prejuego    1     forr       []      34.0\n",
       "2 2019-04-15    Karl  Prejuego    1      sen       []      52.0\n",
       "3 2019-04-15    Karl  Prejuego    1      cam       []       5.0\n",
       "4 2019-04-15    Karl  Prejuego    1      sen       []      34.0"
      ]
     },
     "execution_count": 94,
     "metadata": {},
     "output_type": "execute_result"
    }
   ],
   "source": [
    "cleandf.head()"
   ]
  },
  {
   "cell_type": "code",
   "execution_count": 95,
   "metadata": {},
   "outputs": [
    {
     "data": {
      "text/html": [
       "<div>\n",
       "<style scoped>\n",
       "    .dataframe tbody tr th:only-of-type {\n",
       "        vertical-align: middle;\n",
       "    }\n",
       "\n",
       "    .dataframe tbody tr th {\n",
       "        vertical-align: top;\n",
       "    }\n",
       "\n",
       "    .dataframe thead th {\n",
       "        text-align: right;\n",
       "    }\n",
       "</style>\n",
       "<table border=\"1\" class=\"dataframe\">\n",
       "  <thead>\n",
       "    <tr style=\"text-align: right;\">\n",
       "      <th></th>\n",
       "      <th>period</th>\n",
       "      <th>subject</th>\n",
       "      <th>receptor</th>\n",
       "    </tr>\n",
       "  </thead>\n",
       "  <tbody>\n",
       "    <tr>\n",
       "      <th>0</th>\n",
       "      <td>Prejuego</td>\n",
       "      <td>Karl</td>\n",
       "      <td>[]</td>\n",
       "    </tr>\n",
       "    <tr>\n",
       "      <th>1</th>\n",
       "      <td>Prejuego</td>\n",
       "      <td>Karl</td>\n",
       "      <td>[]</td>\n",
       "    </tr>\n",
       "    <tr>\n",
       "      <th>2</th>\n",
       "      <td>Prejuego</td>\n",
       "      <td>Karl</td>\n",
       "      <td>[]</td>\n",
       "    </tr>\n",
       "    <tr>\n",
       "      <th>3</th>\n",
       "      <td>Prejuego</td>\n",
       "      <td>Karl</td>\n",
       "      <td>[]</td>\n",
       "    </tr>\n",
       "    <tr>\n",
       "      <th>4</th>\n",
       "      <td>Prejuego</td>\n",
       "      <td>Karl</td>\n",
       "      <td>[]</td>\n",
       "    </tr>\n",
       "  </tbody>\n",
       "</table>\n",
       "</div>"
      ],
      "text/plain": [
       "     period subject receptor\n",
       "0  Prejuego    Karl       []\n",
       "1  Prejuego    Karl       []\n",
       "2  Prejuego    Karl       []\n",
       "3  Prejuego    Karl       []\n",
       "4  Prejuego    Karl       []"
      ]
     },
     "execution_count": 95,
     "metadata": {},
     "output_type": "execute_result"
    }
   ],
   "source": [
    "df = cleandf.loc[:,[PERIOD, SUBJECT,RECEPTOR]]\n",
    "df.head()"
   ]
  },
  {
   "cell_type": "code",
   "execution_count": 96,
   "metadata": {},
   "outputs": [
    {
     "data": {
      "text/plain": [
       "0       True\n",
       "1       True\n",
       "2       True\n",
       "3       True\n",
       "4       True\n",
       "        ... \n",
       "8109    True\n",
       "8110    True\n",
       "8111    True\n",
       "8112    True\n",
       "8113    True\n",
       "Name: receptor, Length: 8113, dtype: bool"
      ]
     },
     "execution_count": 96,
     "metadata": {},
     "output_type": "execute_result"
    }
   ],
   "source": [
    "lista = []\n",
    "len(lista) == 0\n",
    "empties = df[RECEPTOR].apply(lambda x : len(x) == 0)\n",
    "empties"
   ]
  },
  {
   "cell_type": "code",
   "execution_count": 97,
   "metadata": {},
   "outputs": [
    {
     "data": {
      "text/html": [
       "<div>\n",
       "<style scoped>\n",
       "    .dataframe tbody tr th:only-of-type {\n",
       "        vertical-align: middle;\n",
       "    }\n",
       "\n",
       "    .dataframe tbody tr th {\n",
       "        vertical-align: top;\n",
       "    }\n",
       "\n",
       "    .dataframe thead th {\n",
       "        text-align: right;\n",
       "    }\n",
       "</style>\n",
       "<table border=\"1\" class=\"dataframe\">\n",
       "  <thead>\n",
       "    <tr style=\"text-align: right;\">\n",
       "      <th></th>\n",
       "      <th>period</th>\n",
       "      <th>subject</th>\n",
       "      <th>receptor</th>\n",
       "    </tr>\n",
       "  </thead>\n",
       "  <tbody>\n",
       "    <tr>\n",
       "      <th>61</th>\n",
       "      <td>Prejuego</td>\n",
       "      <td>Karl</td>\n",
       "      <td>[Hadia]</td>\n",
       "    </tr>\n",
       "    <tr>\n",
       "      <th>62</th>\n",
       "      <td>Prejuego</td>\n",
       "      <td>Karl</td>\n",
       "      <td>[Hadia]</td>\n",
       "    </tr>\n",
       "    <tr>\n",
       "      <th>63</th>\n",
       "      <td>Prejuego</td>\n",
       "      <td>Karl</td>\n",
       "      <td>[Hadia]</td>\n",
       "    </tr>\n",
       "    <tr>\n",
       "      <th>64</th>\n",
       "      <td>Prejuego</td>\n",
       "      <td>Karl</td>\n",
       "      <td>[Hadia]</td>\n",
       "    </tr>\n",
       "    <tr>\n",
       "      <th>77</th>\n",
       "      <td>Prejuego</td>\n",
       "      <td>Karl</td>\n",
       "      <td>[Hadia]</td>\n",
       "    </tr>\n",
       "  </tbody>\n",
       "</table>\n",
       "</div>"
      ],
      "text/plain": [
       "      period subject receptor\n",
       "61  Prejuego    Karl  [Hadia]\n",
       "62  Prejuego    Karl  [Hadia]\n",
       "63  Prejuego    Karl  [Hadia]\n",
       "64  Prejuego    Karl  [Hadia]\n",
       "77  Prejuego    Karl  [Hadia]"
      ]
     },
     "execution_count": 97,
     "metadata": {},
     "output_type": "execute_result"
    }
   ],
   "source": [
    "# clean empties\n",
    "empties = df[RECEPTOR].apply(lambda x : len(x) == 0)\n",
    "index_to_drop = df[list(empties)].index\n",
    "df.drop(index_to_drop, inplace=True)\n",
    "df.head()"
   ]
  },
  {
   "cell_type": "code",
   "execution_count": 98,
   "metadata": {},
   "outputs": [
    {
     "name": "stdout",
     "output_type": "stream",
     "text": [
      "1\n"
     ]
    }
   ],
   "source": [
    "# unpack todos\n",
    "todos_mask = df[RECEPTOR].apply(lambda x : x[0] == 'Todos')\n",
    "print(todos_mask.sum())"
   ]
  },
  {
   "cell_type": "code",
   "execution_count": 99,
   "metadata": {},
   "outputs": [
    {
     "data": {
      "text/plain": [
       "['Karl', 'Locky', 'Jawie', 'Storma', 'Popo', 'Hadia']"
      ]
     },
     "execution_count": 99,
     "metadata": {},
     "output_type": "execute_result"
    }
   ],
   "source": [
    "subjects = list(df.subject.unique())\n",
    "subjects"
   ]
  },
  {
   "cell_type": "code",
   "execution_count": 100,
   "metadata": {},
   "outputs": [],
   "source": [
    "subjects = list(df.subject.unique())\n",
    "todos_index = df[todos_mask].index\n",
    "ind = todos_index[0]\n",
    "df.at[ind, RECEPTOR] = subjects\n"
   ]
  },
  {
   "cell_type": "code",
   "execution_count": 101,
   "metadata": {},
   "outputs": [
    {
     "data": {
      "text/html": [
       "<div>\n",
       "<style scoped>\n",
       "    .dataframe tbody tr th:only-of-type {\n",
       "        vertical-align: middle;\n",
       "    }\n",
       "\n",
       "    .dataframe tbody tr th {\n",
       "        vertical-align: top;\n",
       "    }\n",
       "\n",
       "    .dataframe thead th {\n",
       "        text-align: right;\n",
       "    }\n",
       "</style>\n",
       "<table border=\"1\" class=\"dataframe\">\n",
       "  <thead>\n",
       "    <tr style=\"text-align: right;\">\n",
       "      <th></th>\n",
       "      <th>period</th>\n",
       "      <th>subject</th>\n",
       "      <th>receptor</th>\n",
       "    </tr>\n",
       "  </thead>\n",
       "  <tbody>\n",
       "    <tr>\n",
       "      <th>61</th>\n",
       "      <td>Prejuego</td>\n",
       "      <td>Karl</td>\n",
       "      <td>Hadia</td>\n",
       "    </tr>\n",
       "    <tr>\n",
       "      <th>62</th>\n",
       "      <td>Prejuego</td>\n",
       "      <td>Karl</td>\n",
       "      <td>Hadia</td>\n",
       "    </tr>\n",
       "    <tr>\n",
       "      <th>63</th>\n",
       "      <td>Prejuego</td>\n",
       "      <td>Karl</td>\n",
       "      <td>Hadia</td>\n",
       "    </tr>\n",
       "    <tr>\n",
       "      <th>64</th>\n",
       "      <td>Prejuego</td>\n",
       "      <td>Karl</td>\n",
       "      <td>Hadia</td>\n",
       "    </tr>\n",
       "    <tr>\n",
       "      <th>77</th>\n",
       "      <td>Prejuego</td>\n",
       "      <td>Karl</td>\n",
       "      <td>Hadia</td>\n",
       "    </tr>\n",
       "    <tr>\n",
       "      <th>...</th>\n",
       "      <td>...</td>\n",
       "      <td>...</td>\n",
       "      <td>...</td>\n",
       "    </tr>\n",
       "    <tr>\n",
       "      <th>8046</th>\n",
       "      <td>Postjuego</td>\n",
       "      <td>Hadia</td>\n",
       "      <td>Popo</td>\n",
       "    </tr>\n",
       "    <tr>\n",
       "      <th>8047</th>\n",
       "      <td>Postjuego</td>\n",
       "      <td>Hadia</td>\n",
       "      <td>Popo</td>\n",
       "    </tr>\n",
       "    <tr>\n",
       "      <th>8051</th>\n",
       "      <td>Postjuego</td>\n",
       "      <td>Hadia</td>\n",
       "      <td>Popo</td>\n",
       "    </tr>\n",
       "    <tr>\n",
       "      <th>8100</th>\n",
       "      <td>Postjuego</td>\n",
       "      <td>Hadia</td>\n",
       "      <td>Karl</td>\n",
       "    </tr>\n",
       "    <tr>\n",
       "      <th>8103</th>\n",
       "      <td>Postjuego</td>\n",
       "      <td>Hadia</td>\n",
       "      <td>Karl</td>\n",
       "    </tr>\n",
       "  </tbody>\n",
       "</table>\n",
       "<p>2839 rows × 3 columns</p>\n",
       "</div>"
      ],
      "text/plain": [
       "         period subject receptor\n",
       "61     Prejuego    Karl    Hadia\n",
       "62     Prejuego    Karl    Hadia\n",
       "63     Prejuego    Karl    Hadia\n",
       "64     Prejuego    Karl    Hadia\n",
       "77     Prejuego    Karl    Hadia\n",
       "...         ...     ...      ...\n",
       "8046  Postjuego   Hadia     Popo\n",
       "8047  Postjuego   Hadia     Popo\n",
       "8051  Postjuego   Hadia     Popo\n",
       "8100  Postjuego   Hadia     Karl\n",
       "8103  Postjuego   Hadia     Karl\n",
       "\n",
       "[2839 rows x 3 columns]"
      ]
     },
     "execution_count": 101,
     "metadata": {},
     "output_type": "execute_result"
    }
   ],
   "source": [
    "df = df.explode(RECEPTOR)\n",
    "df.loc[df[RECEPTOR] == 'Hadia*', RECEPTOR] = 'Hadia'\n",
    "df.loc[df[RECEPTOR] == 'Jawie*', RECEPTOR] = 'Jawie'\n",
    "df.loc[df[RECEPTOR] == 'locky', RECEPTOR] = 'Locky'\n",
    "df"
   ]
  },
  {
   "cell_type": "code",
   "execution_count": 102,
   "metadata": {},
   "outputs": [
    {
     "data": {
      "text/plain": [
       "subject  receptor\n",
       "Hadia    Jawie       97\n",
       "         Popo        39\n",
       "         Storma      34\n",
       "         Locky        8\n",
       "         Gibon        5\n",
       "         Karl         4\n",
       "Jawie    Hadia       95\n",
       "         Storma      57\n",
       "         Popo        18\n",
       "         Locky        4\n",
       "         Gibon        1\n",
       "Karl     Hadia       11\n",
       "         Gibon        5\n",
       "Locky    Storma      63\n",
       "         Popo        47\n",
       "         Hadia       18\n",
       "         Jawie        6\n",
       "         Gibon        2\n",
       "Popo     Locky       84\n",
       "         Hadia       60\n",
       "         Storma      43\n",
       "         Jawie       35\n",
       "         Gibon        5\n",
       "Storma   Locky       56\n",
       "         Jawie       54\n",
       "         Popo        52\n",
       "         Hadia       32\n",
       "         Karl         3\n",
       "         Gibon        1\n",
       "Name: receptor, dtype: int64"
      ]
     },
     "execution_count": 102,
     "metadata": {},
     "output_type": "execute_result"
    }
   ],
   "source": [
    "df[PERIOD] = df[PERIOD].str.lower()\n",
    "\n",
    "prejuego_df = df[df[PERIOD] == 'prejuego']\n",
    "prejuego_graph = prejuego_df.groupby(SUBJECT)[RECEPTOR] \\\n",
    "            .value_counts()\n",
    "prejuego_graph"
   ]
  },
  {
   "cell_type": "code",
   "execution_count": 103,
   "metadata": {},
   "outputs": [
    {
     "data": {
      "text/html": [
       "<div>\n",
       "<style scoped>\n",
       "    .dataframe tbody tr th:only-of-type {\n",
       "        vertical-align: middle;\n",
       "    }\n",
       "\n",
       "    .dataframe tbody tr th {\n",
       "        vertical-align: top;\n",
       "    }\n",
       "\n",
       "    .dataframe thead th {\n",
       "        text-align: right;\n",
       "    }\n",
       "</style>\n",
       "<table border=\"1\" class=\"dataframe\">\n",
       "  <thead>\n",
       "    <tr style=\"text-align: right;\">\n",
       "      <th>receptor</th>\n",
       "      <th>Hadia</th>\n",
       "      <th>Jawie</th>\n",
       "      <th>Karl</th>\n",
       "      <th>Locky</th>\n",
       "      <th>Popo</th>\n",
       "      <th>Storma</th>\n",
       "    </tr>\n",
       "    <tr>\n",
       "      <th>subject</th>\n",
       "      <th></th>\n",
       "      <th></th>\n",
       "      <th></th>\n",
       "      <th></th>\n",
       "      <th></th>\n",
       "      <th></th>\n",
       "    </tr>\n",
       "  </thead>\n",
       "  <tbody>\n",
       "    <tr>\n",
       "      <th>Hadia</th>\n",
       "      <td>0</td>\n",
       "      <td>97</td>\n",
       "      <td>4</td>\n",
       "      <td>8</td>\n",
       "      <td>39</td>\n",
       "      <td>34</td>\n",
       "    </tr>\n",
       "    <tr>\n",
       "      <th>Jawie</th>\n",
       "      <td>95</td>\n",
       "      <td>0</td>\n",
       "      <td>0</td>\n",
       "      <td>4</td>\n",
       "      <td>18</td>\n",
       "      <td>57</td>\n",
       "    </tr>\n",
       "    <tr>\n",
       "      <th>Karl</th>\n",
       "      <td>11</td>\n",
       "      <td>0</td>\n",
       "      <td>0</td>\n",
       "      <td>0</td>\n",
       "      <td>0</td>\n",
       "      <td>0</td>\n",
       "    </tr>\n",
       "    <tr>\n",
       "      <th>Locky</th>\n",
       "      <td>18</td>\n",
       "      <td>6</td>\n",
       "      <td>0</td>\n",
       "      <td>0</td>\n",
       "      <td>47</td>\n",
       "      <td>63</td>\n",
       "    </tr>\n",
       "    <tr>\n",
       "      <th>Popo</th>\n",
       "      <td>60</td>\n",
       "      <td>35</td>\n",
       "      <td>0</td>\n",
       "      <td>84</td>\n",
       "      <td>0</td>\n",
       "      <td>43</td>\n",
       "    </tr>\n",
       "    <tr>\n",
       "      <th>Storma</th>\n",
       "      <td>32</td>\n",
       "      <td>54</td>\n",
       "      <td>3</td>\n",
       "      <td>56</td>\n",
       "      <td>52</td>\n",
       "      <td>0</td>\n",
       "    </tr>\n",
       "  </tbody>\n",
       "</table>\n",
       "</div>"
      ],
      "text/plain": [
       "receptor  Hadia  Jawie  Karl  Locky  Popo  Storma\n",
       "subject                                          \n",
       "Hadia         0     97     4      8    39      34\n",
       "Jawie        95      0     0      4    18      57\n",
       "Karl         11      0     0      0     0       0\n",
       "Locky        18      6     0      0    47      63\n",
       "Popo         60     35     0     84     0      43\n",
       "Storma       32     54     3     56    52       0"
      ]
     },
     "execution_count": 103,
     "metadata": {},
     "output_type": "execute_result"
    }
   ],
   "source": [
    "df[PERIOD] = df[PERIOD].str.lower()\n",
    "\n",
    "prejuego_df = df[df[PERIOD] == 'prejuego']\n",
    "prejuego_graph = prejuego_df.groupby(SUBJECT)[RECEPTOR] \\\n",
    "            .value_counts() \\\n",
    "            .unstack(RECEPTOR) \\\n",
    "            .fillna(0) \\\n",
    "            .astype(int)\n",
    "prejuego_graph.drop(labels='Gibon', inplace=True, axis=1)\n",
    "prejuego_graph"
   ]
  },
  {
   "cell_type": "code",
   "execution_count": 106,
   "metadata": {},
   "outputs": [
    {
     "data": {
      "text/plain": [
       "subject\n",
       "Hadia     182\n",
       "Jawie     174\n",
       "Karl       11\n",
       "Locky     134\n",
       "Popo      222\n",
       "Storma    197\n",
       "dtype: int64"
      ]
     },
     "execution_count": 106,
     "metadata": {},
     "output_type": "execute_result"
    }
   ],
   "source": [
    "total = prejuego_graph.sum(axis=1)\n",
    "total"
   ]
  },
  {
   "cell_type": "code",
   "execution_count": 116,
   "metadata": {},
   "outputs": [],
   "source": [
    "prejuego_graph = prejuego_graph.divide(total, axis=0)"
   ]
  },
  {
   "cell_type": "code",
   "execution_count": 117,
   "metadata": {},
   "outputs": [],
   "source": [
    "prejuego_graph.to_csv('prejuego_graph.csv')"
   ]
  },
  {
   "cell_type": "code",
   "execution_count": 118,
   "metadata": {},
   "outputs": [],
   "source": [
    "df[PERIOD] = df[PERIOD].str.lower()\n",
    "\n",
    "postjuego_df = df[df[PERIOD] == 'postjuego']\n",
    "postjuego_graph = postjuego_df.groupby(SUBJECT)[RECEPTOR] \\\n",
    "            .value_counts() \\\n",
    "            .unstack(RECEPTOR) \\\n",
    "            .fillna(0) \\\n",
    "            .astype(int)\n",
    "postjuego_graph.drop(labels='Gibon', inplace=True, axis=1)\n",
    "postjuego_graph = postjuego_graph.divide(postjuego_graph.sum(axis=1), axis=0)\n",
    "postjuego_graph\n",
    "postjuego_graph.to_csv('postjuego_graph.csv')\n"
   ]
  },
  {
   "cell_type": "code",
   "execution_count": 115,
   "metadata": {},
   "outputs": [],
   "source": [
    "df[PERIOD] = df[PERIOD].str.lower()\n",
    "\n",
    "juego_df = df[df[PERIOD] == 'juego']\n",
    "juego_graph = juego_df.groupby(SUBJECT)[RECEPTOR] \\\n",
    "            .value_counts() \\\n",
    "            .unstack(RECEPTOR) \\\n",
    "            .fillna(0) \\\n",
    "            .astype(int)\n",
    "juego_graph.drop(labels='Gibon', inplace=True, axis=1)\n",
    "juego_graph = juego_graph.divide(juego_graph.sum(axis=1), axis=0)\n",
    "juego_graph\n",
    "juego_graph.to_csv('juego_graph.csv')"
   ]
  },
  {
   "cell_type": "code",
   "execution_count": 72,
   "metadata": {},
   "outputs": [
    {
     "data": {
      "text/html": [
       "<div>\n",
       "<style scoped>\n",
       "    .dataframe tbody tr th:only-of-type {\n",
       "        vertical-align: middle;\n",
       "    }\n",
       "\n",
       "    .dataframe tbody tr th {\n",
       "        vertical-align: top;\n",
       "    }\n",
       "\n",
       "    .dataframe thead th {\n",
       "        text-align: right;\n",
       "    }\n",
       "</style>\n",
       "<table border=\"1\" class=\"dataframe\">\n",
       "  <thead>\n",
       "    <tr style=\"text-align: right;\">\n",
       "      <th>receptor</th>\n",
       "      <th>Hadia</th>\n",
       "      <th>Jawie</th>\n",
       "      <th>Karl</th>\n",
       "      <th>Locky</th>\n",
       "      <th>Popo</th>\n",
       "      <th>Storma</th>\n",
       "    </tr>\n",
       "    <tr>\n",
       "      <th>subject</th>\n",
       "      <th></th>\n",
       "      <th></th>\n",
       "      <th></th>\n",
       "      <th></th>\n",
       "      <th></th>\n",
       "      <th></th>\n",
       "    </tr>\n",
       "  </thead>\n",
       "  <tbody>\n",
       "    <tr>\n",
       "      <th>Hadia</th>\n",
       "      <td>0.000000</td>\n",
       "      <td>0.557471</td>\n",
       "      <td>0.363636</td>\n",
       "      <td>0.059701</td>\n",
       "      <td>0.175676</td>\n",
       "      <td>0.172589</td>\n",
       "    </tr>\n",
       "    <tr>\n",
       "      <th>Jawie</th>\n",
       "      <td>0.521978</td>\n",
       "      <td>0.000000</td>\n",
       "      <td>0.000000</td>\n",
       "      <td>0.029851</td>\n",
       "      <td>0.081081</td>\n",
       "      <td>0.289340</td>\n",
       "    </tr>\n",
       "    <tr>\n",
       "      <th>Karl</th>\n",
       "      <td>0.060440</td>\n",
       "      <td>0.000000</td>\n",
       "      <td>0.000000</td>\n",
       "      <td>0.000000</td>\n",
       "      <td>0.000000</td>\n",
       "      <td>0.000000</td>\n",
       "    </tr>\n",
       "    <tr>\n",
       "      <th>Locky</th>\n",
       "      <td>0.098901</td>\n",
       "      <td>0.034483</td>\n",
       "      <td>0.000000</td>\n",
       "      <td>0.000000</td>\n",
       "      <td>0.211712</td>\n",
       "      <td>0.319797</td>\n",
       "    </tr>\n",
       "    <tr>\n",
       "      <th>Popo</th>\n",
       "      <td>0.329670</td>\n",
       "      <td>0.201149</td>\n",
       "      <td>0.000000</td>\n",
       "      <td>0.626866</td>\n",
       "      <td>0.000000</td>\n",
       "      <td>0.218274</td>\n",
       "    </tr>\n",
       "    <tr>\n",
       "      <th>Storma</th>\n",
       "      <td>0.175824</td>\n",
       "      <td>0.310345</td>\n",
       "      <td>0.272727</td>\n",
       "      <td>0.417910</td>\n",
       "      <td>0.234234</td>\n",
       "      <td>0.000000</td>\n",
       "    </tr>\n",
       "  </tbody>\n",
       "</table>\n",
       "</div>"
      ],
      "text/plain": [
       "receptor     Hadia     Jawie      Karl     Locky      Popo    Storma\n",
       "subject                                                             \n",
       "Hadia     0.000000  0.557471  0.363636  0.059701  0.175676  0.172589\n",
       "Jawie     0.521978  0.000000  0.000000  0.029851  0.081081  0.289340\n",
       "Karl      0.060440  0.000000  0.000000  0.000000  0.000000  0.000000\n",
       "Locky     0.098901  0.034483  0.000000  0.000000  0.211712  0.319797\n",
       "Popo      0.329670  0.201149  0.000000  0.626866  0.000000  0.218274\n",
       "Storma    0.175824  0.310345  0.272727  0.417910  0.234234  0.000000"
      ]
     },
     "execution_count": 72,
     "metadata": {},
     "output_type": "execute_result"
    }
   ],
   "source": [
    "porcen"
   ]
  },
  {
   "cell_type": "markdown",
   "metadata": {},
   "source": [
    "# Machine Learning"
   ]
  },
  {
   "cell_type": "code",
   "execution_count": 3,
   "metadata": {},
   "outputs": [
    {
     "data": {
      "text/html": [
       "<div>\n",
       "<style scoped>\n",
       "    .dataframe tbody tr th:only-of-type {\n",
       "        vertical-align: middle;\n",
       "    }\n",
       "\n",
       "    .dataframe tbody tr th {\n",
       "        vertical-align: top;\n",
       "    }\n",
       "\n",
       "    .dataframe thead th {\n",
       "        text-align: right;\n",
       "    }\n",
       "</style>\n",
       "<table border=\"1\" class=\"dataframe\">\n",
       "  <thead>\n",
       "    <tr style=\"text-align: right;\">\n",
       "      <th></th>\n",
       "      <th>alim</th>\n",
       "      <th>alogroo</th>\n",
       "      <th>aprox</th>\n",
       "      <th>bra</th>\n",
       "      <th>cam</th>\n",
       "      <th>chup</th>\n",
       "      <th>con</th>\n",
       "      <th>corr</th>\n",
       "      <th>cuad</th>\n",
       "      <th>forr</th>\n",
       "      <th>...</th>\n",
       "      <th>tum</th>\n",
       "      <th>Juego</th>\n",
       "      <th>Postjuego</th>\n",
       "      <th>Prejuego</th>\n",
       "      <th>Hadia</th>\n",
       "      <th>Jawie</th>\n",
       "      <th>Karl</th>\n",
       "      <th>Locky</th>\n",
       "      <th>Popo</th>\n",
       "      <th>Storma</th>\n",
       "    </tr>\n",
       "  </thead>\n",
       "  <tbody>\n",
       "    <tr>\n",
       "      <th>0</th>\n",
       "      <td>336.0</td>\n",
       "      <td>13.0</td>\n",
       "      <td>15.0</td>\n",
       "      <td>0.0</td>\n",
       "      <td>21.0</td>\n",
       "      <td>0.0</td>\n",
       "      <td>0.0</td>\n",
       "      <td>0.0</td>\n",
       "      <td>0.0</td>\n",
       "      <td>88.0</td>\n",
       "      <td>...</td>\n",
       "      <td>0.0</td>\n",
       "      <td>1</td>\n",
       "      <td>0</td>\n",
       "      <td>0</td>\n",
       "      <td>1</td>\n",
       "      <td>0</td>\n",
       "      <td>0</td>\n",
       "      <td>0</td>\n",
       "      <td>0</td>\n",
       "      <td>0</td>\n",
       "    </tr>\n",
       "    <tr>\n",
       "      <th>1</th>\n",
       "      <td>0.0</td>\n",
       "      <td>0.0</td>\n",
       "      <td>0.0</td>\n",
       "      <td>0.0</td>\n",
       "      <td>0.0</td>\n",
       "      <td>0.0</td>\n",
       "      <td>0.0</td>\n",
       "      <td>0.0</td>\n",
       "      <td>0.0</td>\n",
       "      <td>0.0</td>\n",
       "      <td>...</td>\n",
       "      <td>0.0</td>\n",
       "      <td>1</td>\n",
       "      <td>0</td>\n",
       "      <td>0</td>\n",
       "      <td>0</td>\n",
       "      <td>1</td>\n",
       "      <td>0</td>\n",
       "      <td>0</td>\n",
       "      <td>0</td>\n",
       "      <td>0</td>\n",
       "    </tr>\n",
       "    <tr>\n",
       "      <th>2</th>\n",
       "      <td>27.0</td>\n",
       "      <td>0.0</td>\n",
       "      <td>0.0</td>\n",
       "      <td>0.0</td>\n",
       "      <td>0.0</td>\n",
       "      <td>0.0</td>\n",
       "      <td>0.0</td>\n",
       "      <td>0.0</td>\n",
       "      <td>0.0</td>\n",
       "      <td>0.0</td>\n",
       "      <td>...</td>\n",
       "      <td>330.0</td>\n",
       "      <td>1</td>\n",
       "      <td>0</td>\n",
       "      <td>0</td>\n",
       "      <td>0</td>\n",
       "      <td>0</td>\n",
       "      <td>1</td>\n",
       "      <td>0</td>\n",
       "      <td>0</td>\n",
       "      <td>0</td>\n",
       "    </tr>\n",
       "    <tr>\n",
       "      <th>3</th>\n",
       "      <td>0.0</td>\n",
       "      <td>0.0</td>\n",
       "      <td>0.0</td>\n",
       "      <td>0.0</td>\n",
       "      <td>15.0</td>\n",
       "      <td>0.0</td>\n",
       "      <td>0.0</td>\n",
       "      <td>0.0</td>\n",
       "      <td>0.0</td>\n",
       "      <td>0.0</td>\n",
       "      <td>...</td>\n",
       "      <td>756.0</td>\n",
       "      <td>1</td>\n",
       "      <td>0</td>\n",
       "      <td>0</td>\n",
       "      <td>0</td>\n",
       "      <td>0</td>\n",
       "      <td>0</td>\n",
       "      <td>1</td>\n",
       "      <td>0</td>\n",
       "      <td>0</td>\n",
       "    </tr>\n",
       "    <tr>\n",
       "      <th>4</th>\n",
       "      <td>0.0</td>\n",
       "      <td>0.0</td>\n",
       "      <td>0.0</td>\n",
       "      <td>142.0</td>\n",
       "      <td>21.0</td>\n",
       "      <td>0.0</td>\n",
       "      <td>0.0</td>\n",
       "      <td>0.0</td>\n",
       "      <td>0.0</td>\n",
       "      <td>9.0</td>\n",
       "      <td>...</td>\n",
       "      <td>0.0</td>\n",
       "      <td>1</td>\n",
       "      <td>0</td>\n",
       "      <td>0</td>\n",
       "      <td>0</td>\n",
       "      <td>0</td>\n",
       "      <td>0</td>\n",
       "      <td>0</td>\n",
       "      <td>1</td>\n",
       "      <td>0</td>\n",
       "    </tr>\n",
       "  </tbody>\n",
       "</table>\n",
       "<p>5 rows × 41 columns</p>\n",
       "</div>"
      ],
      "text/plain": [
       "    alim  alogroo  aprox    bra   cam  chup  con  corr  cuad  forr  ...  \\\n",
       "0  336.0     13.0   15.0    0.0  21.0   0.0  0.0   0.0   0.0  88.0  ...   \n",
       "1    0.0      0.0    0.0    0.0   0.0   0.0  0.0   0.0   0.0   0.0  ...   \n",
       "2   27.0      0.0    0.0    0.0   0.0   0.0  0.0   0.0   0.0   0.0  ...   \n",
       "3    0.0      0.0    0.0    0.0  15.0   0.0  0.0   0.0   0.0   0.0  ...   \n",
       "4    0.0      0.0    0.0  142.0  21.0   0.0  0.0   0.0   0.0   9.0  ...   \n",
       "\n",
       "     tum  Juego  Postjuego  Prejuego  Hadia  Jawie  Karl  Locky  Popo  Storma  \n",
       "0    0.0      1          0         0      1      0     0      0     0       0  \n",
       "1    0.0      1          0         0      0      1     0      0     0       0  \n",
       "2  330.0      1          0         0      0      0     1      0     0       0  \n",
       "3  756.0      1          0         0      0      0     0      1     0       0  \n",
       "4    0.0      1          0         0      0      0     0      0     1       0  \n",
       "\n",
       "[5 rows x 41 columns]"
      ]
     },
     "execution_count": 3,
     "metadata": {},
     "output_type": "execute_result"
    }
   ],
   "source": [
    "import sklearn\n",
    "import pandas as pd\n",
    "\n",
    "mldf = pd.read_csv('./machine_learning.csv')\n",
    "mldf.drop('Unnamed: 0', axis=1, inplace=True)\n",
    "period_df = mldf.iloc[:,:-6]\n",
    "\n",
    "mldf.head()"
   ]
  },
  {
   "cell_type": "code",
   "execution_count": 4,
   "metadata": {},
   "outputs": [
    {
     "data": {
      "text/html": [
       "<div>\n",
       "<style scoped>\n",
       "    .dataframe tbody tr th:only-of-type {\n",
       "        vertical-align: middle;\n",
       "    }\n",
       "\n",
       "    .dataframe tbody tr th {\n",
       "        vertical-align: top;\n",
       "    }\n",
       "\n",
       "    .dataframe thead th {\n",
       "        text-align: right;\n",
       "    }\n",
       "</style>\n",
       "<table border=\"1\" class=\"dataframe\">\n",
       "  <thead>\n",
       "    <tr style=\"text-align: right;\">\n",
       "      <th></th>\n",
       "      <th>alim</th>\n",
       "      <th>alogroo</th>\n",
       "      <th>aprox</th>\n",
       "      <th>bra</th>\n",
       "      <th>cam</th>\n",
       "      <th>chup</th>\n",
       "      <th>con</th>\n",
       "      <th>corr</th>\n",
       "      <th>cuad</th>\n",
       "      <th>forr</th>\n",
       "      <th>...</th>\n",
       "      <th>sen</th>\n",
       "      <th>sex</th>\n",
       "      <th>solj</th>\n",
       "      <th>toca</th>\n",
       "      <th>trans</th>\n",
       "      <th>tre</th>\n",
       "      <th>tum</th>\n",
       "      <th>Juego</th>\n",
       "      <th>Postjuego</th>\n",
       "      <th>Prejuego</th>\n",
       "    </tr>\n",
       "  </thead>\n",
       "  <tbody>\n",
       "    <tr>\n",
       "      <th>0</th>\n",
       "      <td>336.0</td>\n",
       "      <td>13.0</td>\n",
       "      <td>15.0</td>\n",
       "      <td>0.0</td>\n",
       "      <td>21.0</td>\n",
       "      <td>0.0</td>\n",
       "      <td>0.0</td>\n",
       "      <td>0.0</td>\n",
       "      <td>0.0</td>\n",
       "      <td>88.0</td>\n",
       "      <td>...</td>\n",
       "      <td>0.0</td>\n",
       "      <td>0.0</td>\n",
       "      <td>0.0</td>\n",
       "      <td>0.0</td>\n",
       "      <td>0.0</td>\n",
       "      <td>3.0</td>\n",
       "      <td>0.0</td>\n",
       "      <td>1</td>\n",
       "      <td>0</td>\n",
       "      <td>0</td>\n",
       "    </tr>\n",
       "    <tr>\n",
       "      <th>1</th>\n",
       "      <td>0.0</td>\n",
       "      <td>0.0</td>\n",
       "      <td>0.0</td>\n",
       "      <td>0.0</td>\n",
       "      <td>0.0</td>\n",
       "      <td>0.0</td>\n",
       "      <td>0.0</td>\n",
       "      <td>0.0</td>\n",
       "      <td>0.0</td>\n",
       "      <td>0.0</td>\n",
       "      <td>...</td>\n",
       "      <td>0.0</td>\n",
       "      <td>0.0</td>\n",
       "      <td>0.0</td>\n",
       "      <td>0.0</td>\n",
       "      <td>19.0</td>\n",
       "      <td>0.0</td>\n",
       "      <td>0.0</td>\n",
       "      <td>1</td>\n",
       "      <td>0</td>\n",
       "      <td>0</td>\n",
       "    </tr>\n",
       "    <tr>\n",
       "      <th>2</th>\n",
       "      <td>27.0</td>\n",
       "      <td>0.0</td>\n",
       "      <td>0.0</td>\n",
       "      <td>0.0</td>\n",
       "      <td>0.0</td>\n",
       "      <td>0.0</td>\n",
       "      <td>0.0</td>\n",
       "      <td>0.0</td>\n",
       "      <td>0.0</td>\n",
       "      <td>0.0</td>\n",
       "      <td>...</td>\n",
       "      <td>166.0</td>\n",
       "      <td>0.0</td>\n",
       "      <td>0.0</td>\n",
       "      <td>0.0</td>\n",
       "      <td>0.0</td>\n",
       "      <td>0.0</td>\n",
       "      <td>330.0</td>\n",
       "      <td>1</td>\n",
       "      <td>0</td>\n",
       "      <td>0</td>\n",
       "    </tr>\n",
       "    <tr>\n",
       "      <th>3</th>\n",
       "      <td>0.0</td>\n",
       "      <td>0.0</td>\n",
       "      <td>0.0</td>\n",
       "      <td>0.0</td>\n",
       "      <td>15.0</td>\n",
       "      <td>0.0</td>\n",
       "      <td>0.0</td>\n",
       "      <td>0.0</td>\n",
       "      <td>0.0</td>\n",
       "      <td>0.0</td>\n",
       "      <td>...</td>\n",
       "      <td>169.0</td>\n",
       "      <td>0.0</td>\n",
       "      <td>0.0</td>\n",
       "      <td>0.0</td>\n",
       "      <td>0.0</td>\n",
       "      <td>50.0</td>\n",
       "      <td>756.0</td>\n",
       "      <td>1</td>\n",
       "      <td>0</td>\n",
       "      <td>0</td>\n",
       "    </tr>\n",
       "    <tr>\n",
       "      <th>4</th>\n",
       "      <td>0.0</td>\n",
       "      <td>0.0</td>\n",
       "      <td>0.0</td>\n",
       "      <td>142.0</td>\n",
       "      <td>21.0</td>\n",
       "      <td>0.0</td>\n",
       "      <td>0.0</td>\n",
       "      <td>0.0</td>\n",
       "      <td>0.0</td>\n",
       "      <td>9.0</td>\n",
       "      <td>...</td>\n",
       "      <td>0.0</td>\n",
       "      <td>0.0</td>\n",
       "      <td>0.0</td>\n",
       "      <td>0.0</td>\n",
       "      <td>0.0</td>\n",
       "      <td>45.0</td>\n",
       "      <td>0.0</td>\n",
       "      <td>1</td>\n",
       "      <td>0</td>\n",
       "      <td>0</td>\n",
       "    </tr>\n",
       "  </tbody>\n",
       "</table>\n",
       "<p>5 rows × 35 columns</p>\n",
       "</div>"
      ],
      "text/plain": [
       "    alim  alogroo  aprox    bra   cam  chup  con  corr  cuad  forr  ...  \\\n",
       "0  336.0     13.0   15.0    0.0  21.0   0.0  0.0   0.0   0.0  88.0  ...   \n",
       "1    0.0      0.0    0.0    0.0   0.0   0.0  0.0   0.0   0.0   0.0  ...   \n",
       "2   27.0      0.0    0.0    0.0   0.0   0.0  0.0   0.0   0.0   0.0  ...   \n",
       "3    0.0      0.0    0.0    0.0  15.0   0.0  0.0   0.0   0.0   0.0  ...   \n",
       "4    0.0      0.0    0.0  142.0  21.0   0.0  0.0   0.0   0.0   9.0  ...   \n",
       "\n",
       "     sen  sex  solj  toca  trans   tre    tum  Juego  Postjuego  Prejuego  \n",
       "0    0.0  0.0   0.0   0.0    0.0   3.0    0.0      1          0         0  \n",
       "1    0.0  0.0   0.0   0.0   19.0   0.0    0.0      1          0         0  \n",
       "2  166.0  0.0   0.0   0.0    0.0   0.0  330.0      1          0         0  \n",
       "3  169.0  0.0   0.0   0.0    0.0  50.0  756.0      1          0         0  \n",
       "4    0.0  0.0   0.0   0.0    0.0  45.0    0.0      1          0         0  \n",
       "\n",
       "[5 rows x 35 columns]"
      ]
     },
     "execution_count": 4,
     "metadata": {},
     "output_type": "execute_result"
    }
   ],
   "source": [
    "period_df.head()"
   ]
  },
  {
   "cell_type": "code",
   "execution_count": 138,
   "metadata": {},
   "outputs": [
    {
     "data": {
      "text/html": [
       "<div>\n",
       "<style scoped>\n",
       "    .dataframe tbody tr th:only-of-type {\n",
       "        vertical-align: middle;\n",
       "    }\n",
       "\n",
       "    .dataframe tbody tr th {\n",
       "        vertical-align: top;\n",
       "    }\n",
       "\n",
       "    .dataframe thead th {\n",
       "        text-align: right;\n",
       "    }\n",
       "</style>\n",
       "<table border=\"1\" class=\"dataframe\">\n",
       "  <thead>\n",
       "    <tr style=\"text-align: right;\">\n",
       "      <th></th>\n",
       "      <th>alim</th>\n",
       "      <th>alogroo</th>\n",
       "      <th>aprox</th>\n",
       "      <th>bra</th>\n",
       "      <th>cam</th>\n",
       "      <th>chup</th>\n",
       "      <th>con</th>\n",
       "      <th>corr</th>\n",
       "      <th>cuad</th>\n",
       "      <th>forr</th>\n",
       "      <th>...</th>\n",
       "      <th>pub</th>\n",
       "      <th>ras</th>\n",
       "      <th>roba</th>\n",
       "      <th>sen</th>\n",
       "      <th>sex</th>\n",
       "      <th>solj</th>\n",
       "      <th>toca</th>\n",
       "      <th>trans</th>\n",
       "      <th>tre</th>\n",
       "      <th>tum</th>\n",
       "    </tr>\n",
       "  </thead>\n",
       "  <tbody>\n",
       "    <tr>\n",
       "      <th>0</th>\n",
       "      <td>336.0</td>\n",
       "      <td>13.0</td>\n",
       "      <td>15.0</td>\n",
       "      <td>0.0</td>\n",
       "      <td>21.0</td>\n",
       "      <td>0.0</td>\n",
       "      <td>0.0</td>\n",
       "      <td>0.0</td>\n",
       "      <td>0.0</td>\n",
       "      <td>88.0</td>\n",
       "      <td>...</td>\n",
       "      <td>0.0</td>\n",
       "      <td>0.0</td>\n",
       "      <td>0.0</td>\n",
       "      <td>0.0</td>\n",
       "      <td>0.0</td>\n",
       "      <td>0.0</td>\n",
       "      <td>0.0</td>\n",
       "      <td>0.0</td>\n",
       "      <td>3.0</td>\n",
       "      <td>0.0</td>\n",
       "    </tr>\n",
       "    <tr>\n",
       "      <th>1</th>\n",
       "      <td>0.0</td>\n",
       "      <td>0.0</td>\n",
       "      <td>0.0</td>\n",
       "      <td>0.0</td>\n",
       "      <td>0.0</td>\n",
       "      <td>0.0</td>\n",
       "      <td>0.0</td>\n",
       "      <td>0.0</td>\n",
       "      <td>0.0</td>\n",
       "      <td>0.0</td>\n",
       "      <td>...</td>\n",
       "      <td>0.0</td>\n",
       "      <td>0.0</td>\n",
       "      <td>0.0</td>\n",
       "      <td>0.0</td>\n",
       "      <td>0.0</td>\n",
       "      <td>0.0</td>\n",
       "      <td>0.0</td>\n",
       "      <td>19.0</td>\n",
       "      <td>0.0</td>\n",
       "      <td>0.0</td>\n",
       "    </tr>\n",
       "    <tr>\n",
       "      <th>2</th>\n",
       "      <td>27.0</td>\n",
       "      <td>0.0</td>\n",
       "      <td>0.0</td>\n",
       "      <td>0.0</td>\n",
       "      <td>0.0</td>\n",
       "      <td>0.0</td>\n",
       "      <td>0.0</td>\n",
       "      <td>0.0</td>\n",
       "      <td>0.0</td>\n",
       "      <td>0.0</td>\n",
       "      <td>...</td>\n",
       "      <td>0.0</td>\n",
       "      <td>14.0</td>\n",
       "      <td>0.0</td>\n",
       "      <td>166.0</td>\n",
       "      <td>0.0</td>\n",
       "      <td>0.0</td>\n",
       "      <td>0.0</td>\n",
       "      <td>0.0</td>\n",
       "      <td>0.0</td>\n",
       "      <td>330.0</td>\n",
       "    </tr>\n",
       "    <tr>\n",
       "      <th>3</th>\n",
       "      <td>0.0</td>\n",
       "      <td>0.0</td>\n",
       "      <td>0.0</td>\n",
       "      <td>0.0</td>\n",
       "      <td>15.0</td>\n",
       "      <td>0.0</td>\n",
       "      <td>0.0</td>\n",
       "      <td>0.0</td>\n",
       "      <td>0.0</td>\n",
       "      <td>0.0</td>\n",
       "      <td>...</td>\n",
       "      <td>6.0</td>\n",
       "      <td>4.0</td>\n",
       "      <td>0.0</td>\n",
       "      <td>169.0</td>\n",
       "      <td>0.0</td>\n",
       "      <td>0.0</td>\n",
       "      <td>0.0</td>\n",
       "      <td>0.0</td>\n",
       "      <td>50.0</td>\n",
       "      <td>756.0</td>\n",
       "    </tr>\n",
       "    <tr>\n",
       "      <th>4</th>\n",
       "      <td>0.0</td>\n",
       "      <td>0.0</td>\n",
       "      <td>0.0</td>\n",
       "      <td>142.0</td>\n",
       "      <td>21.0</td>\n",
       "      <td>0.0</td>\n",
       "      <td>0.0</td>\n",
       "      <td>0.0</td>\n",
       "      <td>0.0</td>\n",
       "      <td>9.0</td>\n",
       "      <td>...</td>\n",
       "      <td>0.0</td>\n",
       "      <td>0.0</td>\n",
       "      <td>0.0</td>\n",
       "      <td>0.0</td>\n",
       "      <td>0.0</td>\n",
       "      <td>0.0</td>\n",
       "      <td>0.0</td>\n",
       "      <td>0.0</td>\n",
       "      <td>45.0</td>\n",
       "      <td>0.0</td>\n",
       "    </tr>\n",
       "    <tr>\n",
       "      <th>...</th>\n",
       "      <td>...</td>\n",
       "      <td>...</td>\n",
       "      <td>...</td>\n",
       "      <td>...</td>\n",
       "      <td>...</td>\n",
       "      <td>...</td>\n",
       "      <td>...</td>\n",
       "      <td>...</td>\n",
       "      <td>...</td>\n",
       "      <td>...</td>\n",
       "      <td>...</td>\n",
       "      <td>...</td>\n",
       "      <td>...</td>\n",
       "      <td>...</td>\n",
       "      <td>...</td>\n",
       "      <td>...</td>\n",
       "      <td>...</td>\n",
       "      <td>...</td>\n",
       "      <td>...</td>\n",
       "      <td>...</td>\n",
       "      <td>...</td>\n",
       "    </tr>\n",
       "    <tr>\n",
       "      <th>533</th>\n",
       "      <td>128.0</td>\n",
       "      <td>0.0</td>\n",
       "      <td>0.0</td>\n",
       "      <td>0.0</td>\n",
       "      <td>0.0</td>\n",
       "      <td>0.0</td>\n",
       "      <td>0.0</td>\n",
       "      <td>0.0</td>\n",
       "      <td>0.0</td>\n",
       "      <td>48.0</td>\n",
       "      <td>...</td>\n",
       "      <td>0.0</td>\n",
       "      <td>0.0</td>\n",
       "      <td>0.0</td>\n",
       "      <td>10.0</td>\n",
       "      <td>0.0</td>\n",
       "      <td>0.0</td>\n",
       "      <td>0.0</td>\n",
       "      <td>0.0</td>\n",
       "      <td>15.0</td>\n",
       "      <td>60.0</td>\n",
       "    </tr>\n",
       "    <tr>\n",
       "      <th>534</th>\n",
       "      <td>0.0</td>\n",
       "      <td>0.0</td>\n",
       "      <td>5.0</td>\n",
       "      <td>308.0</td>\n",
       "      <td>19.0</td>\n",
       "      <td>0.0</td>\n",
       "      <td>0.0</td>\n",
       "      <td>0.0</td>\n",
       "      <td>0.0</td>\n",
       "      <td>0.0</td>\n",
       "      <td>...</td>\n",
       "      <td>0.0</td>\n",
       "      <td>0.0</td>\n",
       "      <td>0.0</td>\n",
       "      <td>72.0</td>\n",
       "      <td>0.0</td>\n",
       "      <td>0.0</td>\n",
       "      <td>0.0</td>\n",
       "      <td>0.0</td>\n",
       "      <td>0.0</td>\n",
       "      <td>0.0</td>\n",
       "    </tr>\n",
       "    <tr>\n",
       "      <th>535</th>\n",
       "      <td>0.0</td>\n",
       "      <td>0.0</td>\n",
       "      <td>0.0</td>\n",
       "      <td>0.0</td>\n",
       "      <td>9.0</td>\n",
       "      <td>0.0</td>\n",
       "      <td>24.0</td>\n",
       "      <td>0.0</td>\n",
       "      <td>0.0</td>\n",
       "      <td>0.0</td>\n",
       "      <td>...</td>\n",
       "      <td>0.0</td>\n",
       "      <td>0.0</td>\n",
       "      <td>0.0</td>\n",
       "      <td>160.0</td>\n",
       "      <td>0.0</td>\n",
       "      <td>0.0</td>\n",
       "      <td>0.0</td>\n",
       "      <td>0.0</td>\n",
       "      <td>0.0</td>\n",
       "      <td>399.0</td>\n",
       "    </tr>\n",
       "    <tr>\n",
       "      <th>536</th>\n",
       "      <td>27.0</td>\n",
       "      <td>0.0</td>\n",
       "      <td>3.0</td>\n",
       "      <td>0.0</td>\n",
       "      <td>29.0</td>\n",
       "      <td>0.0</td>\n",
       "      <td>0.0</td>\n",
       "      <td>0.0</td>\n",
       "      <td>0.0</td>\n",
       "      <td>7.0</td>\n",
       "      <td>...</td>\n",
       "      <td>0.0</td>\n",
       "      <td>0.0</td>\n",
       "      <td>0.0</td>\n",
       "      <td>0.0</td>\n",
       "      <td>0.0</td>\n",
       "      <td>0.0</td>\n",
       "      <td>0.0</td>\n",
       "      <td>0.0</td>\n",
       "      <td>0.0</td>\n",
       "      <td>0.0</td>\n",
       "    </tr>\n",
       "    <tr>\n",
       "      <th>537</th>\n",
       "      <td>0.0</td>\n",
       "      <td>0.0</td>\n",
       "      <td>11.0</td>\n",
       "      <td>168.0</td>\n",
       "      <td>130.0</td>\n",
       "      <td>0.0</td>\n",
       "      <td>0.0</td>\n",
       "      <td>0.0</td>\n",
       "      <td>45.0</td>\n",
       "      <td>20.0</td>\n",
       "      <td>...</td>\n",
       "      <td>0.0</td>\n",
       "      <td>16.0</td>\n",
       "      <td>0.0</td>\n",
       "      <td>155.0</td>\n",
       "      <td>0.0</td>\n",
       "      <td>18.0</td>\n",
       "      <td>0.0</td>\n",
       "      <td>0.0</td>\n",
       "      <td>9.0</td>\n",
       "      <td>0.0</td>\n",
       "    </tr>\n",
       "  </tbody>\n",
       "</table>\n",
       "<p>538 rows × 32 columns</p>\n",
       "</div>"
      ],
      "text/plain": [
       "      alim  alogroo  aprox    bra    cam  chup   con  corr  cuad  forr  ...  \\\n",
       "0    336.0     13.0   15.0    0.0   21.0   0.0   0.0   0.0   0.0  88.0  ...   \n",
       "1      0.0      0.0    0.0    0.0    0.0   0.0   0.0   0.0   0.0   0.0  ...   \n",
       "2     27.0      0.0    0.0    0.0    0.0   0.0   0.0   0.0   0.0   0.0  ...   \n",
       "3      0.0      0.0    0.0    0.0   15.0   0.0   0.0   0.0   0.0   0.0  ...   \n",
       "4      0.0      0.0    0.0  142.0   21.0   0.0   0.0   0.0   0.0   9.0  ...   \n",
       "..     ...      ...    ...    ...    ...   ...   ...   ...   ...   ...  ...   \n",
       "533  128.0      0.0    0.0    0.0    0.0   0.0   0.0   0.0   0.0  48.0  ...   \n",
       "534    0.0      0.0    5.0  308.0   19.0   0.0   0.0   0.0   0.0   0.0  ...   \n",
       "535    0.0      0.0    0.0    0.0    9.0   0.0  24.0   0.0   0.0   0.0  ...   \n",
       "536   27.0      0.0    3.0    0.0   29.0   0.0   0.0   0.0   0.0   7.0  ...   \n",
       "537    0.0      0.0   11.0  168.0  130.0   0.0   0.0   0.0  45.0  20.0  ...   \n",
       "\n",
       "     pub   ras  roba    sen  sex  solj  toca  trans   tre    tum  \n",
       "0    0.0   0.0   0.0    0.0  0.0   0.0   0.0    0.0   3.0    0.0  \n",
       "1    0.0   0.0   0.0    0.0  0.0   0.0   0.0   19.0   0.0    0.0  \n",
       "2    0.0  14.0   0.0  166.0  0.0   0.0   0.0    0.0   0.0  330.0  \n",
       "3    6.0   4.0   0.0  169.0  0.0   0.0   0.0    0.0  50.0  756.0  \n",
       "4    0.0   0.0   0.0    0.0  0.0   0.0   0.0    0.0  45.0    0.0  \n",
       "..   ...   ...   ...    ...  ...   ...   ...    ...   ...    ...  \n",
       "533  0.0   0.0   0.0   10.0  0.0   0.0   0.0    0.0  15.0   60.0  \n",
       "534  0.0   0.0   0.0   72.0  0.0   0.0   0.0    0.0   0.0    0.0  \n",
       "535  0.0   0.0   0.0  160.0  0.0   0.0   0.0    0.0   0.0  399.0  \n",
       "536  0.0   0.0   0.0    0.0  0.0   0.0   0.0    0.0   0.0    0.0  \n",
       "537  0.0  16.0   0.0  155.0  0.0  18.0   0.0    0.0   9.0    0.0  \n",
       "\n",
       "[538 rows x 32 columns]"
      ]
     },
     "execution_count": 138,
     "metadata": {},
     "output_type": "execute_result"
    }
   ],
   "source": []
  },
  {
   "cell_type": "code",
   "execution_count": 12,
   "metadata": {},
   "outputs": [
    {
     "data": {
      "text/plain": [
       "0    1.0\n",
       "1    1.0\n",
       "2    1.0\n",
       "3    1.0\n",
       "4    1.0\n",
       "dtype: float64"
      ]
     },
     "execution_count": 12,
     "metadata": {},
     "output_type": "execute_result"
    }
   ],
   "source": [
    "from sklearn.model_selection import train_test_split\n",
    "\n",
    "split_ratio = 1/((len(period_df.columns)-1)**0.5 +1)\n",
    "\n",
    "data = period_df.drop(['Juego', 'Prejuego', 'Postjuego'], axis=1)\n",
    "data = data.divide(data.sum(axis=1), axis=0)\n"
   ]
  },
  {
   "cell_type": "code",
   "execution_count": 21,
   "metadata": {},
   "outputs": [
    {
     "name": "stdout",
     "output_type": "stream",
     "text": [
      "Dataset shape: (538, 35), Train shape: (459, 32), Test shape: (79, 32), Split ratio: 0.15\n"
     ]
    }
   ],
   "source": [
    "target = period_df[['Prejuego', 'Juego', 'Postjuego']]\n",
    "\n",
    "X_train, X_test, y_train, y_test = train_test_split(data, target, test_size=split_ratio)\n",
    "print(f'Dataset shape: {period_df.shape}, Train shape: {X_train.shape}, Test shape: {X_test.shape}, Split ratio: {split_ratio:0.2f}')"
   ]
  },
  {
   "cell_type": "code",
   "execution_count": 16,
   "metadata": {},
   "outputs": [
    {
     "data": {
      "text/html": [
       "<div>\n",
       "<style scoped>\n",
       "    .dataframe tbody tr th:only-of-type {\n",
       "        vertical-align: middle;\n",
       "    }\n",
       "\n",
       "    .dataframe tbody tr th {\n",
       "        vertical-align: top;\n",
       "    }\n",
       "\n",
       "    .dataframe thead th {\n",
       "        text-align: right;\n",
       "    }\n",
       "</style>\n",
       "<table border=\"1\" class=\"dataframe\">\n",
       "  <thead>\n",
       "    <tr style=\"text-align: right;\">\n",
       "      <th></th>\n",
       "      <th>Prejuego</th>\n",
       "      <th>Juego</th>\n",
       "      <th>Postjuego</th>\n",
       "    </tr>\n",
       "  </thead>\n",
       "  <tbody>\n",
       "    <tr>\n",
       "      <th>0</th>\n",
       "      <td>0</td>\n",
       "      <td>1</td>\n",
       "      <td>0</td>\n",
       "    </tr>\n",
       "    <tr>\n",
       "      <th>1</th>\n",
       "      <td>0</td>\n",
       "      <td>1</td>\n",
       "      <td>0</td>\n",
       "    </tr>\n",
       "    <tr>\n",
       "      <th>2</th>\n",
       "      <td>0</td>\n",
       "      <td>1</td>\n",
       "      <td>0</td>\n",
       "    </tr>\n",
       "    <tr>\n",
       "      <th>3</th>\n",
       "      <td>0</td>\n",
       "      <td>1</td>\n",
       "      <td>0</td>\n",
       "    </tr>\n",
       "    <tr>\n",
       "      <th>4</th>\n",
       "      <td>0</td>\n",
       "      <td>1</td>\n",
       "      <td>0</td>\n",
       "    </tr>\n",
       "  </tbody>\n",
       "</table>\n",
       "</div>"
      ],
      "text/plain": [
       "   Prejuego  Juego  Postjuego\n",
       "0         0      1          0\n",
       "1         0      1          0\n",
       "2         0      1          0\n",
       "3         0      1          0\n",
       "4         0      1          0"
      ]
     },
     "execution_count": 16,
     "metadata": {},
     "output_type": "execute_result"
    }
   ],
   "source": [
    "target.head()"
   ]
  },
  {
   "cell_type": "markdown",
   "metadata": {},
   "source": [
    "## Decission tree"
   ]
  },
  {
   "cell_type": "code",
   "execution_count": 22,
   "metadata": {},
   "outputs": [
    {
     "data": {
      "text/plain": [
       "0.3924050632911392"
      ]
     },
     "execution_count": 22,
     "metadata": {},
     "output_type": "execute_result"
    }
   ],
   "source": [
    "\n",
    "from sklearn.tree import DecisionTreeClassifier, plot_tree, export_graphviz\n",
    "from sklearn.metrics import confusion_matrix\n",
    "import random\n",
    "\n",
    "SEED = 13640121\n",
    "\n",
    "model = DecisionTreeClassifier(criterion=\"gini\", random_state=SEED)\n",
    "model.fit(X_train, y_train)\n",
    "model.score(X_test, y_test)"
   ]
  },
  {
   "cell_type": "code",
   "execution_count": 95,
   "metadata": {},
   "outputs": [
    {
     "data": {
      "text/html": [
       "<div>\n",
       "<style scoped>\n",
       "    .dataframe tbody tr th:only-of-type {\n",
       "        vertical-align: middle;\n",
       "    }\n",
       "\n",
       "    .dataframe tbody tr th {\n",
       "        vertical-align: top;\n",
       "    }\n",
       "\n",
       "    .dataframe thead th {\n",
       "        text-align: right;\n",
       "    }\n",
       "</style>\n",
       "<table border=\"1\" class=\"dataframe\">\n",
       "  <thead>\n",
       "    <tr style=\"text-align: right;\">\n",
       "      <th></th>\n",
       "      <th>Karl</th>\n",
       "      <th>Locky</th>\n",
       "      <th>Jawie</th>\n",
       "      <th>Storma</th>\n",
       "      <th>Popo</th>\n",
       "      <th>Hadia</th>\n",
       "    </tr>\n",
       "  </thead>\n",
       "  <tbody>\n",
       "    <tr>\n",
       "      <th>458</th>\n",
       "      <td>0</td>\n",
       "      <td>0</td>\n",
       "      <td>0</td>\n",
       "      <td>0</td>\n",
       "      <td>1</td>\n",
       "      <td>0</td>\n",
       "    </tr>\n",
       "    <tr>\n",
       "      <th>454</th>\n",
       "      <td>0</td>\n",
       "      <td>0</td>\n",
       "      <td>0</td>\n",
       "      <td>0</td>\n",
       "      <td>0</td>\n",
       "      <td>1</td>\n",
       "    </tr>\n",
       "    <tr>\n",
       "      <th>345</th>\n",
       "      <td>0</td>\n",
       "      <td>0</td>\n",
       "      <td>0</td>\n",
       "      <td>1</td>\n",
       "      <td>0</td>\n",
       "      <td>0</td>\n",
       "    </tr>\n",
       "    <tr>\n",
       "      <th>500</th>\n",
       "      <td>0</td>\n",
       "      <td>0</td>\n",
       "      <td>0</td>\n",
       "      <td>0</td>\n",
       "      <td>1</td>\n",
       "      <td>0</td>\n",
       "    </tr>\n",
       "    <tr>\n",
       "      <th>279</th>\n",
       "      <td>0</td>\n",
       "      <td>0</td>\n",
       "      <td>0</td>\n",
       "      <td>0</td>\n",
       "      <td>0</td>\n",
       "      <td>1</td>\n",
       "    </tr>\n",
       "  </tbody>\n",
       "</table>\n",
       "</div>"
      ],
      "text/plain": [
       "     Karl  Locky  Jawie  Storma  Popo  Hadia\n",
       "458     0      0      0       0     1      0\n",
       "454     0      0      0       0     0      1\n",
       "345     0      0      0       1     0      0\n",
       "500     0      0      0       0     1      0\n",
       "279     0      0      0       0     0      1"
      ]
     },
     "execution_count": 95,
     "metadata": {},
     "output_type": "execute_result"
    }
   ],
   "source": [
    "y_pred = model.predict(X_test)\n",
    "y_test.head()"
   ]
  },
  {
   "cell_type": "code",
   "execution_count": 49,
   "metadata": {},
   "outputs": [],
   "source": [
    "cm = confusion_matrix(y_test.values.argmax(axis=1), y_pred.argmax(axis=1))"
   ]
  },
  {
   "cell_type": "code",
   "execution_count": 58,
   "metadata": {},
   "outputs": [
    {
     "data": {
      "text/plain": [
       "array([[0.5391705 , 0.32846714, 0.10948905],\n",
       "       [0.20737327, 0.51094889, 0.29197079],\n",
       "       [0.20737327, 0.25547444, 0.54744523]])"
      ]
     },
     "execution_count": 58,
     "metadata": {},
     "output_type": "execute_result"
    }
   ],
   "source": [
    "cm = cm / cm.astype(np.float32).sum(axis=1)\n",
    "cm"
   ]
  },
  {
   "cell_type": "code",
   "execution_count": 60,
   "metadata": {},
   "outputs": [
    {
     "data": {
      "application/vnd.plotly.v1+json": {
       "config": {
        "plotlyServerURL": "https://plot.ly"
       },
       "data": [
        {
         "coloraxis": "coloraxis",
         "hovertemplate": "Predicted: %{x}<br>Truth: %{y}<br>Percentage: %{z}<extra></extra>",
         "name": "0",
         "type": "heatmap",
         "x": [
          "Prejuego",
          "Juego",
          "Postjuego"
         ],
         "xaxis": "x",
         "y": [
          "Prejuego",
          "Juego",
          "Postjuego"
         ],
         "yaxis": "y",
         "z": [
          [
           0.5391704990632973,
           0.3284671407089145,
           0.10948904690297148
          ],
          [
           0.20737326887049895,
           0.5109488855472003,
           0.2919707917412573
          ],
          [
           0.20737326887049895,
           0.25547444277360015,
           0.5474452345148575
          ]
         ]
        }
       ],
       "layout": {
        "coloraxis": {
         "colorbar": {
          "title": {
           "text": "Percentage"
          }
         },
         "colorscale": [
          [
           0,
           "#0d0887"
          ],
          [
           0.1111111111111111,
           "#46039f"
          ],
          [
           0.2222222222222222,
           "#7201a8"
          ],
          [
           0.3333333333333333,
           "#9c179e"
          ],
          [
           0.4444444444444444,
           "#bd3786"
          ],
          [
           0.5555555555555556,
           "#d8576b"
          ],
          [
           0.6666666666666666,
           "#ed7953"
          ],
          [
           0.7777777777777778,
           "#fb9f3a"
          ],
          [
           0.8888888888888888,
           "#fdca26"
          ],
          [
           1,
           "#f0f921"
          ]
         ]
        },
        "template": {
         "data": {
          "bar": [
           {
            "error_x": {
             "color": "#2a3f5f"
            },
            "error_y": {
             "color": "#2a3f5f"
            },
            "marker": {
             "line": {
              "color": "#E5ECF6",
              "width": 0.5
             },
             "pattern": {
              "fillmode": "overlay",
              "size": 10,
              "solidity": 0.2
             }
            },
            "type": "bar"
           }
          ],
          "barpolar": [
           {
            "marker": {
             "line": {
              "color": "#E5ECF6",
              "width": 0.5
             },
             "pattern": {
              "fillmode": "overlay",
              "size": 10,
              "solidity": 0.2
             }
            },
            "type": "barpolar"
           }
          ],
          "carpet": [
           {
            "aaxis": {
             "endlinecolor": "#2a3f5f",
             "gridcolor": "white",
             "linecolor": "white",
             "minorgridcolor": "white",
             "startlinecolor": "#2a3f5f"
            },
            "baxis": {
             "endlinecolor": "#2a3f5f",
             "gridcolor": "white",
             "linecolor": "white",
             "minorgridcolor": "white",
             "startlinecolor": "#2a3f5f"
            },
            "type": "carpet"
           }
          ],
          "choropleth": [
           {
            "colorbar": {
             "outlinewidth": 0,
             "ticks": ""
            },
            "type": "choropleth"
           }
          ],
          "contour": [
           {
            "colorbar": {
             "outlinewidth": 0,
             "ticks": ""
            },
            "colorscale": [
             [
              0,
              "#0d0887"
             ],
             [
              0.1111111111111111,
              "#46039f"
             ],
             [
              0.2222222222222222,
              "#7201a8"
             ],
             [
              0.3333333333333333,
              "#9c179e"
             ],
             [
              0.4444444444444444,
              "#bd3786"
             ],
             [
              0.5555555555555556,
              "#d8576b"
             ],
             [
              0.6666666666666666,
              "#ed7953"
             ],
             [
              0.7777777777777778,
              "#fb9f3a"
             ],
             [
              0.8888888888888888,
              "#fdca26"
             ],
             [
              1,
              "#f0f921"
             ]
            ],
            "type": "contour"
           }
          ],
          "contourcarpet": [
           {
            "colorbar": {
             "outlinewidth": 0,
             "ticks": ""
            },
            "type": "contourcarpet"
           }
          ],
          "heatmap": [
           {
            "colorbar": {
             "outlinewidth": 0,
             "ticks": ""
            },
            "colorscale": [
             [
              0,
              "#0d0887"
             ],
             [
              0.1111111111111111,
              "#46039f"
             ],
             [
              0.2222222222222222,
              "#7201a8"
             ],
             [
              0.3333333333333333,
              "#9c179e"
             ],
             [
              0.4444444444444444,
              "#bd3786"
             ],
             [
              0.5555555555555556,
              "#d8576b"
             ],
             [
              0.6666666666666666,
              "#ed7953"
             ],
             [
              0.7777777777777778,
              "#fb9f3a"
             ],
             [
              0.8888888888888888,
              "#fdca26"
             ],
             [
              1,
              "#f0f921"
             ]
            ],
            "type": "heatmap"
           }
          ],
          "heatmapgl": [
           {
            "colorbar": {
             "outlinewidth": 0,
             "ticks": ""
            },
            "colorscale": [
             [
              0,
              "#0d0887"
             ],
             [
              0.1111111111111111,
              "#46039f"
             ],
             [
              0.2222222222222222,
              "#7201a8"
             ],
             [
              0.3333333333333333,
              "#9c179e"
             ],
             [
              0.4444444444444444,
              "#bd3786"
             ],
             [
              0.5555555555555556,
              "#d8576b"
             ],
             [
              0.6666666666666666,
              "#ed7953"
             ],
             [
              0.7777777777777778,
              "#fb9f3a"
             ],
             [
              0.8888888888888888,
              "#fdca26"
             ],
             [
              1,
              "#f0f921"
             ]
            ],
            "type": "heatmapgl"
           }
          ],
          "histogram": [
           {
            "marker": {
             "pattern": {
              "fillmode": "overlay",
              "size": 10,
              "solidity": 0.2
             }
            },
            "type": "histogram"
           }
          ],
          "histogram2d": [
           {
            "colorbar": {
             "outlinewidth": 0,
             "ticks": ""
            },
            "colorscale": [
             [
              0,
              "#0d0887"
             ],
             [
              0.1111111111111111,
              "#46039f"
             ],
             [
              0.2222222222222222,
              "#7201a8"
             ],
             [
              0.3333333333333333,
              "#9c179e"
             ],
             [
              0.4444444444444444,
              "#bd3786"
             ],
             [
              0.5555555555555556,
              "#d8576b"
             ],
             [
              0.6666666666666666,
              "#ed7953"
             ],
             [
              0.7777777777777778,
              "#fb9f3a"
             ],
             [
              0.8888888888888888,
              "#fdca26"
             ],
             [
              1,
              "#f0f921"
             ]
            ],
            "type": "histogram2d"
           }
          ],
          "histogram2dcontour": [
           {
            "colorbar": {
             "outlinewidth": 0,
             "ticks": ""
            },
            "colorscale": [
             [
              0,
              "#0d0887"
             ],
             [
              0.1111111111111111,
              "#46039f"
             ],
             [
              0.2222222222222222,
              "#7201a8"
             ],
             [
              0.3333333333333333,
              "#9c179e"
             ],
             [
              0.4444444444444444,
              "#bd3786"
             ],
             [
              0.5555555555555556,
              "#d8576b"
             ],
             [
              0.6666666666666666,
              "#ed7953"
             ],
             [
              0.7777777777777778,
              "#fb9f3a"
             ],
             [
              0.8888888888888888,
              "#fdca26"
             ],
             [
              1,
              "#f0f921"
             ]
            ],
            "type": "histogram2dcontour"
           }
          ],
          "mesh3d": [
           {
            "colorbar": {
             "outlinewidth": 0,
             "ticks": ""
            },
            "type": "mesh3d"
           }
          ],
          "parcoords": [
           {
            "line": {
             "colorbar": {
              "outlinewidth": 0,
              "ticks": ""
             }
            },
            "type": "parcoords"
           }
          ],
          "pie": [
           {
            "automargin": true,
            "type": "pie"
           }
          ],
          "scatter": [
           {
            "fillpattern": {
             "fillmode": "overlay",
             "size": 10,
             "solidity": 0.2
            },
            "type": "scatter"
           }
          ],
          "scatter3d": [
           {
            "line": {
             "colorbar": {
              "outlinewidth": 0,
              "ticks": ""
             }
            },
            "marker": {
             "colorbar": {
              "outlinewidth": 0,
              "ticks": ""
             }
            },
            "type": "scatter3d"
           }
          ],
          "scattercarpet": [
           {
            "marker": {
             "colorbar": {
              "outlinewidth": 0,
              "ticks": ""
             }
            },
            "type": "scattercarpet"
           }
          ],
          "scattergeo": [
           {
            "marker": {
             "colorbar": {
              "outlinewidth": 0,
              "ticks": ""
             }
            },
            "type": "scattergeo"
           }
          ],
          "scattergl": [
           {
            "marker": {
             "colorbar": {
              "outlinewidth": 0,
              "ticks": ""
             }
            },
            "type": "scattergl"
           }
          ],
          "scattermapbox": [
           {
            "marker": {
             "colorbar": {
              "outlinewidth": 0,
              "ticks": ""
             }
            },
            "type": "scattermapbox"
           }
          ],
          "scatterpolar": [
           {
            "marker": {
             "colorbar": {
              "outlinewidth": 0,
              "ticks": ""
             }
            },
            "type": "scatterpolar"
           }
          ],
          "scatterpolargl": [
           {
            "marker": {
             "colorbar": {
              "outlinewidth": 0,
              "ticks": ""
             }
            },
            "type": "scatterpolargl"
           }
          ],
          "scatterternary": [
           {
            "marker": {
             "colorbar": {
              "outlinewidth": 0,
              "ticks": ""
             }
            },
            "type": "scatterternary"
           }
          ],
          "surface": [
           {
            "colorbar": {
             "outlinewidth": 0,
             "ticks": ""
            },
            "colorscale": [
             [
              0,
              "#0d0887"
             ],
             [
              0.1111111111111111,
              "#46039f"
             ],
             [
              0.2222222222222222,
              "#7201a8"
             ],
             [
              0.3333333333333333,
              "#9c179e"
             ],
             [
              0.4444444444444444,
              "#bd3786"
             ],
             [
              0.5555555555555556,
              "#d8576b"
             ],
             [
              0.6666666666666666,
              "#ed7953"
             ],
             [
              0.7777777777777778,
              "#fb9f3a"
             ],
             [
              0.8888888888888888,
              "#fdca26"
             ],
             [
              1,
              "#f0f921"
             ]
            ],
            "type": "surface"
           }
          ],
          "table": [
           {
            "cells": {
             "fill": {
              "color": "#EBF0F8"
             },
             "line": {
              "color": "white"
             }
            },
            "header": {
             "fill": {
              "color": "#C8D4E3"
             },
             "line": {
              "color": "white"
             }
            },
            "type": "table"
           }
          ]
         },
         "layout": {
          "annotationdefaults": {
           "arrowcolor": "#2a3f5f",
           "arrowhead": 0,
           "arrowwidth": 1
          },
          "autotypenumbers": "strict",
          "coloraxis": {
           "colorbar": {
            "outlinewidth": 0,
            "ticks": ""
           }
          },
          "colorscale": {
           "diverging": [
            [
             0,
             "#8e0152"
            ],
            [
             0.1,
             "#c51b7d"
            ],
            [
             0.2,
             "#de77ae"
            ],
            [
             0.3,
             "#f1b6da"
            ],
            [
             0.4,
             "#fde0ef"
            ],
            [
             0.5,
             "#f7f7f7"
            ],
            [
             0.6,
             "#e6f5d0"
            ],
            [
             0.7,
             "#b8e186"
            ],
            [
             0.8,
             "#7fbc41"
            ],
            [
             0.9,
             "#4d9221"
            ],
            [
             1,
             "#276419"
            ]
           ],
           "sequential": [
            [
             0,
             "#0d0887"
            ],
            [
             0.1111111111111111,
             "#46039f"
            ],
            [
             0.2222222222222222,
             "#7201a8"
            ],
            [
             0.3333333333333333,
             "#9c179e"
            ],
            [
             0.4444444444444444,
             "#bd3786"
            ],
            [
             0.5555555555555556,
             "#d8576b"
            ],
            [
             0.6666666666666666,
             "#ed7953"
            ],
            [
             0.7777777777777778,
             "#fb9f3a"
            ],
            [
             0.8888888888888888,
             "#fdca26"
            ],
            [
             1,
             "#f0f921"
            ]
           ],
           "sequentialminus": [
            [
             0,
             "#0d0887"
            ],
            [
             0.1111111111111111,
             "#46039f"
            ],
            [
             0.2222222222222222,
             "#7201a8"
            ],
            [
             0.3333333333333333,
             "#9c179e"
            ],
            [
             0.4444444444444444,
             "#bd3786"
            ],
            [
             0.5555555555555556,
             "#d8576b"
            ],
            [
             0.6666666666666666,
             "#ed7953"
            ],
            [
             0.7777777777777778,
             "#fb9f3a"
            ],
            [
             0.8888888888888888,
             "#fdca26"
            ],
            [
             1,
             "#f0f921"
            ]
           ]
          },
          "colorway": [
           "#636efa",
           "#EF553B",
           "#00cc96",
           "#ab63fa",
           "#FFA15A",
           "#19d3f3",
           "#FF6692",
           "#B6E880",
           "#FF97FF",
           "#FECB52"
          ],
          "font": {
           "color": "#2a3f5f"
          },
          "geo": {
           "bgcolor": "white",
           "lakecolor": "white",
           "landcolor": "#E5ECF6",
           "showlakes": true,
           "showland": true,
           "subunitcolor": "white"
          },
          "hoverlabel": {
           "align": "left"
          },
          "hovermode": "closest",
          "mapbox": {
           "style": "light"
          },
          "paper_bgcolor": "white",
          "plot_bgcolor": "#E5ECF6",
          "polar": {
           "angularaxis": {
            "gridcolor": "white",
            "linecolor": "white",
            "ticks": ""
           },
           "bgcolor": "#E5ECF6",
           "radialaxis": {
            "gridcolor": "white",
            "linecolor": "white",
            "ticks": ""
           }
          },
          "scene": {
           "xaxis": {
            "backgroundcolor": "#E5ECF6",
            "gridcolor": "white",
            "gridwidth": 2,
            "linecolor": "white",
            "showbackground": true,
            "ticks": "",
            "zerolinecolor": "white"
           },
           "yaxis": {
            "backgroundcolor": "#E5ECF6",
            "gridcolor": "white",
            "gridwidth": 2,
            "linecolor": "white",
            "showbackground": true,
            "ticks": "",
            "zerolinecolor": "white"
           },
           "zaxis": {
            "backgroundcolor": "#E5ECF6",
            "gridcolor": "white",
            "gridwidth": 2,
            "linecolor": "white",
            "showbackground": true,
            "ticks": "",
            "zerolinecolor": "white"
           }
          },
          "shapedefaults": {
           "line": {
            "color": "#2a3f5f"
           }
          },
          "ternary": {
           "aaxis": {
            "gridcolor": "white",
            "linecolor": "white",
            "ticks": ""
           },
           "baxis": {
            "gridcolor": "white",
            "linecolor": "white",
            "ticks": ""
           },
           "bgcolor": "#E5ECF6",
           "caxis": {
            "gridcolor": "white",
            "linecolor": "white",
            "ticks": ""
           }
          },
          "title": {
           "x": 0.05
          },
          "xaxis": {
           "automargin": true,
           "gridcolor": "white",
           "linecolor": "white",
           "ticks": "",
           "title": {
            "standoff": 15
           },
           "zerolinecolor": "white",
           "zerolinewidth": 2
          },
          "yaxis": {
           "automargin": true,
           "gridcolor": "white",
           "linecolor": "white",
           "ticks": "",
           "title": {
            "standoff": 15
           },
           "zerolinecolor": "white",
           "zerolinewidth": 2
          }
         }
        },
        "title": {
         "text": "Decission tree model confusion matrix"
        },
        "xaxis": {
         "anchor": "y",
         "constrain": "domain",
         "domain": [
          0,
          1
         ],
         "scaleanchor": "y",
         "title": {
          "text": "Predicted"
         }
        },
        "yaxis": {
         "anchor": "x",
         "autorange": "reversed",
         "constrain": "domain",
         "domain": [
          0,
          1
         ],
         "title": {
          "text": "Truth"
         }
        }
       }
      }
     },
     "metadata": {},
     "output_type": "display_data"
    }
   ],
   "source": [
    "px.imshow(cm,\n",
    "          title='Decission tree model confusion matrix',\n",
    "          labels=dict(x='Predicted', y='Truth', color='Percentage'),\n",
    "          x=['Prejuego', 'Juego', 'Postjuego'],\n",
    "          y=['Prejuego', 'Juego', 'Postjuego'])"
   ]
  },
  {
   "cell_type": "markdown",
   "metadata": {},
   "source": [
    "Same but with individuals"
   ]
  },
  {
   "cell_type": "code",
   "execution_count": 73,
   "metadata": {},
   "outputs": [
    {
     "data": {
      "text/plain": [
       "['Karl', 'Locky', 'Jawie', 'Storma', 'Popo', 'Hadia']"
      ]
     },
     "execution_count": 73,
     "metadata": {},
     "output_type": "execute_result"
    }
   ],
   "source": [
    "names = list(df['subject'].unique())\n",
    "names"
   ]
  },
  {
   "cell_type": "code",
   "execution_count": 74,
   "metadata": {},
   "outputs": [
    {
     "data": {
      "text/plain": [
       "['Prejuego', 'Juego', 'Postjuego']"
      ]
     },
     "execution_count": 74,
     "metadata": {},
     "output_type": "execute_result"
    }
   ],
   "source": [
    "periods = list(df['period'].unique())\n",
    "periods"
   ]
  },
  {
   "cell_type": "code",
   "execution_count": 75,
   "metadata": {},
   "outputs": [
    {
     "data": {
      "text/html": [
       "<div>\n",
       "<style scoped>\n",
       "    .dataframe tbody tr th:only-of-type {\n",
       "        vertical-align: middle;\n",
       "    }\n",
       "\n",
       "    .dataframe tbody tr th {\n",
       "        vertical-align: top;\n",
       "    }\n",
       "\n",
       "    .dataframe thead th {\n",
       "        text-align: right;\n",
       "    }\n",
       "</style>\n",
       "<table border=\"1\" class=\"dataframe\">\n",
       "  <thead>\n",
       "    <tr style=\"text-align: right;\">\n",
       "      <th></th>\n",
       "      <th>Unnamed: 0</th>\n",
       "      <th>date</th>\n",
       "      <th>subject</th>\n",
       "      <th>period</th>\n",
       "      <th>reg</th>\n",
       "      <th>behavior</th>\n",
       "      <th>receptor</th>\n",
       "      <th>duration</th>\n",
       "    </tr>\n",
       "  </thead>\n",
       "  <tbody>\n",
       "    <tr>\n",
       "      <th>0</th>\n",
       "      <td>0</td>\n",
       "      <td>2019-04-15</td>\n",
       "      <td>Karl</td>\n",
       "      <td>Prejuego</td>\n",
       "      <td>1</td>\n",
       "      <td>cam</td>\n",
       "      <td>[]</td>\n",
       "      <td>15.0</td>\n",
       "    </tr>\n",
       "    <tr>\n",
       "      <th>1</th>\n",
       "      <td>1</td>\n",
       "      <td>2019-04-15</td>\n",
       "      <td>Karl</td>\n",
       "      <td>Prejuego</td>\n",
       "      <td>1</td>\n",
       "      <td>forr</td>\n",
       "      <td>[]</td>\n",
       "      <td>34.0</td>\n",
       "    </tr>\n",
       "    <tr>\n",
       "      <th>2</th>\n",
       "      <td>2</td>\n",
       "      <td>2019-04-15</td>\n",
       "      <td>Karl</td>\n",
       "      <td>Prejuego</td>\n",
       "      <td>1</td>\n",
       "      <td>sen</td>\n",
       "      <td>[]</td>\n",
       "      <td>52.0</td>\n",
       "    </tr>\n",
       "    <tr>\n",
       "      <th>3</th>\n",
       "      <td>3</td>\n",
       "      <td>2019-04-15</td>\n",
       "      <td>Karl</td>\n",
       "      <td>Prejuego</td>\n",
       "      <td>1</td>\n",
       "      <td>cam</td>\n",
       "      <td>[]</td>\n",
       "      <td>5.0</td>\n",
       "    </tr>\n",
       "    <tr>\n",
       "      <th>4</th>\n",
       "      <td>4</td>\n",
       "      <td>2019-04-15</td>\n",
       "      <td>Karl</td>\n",
       "      <td>Prejuego</td>\n",
       "      <td>1</td>\n",
       "      <td>sen</td>\n",
       "      <td>[]</td>\n",
       "      <td>34.0</td>\n",
       "    </tr>\n",
       "  </tbody>\n",
       "</table>\n",
       "</div>"
      ],
      "text/plain": [
       "   Unnamed: 0        date subject    period  reg behavior receptor  duration\n",
       "0           0  2019-04-15    Karl  Prejuego    1      cam       []      15.0\n",
       "1           1  2019-04-15    Karl  Prejuego    1     forr       []      34.0\n",
       "2           2  2019-04-15    Karl  Prejuego    1      sen       []      52.0\n",
       "3           3  2019-04-15    Karl  Prejuego    1      cam       []       5.0\n",
       "4           4  2019-04-15    Karl  Prejuego    1      sen       []      34.0"
      ]
     },
     "execution_count": 75,
     "metadata": {},
     "output_type": "execute_result"
    }
   ],
   "source": [
    "df.head()"
   ]
  },
  {
   "cell_type": "code",
   "execution_count": 76,
   "metadata": {},
   "outputs": [
    {
     "data": {
      "text/html": [
       "<div>\n",
       "<style scoped>\n",
       "    .dataframe tbody tr th:only-of-type {\n",
       "        vertical-align: middle;\n",
       "    }\n",
       "\n",
       "    .dataframe tbody tr th {\n",
       "        vertical-align: top;\n",
       "    }\n",
       "\n",
       "    .dataframe thead th {\n",
       "        text-align: right;\n",
       "    }\n",
       "</style>\n",
       "<table border=\"1\" class=\"dataframe\">\n",
       "  <thead>\n",
       "    <tr style=\"text-align: right;\">\n",
       "      <th></th>\n",
       "      <th>alim</th>\n",
       "      <th>alogroo</th>\n",
       "      <th>aprox</th>\n",
       "      <th>bra</th>\n",
       "      <th>cam</th>\n",
       "      <th>chup</th>\n",
       "      <th>con</th>\n",
       "      <th>corr</th>\n",
       "      <th>cuad</th>\n",
       "      <th>forr</th>\n",
       "      <th>...</th>\n",
       "      <th>toca</th>\n",
       "      <th>trans</th>\n",
       "      <th>tre</th>\n",
       "      <th>tum</th>\n",
       "      <th>Hadia</th>\n",
       "      <th>Jawie</th>\n",
       "      <th>Karl</th>\n",
       "      <th>Locky</th>\n",
       "      <th>Popo</th>\n",
       "      <th>Storma</th>\n",
       "    </tr>\n",
       "  </thead>\n",
       "  <tbody>\n",
       "    <tr>\n",
       "      <th>0</th>\n",
       "      <td>336.0</td>\n",
       "      <td>13.0</td>\n",
       "      <td>15.0</td>\n",
       "      <td>0.0</td>\n",
       "      <td>21.0</td>\n",
       "      <td>0.0</td>\n",
       "      <td>0.0</td>\n",
       "      <td>0.0</td>\n",
       "      <td>0.0</td>\n",
       "      <td>88.0</td>\n",
       "      <td>...</td>\n",
       "      <td>0.0</td>\n",
       "      <td>0.0</td>\n",
       "      <td>3.0</td>\n",
       "      <td>0.0</td>\n",
       "      <td>1</td>\n",
       "      <td>0</td>\n",
       "      <td>0</td>\n",
       "      <td>0</td>\n",
       "      <td>0</td>\n",
       "      <td>0</td>\n",
       "    </tr>\n",
       "    <tr>\n",
       "      <th>1</th>\n",
       "      <td>0.0</td>\n",
       "      <td>0.0</td>\n",
       "      <td>0.0</td>\n",
       "      <td>0.0</td>\n",
       "      <td>0.0</td>\n",
       "      <td>0.0</td>\n",
       "      <td>0.0</td>\n",
       "      <td>0.0</td>\n",
       "      <td>0.0</td>\n",
       "      <td>0.0</td>\n",
       "      <td>...</td>\n",
       "      <td>0.0</td>\n",
       "      <td>19.0</td>\n",
       "      <td>0.0</td>\n",
       "      <td>0.0</td>\n",
       "      <td>0</td>\n",
       "      <td>1</td>\n",
       "      <td>0</td>\n",
       "      <td>0</td>\n",
       "      <td>0</td>\n",
       "      <td>0</td>\n",
       "    </tr>\n",
       "    <tr>\n",
       "      <th>2</th>\n",
       "      <td>27.0</td>\n",
       "      <td>0.0</td>\n",
       "      <td>0.0</td>\n",
       "      <td>0.0</td>\n",
       "      <td>0.0</td>\n",
       "      <td>0.0</td>\n",
       "      <td>0.0</td>\n",
       "      <td>0.0</td>\n",
       "      <td>0.0</td>\n",
       "      <td>0.0</td>\n",
       "      <td>...</td>\n",
       "      <td>0.0</td>\n",
       "      <td>0.0</td>\n",
       "      <td>0.0</td>\n",
       "      <td>330.0</td>\n",
       "      <td>0</td>\n",
       "      <td>0</td>\n",
       "      <td>1</td>\n",
       "      <td>0</td>\n",
       "      <td>0</td>\n",
       "      <td>0</td>\n",
       "    </tr>\n",
       "    <tr>\n",
       "      <th>3</th>\n",
       "      <td>0.0</td>\n",
       "      <td>0.0</td>\n",
       "      <td>0.0</td>\n",
       "      <td>0.0</td>\n",
       "      <td>15.0</td>\n",
       "      <td>0.0</td>\n",
       "      <td>0.0</td>\n",
       "      <td>0.0</td>\n",
       "      <td>0.0</td>\n",
       "      <td>0.0</td>\n",
       "      <td>...</td>\n",
       "      <td>0.0</td>\n",
       "      <td>0.0</td>\n",
       "      <td>50.0</td>\n",
       "      <td>756.0</td>\n",
       "      <td>0</td>\n",
       "      <td>0</td>\n",
       "      <td>0</td>\n",
       "      <td>1</td>\n",
       "      <td>0</td>\n",
       "      <td>0</td>\n",
       "    </tr>\n",
       "    <tr>\n",
       "      <th>4</th>\n",
       "      <td>0.0</td>\n",
       "      <td>0.0</td>\n",
       "      <td>0.0</td>\n",
       "      <td>142.0</td>\n",
       "      <td>21.0</td>\n",
       "      <td>0.0</td>\n",
       "      <td>0.0</td>\n",
       "      <td>0.0</td>\n",
       "      <td>0.0</td>\n",
       "      <td>9.0</td>\n",
       "      <td>...</td>\n",
       "      <td>0.0</td>\n",
       "      <td>0.0</td>\n",
       "      <td>45.0</td>\n",
       "      <td>0.0</td>\n",
       "      <td>0</td>\n",
       "      <td>0</td>\n",
       "      <td>0</td>\n",
       "      <td>0</td>\n",
       "      <td>1</td>\n",
       "      <td>0</td>\n",
       "    </tr>\n",
       "  </tbody>\n",
       "</table>\n",
       "<p>5 rows × 38 columns</p>\n",
       "</div>"
      ],
      "text/plain": [
       "    alim  alogroo  aprox    bra   cam  chup  con  corr  cuad  forr  ...  toca  \\\n",
       "0  336.0     13.0   15.0    0.0  21.0   0.0  0.0   0.0   0.0  88.0  ...   0.0   \n",
       "1    0.0      0.0    0.0    0.0   0.0   0.0  0.0   0.0   0.0   0.0  ...   0.0   \n",
       "2   27.0      0.0    0.0    0.0   0.0   0.0  0.0   0.0   0.0   0.0  ...   0.0   \n",
       "3    0.0      0.0    0.0    0.0  15.0   0.0  0.0   0.0   0.0   0.0  ...   0.0   \n",
       "4    0.0      0.0    0.0  142.0  21.0   0.0  0.0   0.0   0.0   9.0  ...   0.0   \n",
       "\n",
       "   trans   tre    tum  Hadia  Jawie  Karl  Locky  Popo  Storma  \n",
       "0    0.0   3.0    0.0      1      0     0      0     0       0  \n",
       "1   19.0   0.0    0.0      0      1     0      0     0       0  \n",
       "2    0.0   0.0  330.0      0      0     1      0     0       0  \n",
       "3    0.0  50.0  756.0      0      0     0      1     0       0  \n",
       "4    0.0  45.0    0.0      0      0     0      0     1       0  \n",
       "\n",
       "[5 rows x 38 columns]"
      ]
     },
     "execution_count": 76,
     "metadata": {},
     "output_type": "execute_result"
    }
   ],
   "source": [
    "subjects_df = mldf.drop(periods, axis=1)\n",
    "subjects_df.head()"
   ]
  },
  {
   "cell_type": "code",
   "execution_count": 86,
   "metadata": {},
   "outputs": [
    {
     "name": "stdout",
     "output_type": "stream",
     "text": [
      "Dataset shape: (538, 38), Train shape: (459, 32), Test shape: (79, 32), Split ratio: 0.15\n",
      "Score: 0.35443037974683544\n"
     ]
    }
   ],
   "source": [
    "data = subjects_df.drop(names,  axis=1)\n",
    "target = subjects_df[names]\n",
    "\n",
    "X_train, X_test, y_train, y_test = train_test_split(data, target, test_size=split_ratio)\n",
    "print(f'Dataset shape: {subjects_df.shape}, Train shape: {X_train.shape}, Test shape: {X_test.shape}, Split ratio: {split_ratio:0.2f}')\n",
    "\n",
    "model.fit(X_train, y_train)\n",
    "score = model.score(X_test, y_test)\n",
    "print(f'Score: {score}')\n",
    "y_pred = model.predict(X_test)\n",
    "\n",
    "cm = confusion_matrix(y_test.values.argmax(axis=1), y_pred.argmax(axis=1))\n",
    "cm = cm / cm.astype(np.float32).sum(axis=1)\n"
   ]
  },
  {
   "cell_type": "code",
   "execution_count": 87,
   "metadata": {},
   "outputs": [
    {
     "data": {
      "application/vnd.plotly.v1+json": {
       "config": {
        "plotlyServerURL": "https://plot.ly"
       },
       "data": [
        {
         "coloraxis": "coloraxis",
         "hovertemplate": "Predicted: %{x}<br>Truth: %{y}<br>Percentage: %{z}<extra></extra>",
         "name": "0",
         "type": "heatmap",
         "x": [
          "Karl",
          "Locky",
          "Jawie",
          "Storma",
          "Popo",
          "Hadia"
         ],
         "xaxis": "x",
         "y": [
          "Karl",
          "Locky",
          "Jawie",
          "Storma",
          "Popo",
          "Hadia"
         ],
         "yaxis": "y",
         "z": [
          [
           0.6470588235294118,
           0.09090909090909091,
           0.09090909090909091,
           0.26666666666666666,
           0,
           0
          ],
          [
           0.058823529411764705,
           0.45454545454545453,
           0.18181818181818182,
           0.2,
           0,
           0
          ],
          [
           0.17647058823529413,
           0.18181818181818182,
           0.2727272727272727,
           0.13333333333333333,
           0,
           0.08333333333333333
          ],
          [
           0.23529411764705882,
           0.2727272727272727,
           0.09090909090909091,
           0.2,
           0.07692307692307693,
           0.25
          ],
          [
           0,
           0.18181818181818182,
           0,
           0.26666666666666666,
           0.15384615384615385,
           0.4166666666666667
          ],
          [
           0.058823529411764705,
           0,
           0.09090909090909091,
           0.13333333333333333,
           0.3076923076923077,
           0.3333333333333333
          ]
         ]
        }
       ],
       "layout": {
        "coloraxis": {
         "colorbar": {
          "title": {
           "text": "Percentage"
          }
         },
         "colorscale": [
          [
           0,
           "#0d0887"
          ],
          [
           0.1111111111111111,
           "#46039f"
          ],
          [
           0.2222222222222222,
           "#7201a8"
          ],
          [
           0.3333333333333333,
           "#9c179e"
          ],
          [
           0.4444444444444444,
           "#bd3786"
          ],
          [
           0.5555555555555556,
           "#d8576b"
          ],
          [
           0.6666666666666666,
           "#ed7953"
          ],
          [
           0.7777777777777778,
           "#fb9f3a"
          ],
          [
           0.8888888888888888,
           "#fdca26"
          ],
          [
           1,
           "#f0f921"
          ]
         ]
        },
        "template": {
         "data": {
          "bar": [
           {
            "error_x": {
             "color": "#2a3f5f"
            },
            "error_y": {
             "color": "#2a3f5f"
            },
            "marker": {
             "line": {
              "color": "#E5ECF6",
              "width": 0.5
             },
             "pattern": {
              "fillmode": "overlay",
              "size": 10,
              "solidity": 0.2
             }
            },
            "type": "bar"
           }
          ],
          "barpolar": [
           {
            "marker": {
             "line": {
              "color": "#E5ECF6",
              "width": 0.5
             },
             "pattern": {
              "fillmode": "overlay",
              "size": 10,
              "solidity": 0.2
             }
            },
            "type": "barpolar"
           }
          ],
          "carpet": [
           {
            "aaxis": {
             "endlinecolor": "#2a3f5f",
             "gridcolor": "white",
             "linecolor": "white",
             "minorgridcolor": "white",
             "startlinecolor": "#2a3f5f"
            },
            "baxis": {
             "endlinecolor": "#2a3f5f",
             "gridcolor": "white",
             "linecolor": "white",
             "minorgridcolor": "white",
             "startlinecolor": "#2a3f5f"
            },
            "type": "carpet"
           }
          ],
          "choropleth": [
           {
            "colorbar": {
             "outlinewidth": 0,
             "ticks": ""
            },
            "type": "choropleth"
           }
          ],
          "contour": [
           {
            "colorbar": {
             "outlinewidth": 0,
             "ticks": ""
            },
            "colorscale": [
             [
              0,
              "#0d0887"
             ],
             [
              0.1111111111111111,
              "#46039f"
             ],
             [
              0.2222222222222222,
              "#7201a8"
             ],
             [
              0.3333333333333333,
              "#9c179e"
             ],
             [
              0.4444444444444444,
              "#bd3786"
             ],
             [
              0.5555555555555556,
              "#d8576b"
             ],
             [
              0.6666666666666666,
              "#ed7953"
             ],
             [
              0.7777777777777778,
              "#fb9f3a"
             ],
             [
              0.8888888888888888,
              "#fdca26"
             ],
             [
              1,
              "#f0f921"
             ]
            ],
            "type": "contour"
           }
          ],
          "contourcarpet": [
           {
            "colorbar": {
             "outlinewidth": 0,
             "ticks": ""
            },
            "type": "contourcarpet"
           }
          ],
          "heatmap": [
           {
            "colorbar": {
             "outlinewidth": 0,
             "ticks": ""
            },
            "colorscale": [
             [
              0,
              "#0d0887"
             ],
             [
              0.1111111111111111,
              "#46039f"
             ],
             [
              0.2222222222222222,
              "#7201a8"
             ],
             [
              0.3333333333333333,
              "#9c179e"
             ],
             [
              0.4444444444444444,
              "#bd3786"
             ],
             [
              0.5555555555555556,
              "#d8576b"
             ],
             [
              0.6666666666666666,
              "#ed7953"
             ],
             [
              0.7777777777777778,
              "#fb9f3a"
             ],
             [
              0.8888888888888888,
              "#fdca26"
             ],
             [
              1,
              "#f0f921"
             ]
            ],
            "type": "heatmap"
           }
          ],
          "heatmapgl": [
           {
            "colorbar": {
             "outlinewidth": 0,
             "ticks": ""
            },
            "colorscale": [
             [
              0,
              "#0d0887"
             ],
             [
              0.1111111111111111,
              "#46039f"
             ],
             [
              0.2222222222222222,
              "#7201a8"
             ],
             [
              0.3333333333333333,
              "#9c179e"
             ],
             [
              0.4444444444444444,
              "#bd3786"
             ],
             [
              0.5555555555555556,
              "#d8576b"
             ],
             [
              0.6666666666666666,
              "#ed7953"
             ],
             [
              0.7777777777777778,
              "#fb9f3a"
             ],
             [
              0.8888888888888888,
              "#fdca26"
             ],
             [
              1,
              "#f0f921"
             ]
            ],
            "type": "heatmapgl"
           }
          ],
          "histogram": [
           {
            "marker": {
             "pattern": {
              "fillmode": "overlay",
              "size": 10,
              "solidity": 0.2
             }
            },
            "type": "histogram"
           }
          ],
          "histogram2d": [
           {
            "colorbar": {
             "outlinewidth": 0,
             "ticks": ""
            },
            "colorscale": [
             [
              0,
              "#0d0887"
             ],
             [
              0.1111111111111111,
              "#46039f"
             ],
             [
              0.2222222222222222,
              "#7201a8"
             ],
             [
              0.3333333333333333,
              "#9c179e"
             ],
             [
              0.4444444444444444,
              "#bd3786"
             ],
             [
              0.5555555555555556,
              "#d8576b"
             ],
             [
              0.6666666666666666,
              "#ed7953"
             ],
             [
              0.7777777777777778,
              "#fb9f3a"
             ],
             [
              0.8888888888888888,
              "#fdca26"
             ],
             [
              1,
              "#f0f921"
             ]
            ],
            "type": "histogram2d"
           }
          ],
          "histogram2dcontour": [
           {
            "colorbar": {
             "outlinewidth": 0,
             "ticks": ""
            },
            "colorscale": [
             [
              0,
              "#0d0887"
             ],
             [
              0.1111111111111111,
              "#46039f"
             ],
             [
              0.2222222222222222,
              "#7201a8"
             ],
             [
              0.3333333333333333,
              "#9c179e"
             ],
             [
              0.4444444444444444,
              "#bd3786"
             ],
             [
              0.5555555555555556,
              "#d8576b"
             ],
             [
              0.6666666666666666,
              "#ed7953"
             ],
             [
              0.7777777777777778,
              "#fb9f3a"
             ],
             [
              0.8888888888888888,
              "#fdca26"
             ],
             [
              1,
              "#f0f921"
             ]
            ],
            "type": "histogram2dcontour"
           }
          ],
          "mesh3d": [
           {
            "colorbar": {
             "outlinewidth": 0,
             "ticks": ""
            },
            "type": "mesh3d"
           }
          ],
          "parcoords": [
           {
            "line": {
             "colorbar": {
              "outlinewidth": 0,
              "ticks": ""
             }
            },
            "type": "parcoords"
           }
          ],
          "pie": [
           {
            "automargin": true,
            "type": "pie"
           }
          ],
          "scatter": [
           {
            "fillpattern": {
             "fillmode": "overlay",
             "size": 10,
             "solidity": 0.2
            },
            "type": "scatter"
           }
          ],
          "scatter3d": [
           {
            "line": {
             "colorbar": {
              "outlinewidth": 0,
              "ticks": ""
             }
            },
            "marker": {
             "colorbar": {
              "outlinewidth": 0,
              "ticks": ""
             }
            },
            "type": "scatter3d"
           }
          ],
          "scattercarpet": [
           {
            "marker": {
             "colorbar": {
              "outlinewidth": 0,
              "ticks": ""
             }
            },
            "type": "scattercarpet"
           }
          ],
          "scattergeo": [
           {
            "marker": {
             "colorbar": {
              "outlinewidth": 0,
              "ticks": ""
             }
            },
            "type": "scattergeo"
           }
          ],
          "scattergl": [
           {
            "marker": {
             "colorbar": {
              "outlinewidth": 0,
              "ticks": ""
             }
            },
            "type": "scattergl"
           }
          ],
          "scattermapbox": [
           {
            "marker": {
             "colorbar": {
              "outlinewidth": 0,
              "ticks": ""
             }
            },
            "type": "scattermapbox"
           }
          ],
          "scatterpolar": [
           {
            "marker": {
             "colorbar": {
              "outlinewidth": 0,
              "ticks": ""
             }
            },
            "type": "scatterpolar"
           }
          ],
          "scatterpolargl": [
           {
            "marker": {
             "colorbar": {
              "outlinewidth": 0,
              "ticks": ""
             }
            },
            "type": "scatterpolargl"
           }
          ],
          "scatterternary": [
           {
            "marker": {
             "colorbar": {
              "outlinewidth": 0,
              "ticks": ""
             }
            },
            "type": "scatterternary"
           }
          ],
          "surface": [
           {
            "colorbar": {
             "outlinewidth": 0,
             "ticks": ""
            },
            "colorscale": [
             [
              0,
              "#0d0887"
             ],
             [
              0.1111111111111111,
              "#46039f"
             ],
             [
              0.2222222222222222,
              "#7201a8"
             ],
             [
              0.3333333333333333,
              "#9c179e"
             ],
             [
              0.4444444444444444,
              "#bd3786"
             ],
             [
              0.5555555555555556,
              "#d8576b"
             ],
             [
              0.6666666666666666,
              "#ed7953"
             ],
             [
              0.7777777777777778,
              "#fb9f3a"
             ],
             [
              0.8888888888888888,
              "#fdca26"
             ],
             [
              1,
              "#f0f921"
             ]
            ],
            "type": "surface"
           }
          ],
          "table": [
           {
            "cells": {
             "fill": {
              "color": "#EBF0F8"
             },
             "line": {
              "color": "white"
             }
            },
            "header": {
             "fill": {
              "color": "#C8D4E3"
             },
             "line": {
              "color": "white"
             }
            },
            "type": "table"
           }
          ]
         },
         "layout": {
          "annotationdefaults": {
           "arrowcolor": "#2a3f5f",
           "arrowhead": 0,
           "arrowwidth": 1
          },
          "autotypenumbers": "strict",
          "coloraxis": {
           "colorbar": {
            "outlinewidth": 0,
            "ticks": ""
           }
          },
          "colorscale": {
           "diverging": [
            [
             0,
             "#8e0152"
            ],
            [
             0.1,
             "#c51b7d"
            ],
            [
             0.2,
             "#de77ae"
            ],
            [
             0.3,
             "#f1b6da"
            ],
            [
             0.4,
             "#fde0ef"
            ],
            [
             0.5,
             "#f7f7f7"
            ],
            [
             0.6,
             "#e6f5d0"
            ],
            [
             0.7,
             "#b8e186"
            ],
            [
             0.8,
             "#7fbc41"
            ],
            [
             0.9,
             "#4d9221"
            ],
            [
             1,
             "#276419"
            ]
           ],
           "sequential": [
            [
             0,
             "#0d0887"
            ],
            [
             0.1111111111111111,
             "#46039f"
            ],
            [
             0.2222222222222222,
             "#7201a8"
            ],
            [
             0.3333333333333333,
             "#9c179e"
            ],
            [
             0.4444444444444444,
             "#bd3786"
            ],
            [
             0.5555555555555556,
             "#d8576b"
            ],
            [
             0.6666666666666666,
             "#ed7953"
            ],
            [
             0.7777777777777778,
             "#fb9f3a"
            ],
            [
             0.8888888888888888,
             "#fdca26"
            ],
            [
             1,
             "#f0f921"
            ]
           ],
           "sequentialminus": [
            [
             0,
             "#0d0887"
            ],
            [
             0.1111111111111111,
             "#46039f"
            ],
            [
             0.2222222222222222,
             "#7201a8"
            ],
            [
             0.3333333333333333,
             "#9c179e"
            ],
            [
             0.4444444444444444,
             "#bd3786"
            ],
            [
             0.5555555555555556,
             "#d8576b"
            ],
            [
             0.6666666666666666,
             "#ed7953"
            ],
            [
             0.7777777777777778,
             "#fb9f3a"
            ],
            [
             0.8888888888888888,
             "#fdca26"
            ],
            [
             1,
             "#f0f921"
            ]
           ]
          },
          "colorway": [
           "#636efa",
           "#EF553B",
           "#00cc96",
           "#ab63fa",
           "#FFA15A",
           "#19d3f3",
           "#FF6692",
           "#B6E880",
           "#FF97FF",
           "#FECB52"
          ],
          "font": {
           "color": "#2a3f5f"
          },
          "geo": {
           "bgcolor": "white",
           "lakecolor": "white",
           "landcolor": "#E5ECF6",
           "showlakes": true,
           "showland": true,
           "subunitcolor": "white"
          },
          "hoverlabel": {
           "align": "left"
          },
          "hovermode": "closest",
          "mapbox": {
           "style": "light"
          },
          "paper_bgcolor": "white",
          "plot_bgcolor": "#E5ECF6",
          "polar": {
           "angularaxis": {
            "gridcolor": "white",
            "linecolor": "white",
            "ticks": ""
           },
           "bgcolor": "#E5ECF6",
           "radialaxis": {
            "gridcolor": "white",
            "linecolor": "white",
            "ticks": ""
           }
          },
          "scene": {
           "xaxis": {
            "backgroundcolor": "#E5ECF6",
            "gridcolor": "white",
            "gridwidth": 2,
            "linecolor": "white",
            "showbackground": true,
            "ticks": "",
            "zerolinecolor": "white"
           },
           "yaxis": {
            "backgroundcolor": "#E5ECF6",
            "gridcolor": "white",
            "gridwidth": 2,
            "linecolor": "white",
            "showbackground": true,
            "ticks": "",
            "zerolinecolor": "white"
           },
           "zaxis": {
            "backgroundcolor": "#E5ECF6",
            "gridcolor": "white",
            "gridwidth": 2,
            "linecolor": "white",
            "showbackground": true,
            "ticks": "",
            "zerolinecolor": "white"
           }
          },
          "shapedefaults": {
           "line": {
            "color": "#2a3f5f"
           }
          },
          "ternary": {
           "aaxis": {
            "gridcolor": "white",
            "linecolor": "white",
            "ticks": ""
           },
           "baxis": {
            "gridcolor": "white",
            "linecolor": "white",
            "ticks": ""
           },
           "bgcolor": "#E5ECF6",
           "caxis": {
            "gridcolor": "white",
            "linecolor": "white",
            "ticks": ""
           }
          },
          "title": {
           "x": 0.05
          },
          "xaxis": {
           "automargin": true,
           "gridcolor": "white",
           "linecolor": "white",
           "ticks": "",
           "title": {
            "standoff": 15
           },
           "zerolinecolor": "white",
           "zerolinewidth": 2
          },
          "yaxis": {
           "automargin": true,
           "gridcolor": "white",
           "linecolor": "white",
           "ticks": "",
           "title": {
            "standoff": 15
           },
           "zerolinecolor": "white",
           "zerolinewidth": 2
          }
         }
        },
        "title": {
         "text": "Decission tree model confusion matrix"
        },
        "xaxis": {
         "anchor": "y",
         "constrain": "domain",
         "domain": [
          0,
          1
         ],
         "scaleanchor": "y",
         "title": {
          "text": "Predicted"
         }
        },
        "yaxis": {
         "anchor": "x",
         "autorange": "reversed",
         "constrain": "domain",
         "domain": [
          0,
          1
         ],
         "title": {
          "text": "Truth"
         }
        }
       }
      }
     },
     "metadata": {},
     "output_type": "display_data"
    }
   ],
   "source": [
    "px.imshow(cm,\n",
    "          title='Decission tree model confusion matrix',\n",
    "          labels=dict(x='Predicted', y='Truth', color='Percentage'),\n",
    "          x=names,\n",
    "          y=names)"
   ]
  },
  {
   "cell_type": "code",
   "execution_count": null,
   "metadata": {},
   "outputs": [],
   "source": []
  }
 ],
 "metadata": {
  "kernelspec": {
   "display_name": "Python 3 (ipykernel)",
   "language": "python",
   "name": "python3"
  },
  "language_info": {
   "codemirror_mode": {
    "name": "ipython",
    "version": 3
   },
   "file_extension": ".py",
   "mimetype": "text/x-python",
   "name": "python",
   "nbconvert_exporter": "python",
   "pygments_lexer": "ipython3",
   "version": "3.10.4"
  },
  "vscode": {
   "interpreter": {
    "hash": "51fb76d8006b5ab0e0c4fcd365bc9e8f1c8f496fafcc4f75d4d513b2517b500d"
   }
  }
 },
 "nbformat": 4,
 "nbformat_minor": 2
}
